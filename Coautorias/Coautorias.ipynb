{
 "cells": [
  {
   "cell_type": "code",
   "execution_count": 6,
   "metadata": {
    "ExecuteTime": {
     "end_time": "2021-10-28T05:37:31.421327Z",
     "start_time": "2021-10-28T05:37:31.413133Z"
    }
   },
   "outputs": [],
   "source": [
    "import pandas as pd\n",
    "from collections import defaultdict"
   ]
  },
  {
   "cell_type": "code",
   "execution_count": 7,
   "metadata": {
    "ExecuteTime": {
     "end_time": "2021-10-28T05:37:31.834119Z",
     "start_time": "2021-10-28T05:37:31.812042Z"
    }
   },
   "outputs": [],
   "source": [
    "data_authors = pd.read_csv(\"new_dblp.csv\")"
   ]
  },
  {
   "cell_type": "code",
   "execution_count": 8,
   "metadata": {
    "ExecuteTime": {
     "end_time": "2021-10-28T05:37:32.058824Z",
     "start_time": "2021-10-28T05:37:32.011882Z"
    }
   },
   "outputs": [],
   "source": [
    "def find_co_authorships(data,file):\n",
    "    dict_authors_pubs =defaultdict(list)\n",
    "    for index, row in data.iterrows():\n",
    "        dict_authors_pubs[row['id_article']].append(row['author_'])\n",
    "\n",
    "    list_edges = []\n",
    "    list_edges.append(\"source,target\\n\")\n",
    "\n",
    "    for id_article, list_authors in dict_authors_pubs.items():\n",
    "        for i in range(0,len(list_authors)):\n",
    "            for j in range(i+1,len(list_authors)):\n",
    "                a = sorted([str(list_authors[i]).strip(),str(list_authors[j]).strip()])\n",
    "                list_edges.append(str(list_authors[i]).strip()+\",\"+str(list_authors[j]).strip()+\"\\n\")\n",
    "\n",
    "    with open(file, \"w\") as f:\n",
    "            for renglon in list_edges:\n",
    "                    f.write(renglon)"
   ]
  },
  {
   "cell_type": "code",
   "execution_count": 9,
   "metadata": {
    "ExecuteTime": {
     "end_time": "2021-10-28T05:37:32.713756Z",
     "start_time": "2021-10-28T05:37:32.484449Z"
    }
   },
   "outputs": [],
   "source": [
    "find_co_authorships(data_authors,\"2015_2020_edges_unam.csv\")"
   ]
  },
  {
   "cell_type": "code",
   "execution_count": null,
   "metadata": {},
   "outputs": [],
   "source": []
  }
 ],
 "metadata": {
  "kernelspec": {
   "display_name": "Python 3",
   "language": "python",
   "name": "python3"
  },
  "language_info": {
   "codemirror_mode": {
    "name": "ipython",
    "version": 3
   },
   "file_extension": ".py",
   "mimetype": "text/x-python",
   "name": "python",
   "nbconvert_exporter": "python",
   "pygments_lexer": "ipython3",
   "version": "3.6.9"
  },
  "toc": {
   "base_numbering": 1,
   "nav_menu": {},
   "number_sections": true,
   "sideBar": true,
   "skip_h1_title": false,
   "title_cell": "Table of Contents",
   "title_sidebar": "Contents",
   "toc_cell": false,
   "toc_position": {},
   "toc_section_display": true,
   "toc_window_display": false
  }
 },
 "nbformat": 4,
 "nbformat_minor": 4
}
