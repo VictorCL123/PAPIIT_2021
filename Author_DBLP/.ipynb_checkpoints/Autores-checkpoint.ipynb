{
 "cells": [
  {
   "cell_type": "code",
   "execution_count": 5,
   "metadata": {
    "ExecuteTime": {
     "end_time": "2021-10-26T06:14:40.561506Z",
     "start_time": "2021-10-26T06:14:40.543692Z"
    }
   },
   "outputs": [],
   "source": [
    "import xml.etree.ElementTree as ET"
   ]
  },
  {
   "cell_type": "code",
   "execution_count": 6,
   "metadata": {
    "ExecuteTime": {
     "end_time": "2021-10-26T06:14:41.049027Z",
     "start_time": "2021-10-26T06:14:41.040476Z"
    }
   },
   "outputs": [],
   "source": [
    "arch = open(\"authorships_15_20_example_only.csv\",\"w\")"
   ]
  },
  {
   "cell_type": "code",
   "execution_count": 7,
   "metadata": {
    "ExecuteTime": {
     "end_time": "2021-10-26T06:14:46.317296Z",
     "start_time": "2021-10-26T06:14:46.289759Z"
    },
    "scrolled": true
   },
   "outputs": [],
   "source": [
    "arch.write(\"id_article,author,year\\n\")\n",
    "n_articulo = 0\n",
    "for event, elem in ET.iterparse(\"dblp_2015_2020_example_UTF_8.xml\", events=(\"start\",\"end\")):        \n",
    "    if (elem.tag == \"article\" or elem.tag == \"inproceedings\") and event == \"end\":\n",
    "        try:\n",
    "            articulo = elem.get('key')\n",
    "            autores = [x.text for x in elem.findall('author')]\n",
    "            anio = [x.text for x in elem.findall(\"year\")][0]\n",
    "        except:\n",
    "            continue\n",
    "        for autor in autores:\n",
    "            arch.write(articulo+\",\"+autor+\",\"+anio+\"\\n\")\n",
    "        elem.clear()"
   ]
  },
  {
   "cell_type": "code",
   "execution_count": 8,
   "metadata": {
    "ExecuteTime": {
     "end_time": "2021-10-26T06:14:47.954625Z",
     "start_time": "2021-10-26T06:14:47.951177Z"
    }
   },
   "outputs": [
    {
     "name": "stdout",
     "output_type": "stream",
     "text": [
      "tr/meltdown/m18\n"
     ]
    }
   ],
   "source": [
    "print(articulo)"
   ]
  },
  {
   "cell_type": "code",
   "execution_count": 9,
   "metadata": {
    "ExecuteTime": {
     "end_time": "2021-10-26T06:14:48.599561Z",
     "start_time": "2021-10-26T06:14:48.212192Z"
    }
   },
   "outputs": [],
   "source": [
    "arch.close()"
   ]
  },
  {
   "cell_type": "code",
   "execution_count": null,
   "metadata": {},
   "outputs": [],
   "source": []
  }
 ],
 "metadata": {
  "kernelspec": {
   "display_name": "Python 3",
   "language": "python",
   "name": "python3"
  },
  "language_info": {
   "codemirror_mode": {
    "name": "ipython",
    "version": 3
   },
   "file_extension": ".py",
   "mimetype": "text/x-python",
   "name": "python",
   "nbconvert_exporter": "python",
   "pygments_lexer": "ipython3",
   "version": "3.6.9"
  },
  "toc": {
   "base_numbering": 1,
   "nav_menu": {},
   "number_sections": true,
   "sideBar": true,
   "skip_h1_title": false,
   "title_cell": "Table of Contents",
   "title_sidebar": "Contents",
   "toc_cell": false,
   "toc_position": {},
   "toc_section_display": true,
   "toc_window_display": false
  }
 },
 "nbformat": 4,
 "nbformat_minor": 4
}
