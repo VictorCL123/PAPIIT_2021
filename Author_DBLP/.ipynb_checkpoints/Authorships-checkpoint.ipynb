{
 "cells": [
  {
   "cell_type": "markdown",
   "metadata": {},
   "source": [
    "El siguiente notebook contiene el codigo con el cual generamos la tabla de authorships realizadas del 2015 al 2020 en el archivo XML"
   ]
  },
  {
   "cell_type": "markdown",
   "metadata": {},
   "source": [
    "### Librerias"
   ]
  },
  {
   "cell_type": "code",
   "execution_count": 1,
   "metadata": {
    "ExecuteTime": {
     "end_time": "2021-10-28T06:02:53.224927Z",
     "start_time": "2021-10-28T06:02:53.218888Z"
    }
   },
   "outputs": [],
   "source": [
    "import xml.etree.ElementTree as ET"
   ]
  },
  {
   "cell_type": "markdown",
   "metadata": {},
   "source": [
    "### Funciones"
   ]
  },
  {
   "cell_type": "code",
   "execution_count": 3,
   "metadata": {
    "ExecuteTime": {
     "end_time": "2021-10-28T06:02:53.366015Z",
     "start_time": "2021-10-28T06:02:53.309611Z"
    }
   },
   "outputs": [],
   "source": [
    "def authorships(arch,xml_file):\n",
    "    arch.write(\"id_article,author,year\\n\")\n",
    "    n_articulo = 0\n",
    "    for event, elem in ET.iterparse(xml_file, events=(\"start\",\"end\")):        \n",
    "        if (elem.tag == \"article\" or elem.tag == \"inproceedings\") and event == \"end\":\n",
    "            try:\n",
    "                articulo = elem.get('key')\n",
    "                autores = [x.text for x in elem.findall('author')]\n",
    "                anio = [x.text for x in elem.findall(\"year\")][0]\n",
    "            except:\n",
    "                continue\n",
    "            for autor in autores:\n",
    "                arch.write(articulo+\",\"+autor+\",\"+anio+\"\\n\")\n",
    "            elem.clear()\n",
    "    arch.close()"
   ]
  },
  {
   "cell_type": "markdown",
   "metadata": {},
   "source": [
    "### File authorsips"
   ]
  },
  {
   "cell_type": "code",
   "execution_count": 2,
   "metadata": {
    "ExecuteTime": {
     "end_time": "2021-10-28T06:02:53.298057Z",
     "start_time": "2021-10-28T06:02:53.226876Z"
    }
   },
   "outputs": [],
   "source": [
    "# Original\n",
    "# arch = open(\"authorships_15_20_only.csv\",\"w\")\n",
    "# Example\n",
    "arch = open(\"authorships_15_20_example_only.csv\",\"w\")"
   ]
  },
  {
   "cell_type": "code",
   "execution_count": 4,
   "metadata": {
    "ExecuteTime": {
     "end_time": "2021-10-28T06:02:53.500103Z",
     "start_time": "2021-10-28T06:02:53.373538Z"
    }
   },
   "outputs": [],
   "source": [
    "# Original\n",
    "# authorships(arch,\"dblp_2015_2020_UTF_8.xml\")\n",
    "# Example\n",
    "authorships(arch,\"dblp_2015_2020_example_UTF_8.xml\")"
   ]
  }
 ],
 "metadata": {
  "kernelspec": {
   "display_name": "Python 3",
   "language": "python",
   "name": "python3"
  },
  "language_info": {
   "codemirror_mode": {
    "name": "ipython",
    "version": 3
   },
   "file_extension": ".py",
   "mimetype": "text/x-python",
   "name": "python",
   "nbconvert_exporter": "python",
   "pygments_lexer": "ipython3",
   "version": "3.6.9"
  },
  "toc": {
   "base_numbering": 1,
   "nav_menu": {},
   "number_sections": true,
   "sideBar": true,
   "skip_h1_title": false,
   "title_cell": "Table of Contents",
   "title_sidebar": "Contents",
   "toc_cell": false,
   "toc_position": {},
   "toc_section_display": true,
   "toc_window_display": false
  }
 },
 "nbformat": 4,
 "nbformat_minor": 4
}
