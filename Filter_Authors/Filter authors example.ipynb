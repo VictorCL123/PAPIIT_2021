{
 "cells": [
  {
   "cell_type": "code",
   "execution_count": 13,
   "metadata": {
    "ExecuteTime": {
     "end_time": "2021-10-28T05:21:04.067426Z",
     "start_time": "2021-10-28T05:21:04.027528Z"
    }
   },
   "outputs": [],
   "source": [
    "import pandas as pd\n",
    "import unicodedata\n",
    "import json\n",
    "from collections import Counter,defaultdict"
   ]
  },
  {
   "cell_type": "markdown",
   "metadata": {},
   "source": [
    "## Datos"
   ]
  },
  {
   "cell_type": "code",
   "execution_count": 2,
   "metadata": {
    "ExecuteTime": {
     "end_time": "2021-10-28T05:20:13.211291Z",
     "start_time": "2021-10-28T05:20:12.323139Z"
    }
   },
   "outputs": [
    {
     "data": {
      "text/html": [
       "<div>\n",
       "<style scoped>\n",
       "    .dataframe tbody tr th:only-of-type {\n",
       "        vertical-align: middle;\n",
       "    }\n",
       "\n",
       "    .dataframe tbody tr th {\n",
       "        vertical-align: top;\n",
       "    }\n",
       "\n",
       "    .dataframe thead th {\n",
       "        text-align: right;\n",
       "    }\n",
       "</style>\n",
       "<table border=\"1\" class=\"dataframe\">\n",
       "  <thead>\n",
       "    <tr style=\"text-align: right;\">\n",
       "      <th></th>\n",
       "      <th>Author</th>\n",
       "    </tr>\n",
       "  </thead>\n",
       "  <tbody>\n",
       "    <tr>\n",
       "      <th>176</th>\n",
       "      <td>jose jaime camacho escoto</td>\n",
       "    </tr>\n",
       "    <tr>\n",
       "      <th>179</th>\n",
       "      <td>jose rufino diaz uribe</td>\n",
       "    </tr>\n",
       "    <tr>\n",
       "      <th>202</th>\n",
       "      <td>lucia medina gomez</td>\n",
       "    </tr>\n",
       "    <tr>\n",
       "      <th>263</th>\n",
       "      <td>rosa maria quispe siccha</td>\n",
       "    </tr>\n",
       "    <tr>\n",
       "      <th>276</th>\n",
       "      <td>susana ramirez vizcaya</td>\n",
       "    </tr>\n",
       "  </tbody>\n",
       "</table>\n",
       "</div>"
      ],
      "text/plain": [
       "                        Author\n",
       "176  jose jaime camacho escoto\n",
       "179     jose rufino diaz uribe\n",
       "202         lucia medina gomez\n",
       "263   rosa maria quispe siccha\n",
       "276     susana ramirez vizcaya"
      ]
     },
     "execution_count": 2,
     "metadata": {},
     "output_type": "execute_result"
    }
   ],
   "source": [
    "autores = pd.read_csv(\"Authors.csv\")\n",
    "autores.sample(5)"
   ]
  },
  {
   "cell_type": "code",
   "execution_count": 3,
   "metadata": {
    "ExecuteTime": {
     "end_time": "2021-10-28T05:20:13.265702Z",
     "start_time": "2021-10-28T05:20:13.214255Z"
    }
   },
   "outputs": [
    {
     "data": {
      "text/html": [
       "<div>\n",
       "<style scoped>\n",
       "    .dataframe tbody tr th:only-of-type {\n",
       "        vertical-align: middle;\n",
       "    }\n",
       "\n",
       "    .dataframe tbody tr th {\n",
       "        vertical-align: top;\n",
       "    }\n",
       "\n",
       "    .dataframe thead th {\n",
       "        text-align: right;\n",
       "    }\n",
       "</style>\n",
       "<table border=\"1\" class=\"dataframe\">\n",
       "  <thead>\n",
       "    <tr style=\"text-align: right;\">\n",
       "      <th></th>\n",
       "      <th>id_article</th>\n",
       "      <th>author</th>\n",
       "      <th>year</th>\n",
       "    </tr>\n",
       "  </thead>\n",
       "  <tbody>\n",
       "    <tr>\n",
       "      <th>0</th>\n",
       "      <td>journals/apjor/LuoLFC17</td>\n",
       "      <td>Xiaoxiao Luo</td>\n",
       "      <td>2017</td>\n",
       "    </tr>\n",
       "    <tr>\n",
       "      <th>1</th>\n",
       "      <td>journals/apjor/LuoLFC17</td>\n",
       "      <td>Minqiang Li</td>\n",
       "      <td>2017</td>\n",
       "    </tr>\n",
       "    <tr>\n",
       "      <th>2</th>\n",
       "      <td>journals/apjor/LuoLFC17</td>\n",
       "      <td>Nan Feng</td>\n",
       "      <td>2017</td>\n",
       "    </tr>\n",
       "    <tr>\n",
       "      <th>3</th>\n",
       "      <td>journals/apjor/LuoLFC17</td>\n",
       "      <td>Fuzan Chen</td>\n",
       "      <td>2017</td>\n",
       "    </tr>\n",
       "    <tr>\n",
       "      <th>4</th>\n",
       "      <td>journals/apjor/YangKJ19</td>\n",
       "      <td>Feng Yang 0005</td>\n",
       "      <td>2019</td>\n",
       "    </tr>\n",
       "  </tbody>\n",
       "</table>\n",
       "</div>"
      ],
      "text/plain": [
       "                id_article          author  year\n",
       "0  journals/apjor/LuoLFC17    Xiaoxiao Luo  2017\n",
       "1  journals/apjor/LuoLFC17     Minqiang Li  2017\n",
       "2  journals/apjor/LuoLFC17        Nan Feng  2017\n",
       "3  journals/apjor/LuoLFC17      Fuzan Chen  2017\n",
       "4  journals/apjor/YangKJ19  Feng Yang 0005  2019"
      ]
     },
     "execution_count": 3,
     "metadata": {},
     "output_type": "execute_result"
    }
   ],
   "source": [
    "dblp = pd.read_csv(\"authorships_15_20_example_only.csv\")\n",
    "dblp.head()"
   ]
  },
  {
   "cell_type": "markdown",
   "metadata": {},
   "source": [
    "## Preprocesamiento de datos"
   ]
  },
  {
   "cell_type": "code",
   "execution_count": 4,
   "metadata": {
    "ExecuteTime": {
     "end_time": "2021-10-28T05:20:13.411011Z",
     "start_time": "2021-10-28T05:20:13.268819Z"
    }
   },
   "outputs": [],
   "source": [
    "def remove_accents(input_str):\n",
    "    nfkd_form = unicodedata.normalize('NFKD', input_str)\n",
    "    only_ascii = nfkd_form.encode('ASCII', 'ignore')\n",
    "    output_str = only_ascii.decode(\"utf-8\")\n",
    "    return output_str"
   ]
  },
  {
   "cell_type": "code",
   "execution_count": 5,
   "metadata": {
    "ExecuteTime": {
     "end_time": "2021-10-28T05:20:13.548779Z",
     "start_time": "2021-10-28T05:20:13.417633Z"
    }
   },
   "outputs": [],
   "source": [
    "def preprocesamiento_author_name(data):\n",
    "    \n",
    "    data[\"author\"] = data[\"author\"].map(lambda x:x.strip().lower())\n",
    "    data[\"author\"] = data[\"author\"].map(remove_accents)\n",
    "    data[\"author\"] = data[\"author\"].map(lambda x:x.replace(\"-\",\" \"))\n",
    "    \n",
    "    return data"
   ]
  },
  {
   "cell_type": "code",
   "execution_count": 6,
   "metadata": {
    "ExecuteTime": {
     "end_time": "2021-10-28T05:20:13.683442Z",
     "start_time": "2021-10-28T05:20:13.557544Z"
    }
   },
   "outputs": [],
   "source": [
    "dblp = preprocesamiento_author_name(dblp)"
   ]
  },
  {
   "cell_type": "code",
   "execution_count": 7,
   "metadata": {
    "ExecuteTime": {
     "end_time": "2021-10-28T05:20:13.812769Z",
     "start_time": "2021-10-28T05:20:13.687029Z"
    }
   },
   "outputs": [
    {
     "data": {
      "text/html": [
       "<div>\n",
       "<style scoped>\n",
       "    .dataframe tbody tr th:only-of-type {\n",
       "        vertical-align: middle;\n",
       "    }\n",
       "\n",
       "    .dataframe tbody tr th {\n",
       "        vertical-align: top;\n",
       "    }\n",
       "\n",
       "    .dataframe thead th {\n",
       "        text-align: right;\n",
       "    }\n",
       "</style>\n",
       "<table border=\"1\" class=\"dataframe\">\n",
       "  <thead>\n",
       "    <tr style=\"text-align: right;\">\n",
       "      <th></th>\n",
       "      <th>id_article</th>\n",
       "      <th>author</th>\n",
       "      <th>year</th>\n",
       "    </tr>\n",
       "  </thead>\n",
       "  <tbody>\n",
       "    <tr>\n",
       "      <th>0</th>\n",
       "      <td>journals/apjor/LuoLFC17</td>\n",
       "      <td>xiaoxiao luo</td>\n",
       "      <td>2017</td>\n",
       "    </tr>\n",
       "    <tr>\n",
       "      <th>1</th>\n",
       "      <td>journals/apjor/LuoLFC17</td>\n",
       "      <td>minqiang li</td>\n",
       "      <td>2017</td>\n",
       "    </tr>\n",
       "    <tr>\n",
       "      <th>2</th>\n",
       "      <td>journals/apjor/LuoLFC17</td>\n",
       "      <td>nan feng</td>\n",
       "      <td>2017</td>\n",
       "    </tr>\n",
       "    <tr>\n",
       "      <th>3</th>\n",
       "      <td>journals/apjor/LuoLFC17</td>\n",
       "      <td>fuzan chen</td>\n",
       "      <td>2017</td>\n",
       "    </tr>\n",
       "    <tr>\n",
       "      <th>4</th>\n",
       "      <td>journals/apjor/YangKJ19</td>\n",
       "      <td>feng yang 0005</td>\n",
       "      <td>2019</td>\n",
       "    </tr>\n",
       "  </tbody>\n",
       "</table>\n",
       "</div>"
      ],
      "text/plain": [
       "                id_article          author  year\n",
       "0  journals/apjor/LuoLFC17    xiaoxiao luo  2017\n",
       "1  journals/apjor/LuoLFC17     minqiang li  2017\n",
       "2  journals/apjor/LuoLFC17        nan feng  2017\n",
       "3  journals/apjor/LuoLFC17      fuzan chen  2017\n",
       "4  journals/apjor/YangKJ19  feng yang 0005  2019"
      ]
     },
     "execution_count": 7,
     "metadata": {},
     "output_type": "execute_result"
    }
   ],
   "source": [
    "dblp.head()"
   ]
  },
  {
   "cell_type": "markdown",
   "metadata": {},
   "source": [
    "## Funcion de busqueda"
   ]
  },
  {
   "cell_type": "code",
   "execution_count": 8,
   "metadata": {
    "ExecuteTime": {
     "end_time": "2021-10-28T05:20:13.888710Z",
     "start_time": "2021-10-28T05:20:13.819062Z"
    }
   },
   "outputs": [],
   "source": [
    "def validate_sing(df,firma,name):\n",
    "    try:\n",
    "        for f in firma.split(\" \"):\n",
    "            df = df[df[\"author\"].map(lambda x:True if x.count(f)>0 else False)]\n",
    "            if df.shape[0] == 0:\n",
    "                raise\n",
    "        tam = len(firma.split())\n",
    "        df = df[df[\"author\"].map(lambda x:True if len(x.split()) == tam else False)]\n",
    "        if df.shape[0] == 0:\n",
    "            raise\n",
    "        df[\"counter\"] = df[\"author\"].map(lambda x:Counter(x.split()))\n",
    "        count_autor = dict(Counter(firma.split()))\n",
    "        for f in firma.split(\" \"):\n",
    "            df = df[df[\"counter\"].map(lambda x:True if x[f] == count_autor[f] else False)]\n",
    "            if df.shape[0] == 0:\n",
    "                raise\n",
    "        if df.shape[0] > 0:\n",
    "            df[\"author_\"] = name\n",
    "            df = df.drop(columns=[\"counter\"])\n",
    "            reg = df.shape[0]\n",
    "        else:\n",
    "            raise\n",
    "        \n",
    "    except Exception as e:\n",
    "        reg = 0\n",
    "        df = pd.DataFrame(columns = ['id_article', 'author', 'year', 'author_'])\n",
    "        return reg,df\n",
    "        \n",
    "    return reg,df\n",
    "\n",
    "\n",
    "def find_sings_dblp(data,name):\n",
    "    \n",
    "    flag = 0\n",
    "    d = {}\n",
    "    lst_df = []\n",
    "    \n",
    "    arr_name = name.split(\" \")\n",
    "    \n",
    "    ####### 2 ##########    \n",
    "    if len(arr_name) == 2:    \n",
    "        lst_names = [name]\n",
    "\n",
    "    ####### 3 #####    \n",
    "    if len(arr_name) == 3:\n",
    "        lst_names = [arr_name[0]+\" \"+arr_name[1]+\" \"+arr_name[2],\n",
    "                     arr_name[0]+\" \"+arr_name[2],\n",
    "                     arr_name[0]+\" \"+arr_name[1],\n",
    "                     arr_name[0]+\" \"+arr_name[1]+\" \"+arr_name[2][0] + \".\",\n",
    "                     arr_name[0]+\" \"+arr_name[1][0] + \". \" + arr_name[2],\n",
    "                     arr_name[0][0]+\". \"+arr_name[1] + \" \" +arr_name[2]]\n",
    "        \n",
    "    ###### 4 or more ########    \n",
    "    if len(arr_name) >= 4:\n",
    "        lst_names = [arr_name[0]+\" \"+arr_name[1]+\" \"+arr_name[-2][0] + \".\",\n",
    "                     arr_name[0]+\" \"+arr_name[1][0] + \". \" + arr_name[-2],\n",
    "                     arr_name[0]+\" \"+arr_name[-2]+ \" \"+arr_name[-1],\n",
    "                     arr_name[1]+\" \"+arr_name[-2]+ \" \"+arr_name[-1],\n",
    "                     arr_name[0][0]+\". \"+arr_name[1] + \" \" +arr_name[2],\n",
    "                     arr_name[0][0]+\". \"+\" \".join(arr_name[1:]),\n",
    "                     arr_name[0]+\" \"+arr_name[1][0]+\".\" +  \" \".join(arr_name[2:]),\n",
    "                     \" \".join(arr_name[:-1]),\n",
    "                     name]\n",
    "        \n",
    "    for firma in lst_names:\n",
    "        df = data.copy()\n",
    "        reg,aux = validate_sing(df,firma,name)\n",
    "        d[firma] = reg\n",
    "        lst_df.append(aux)\n",
    "        if reg > 0:\n",
    "            flag = 1\n",
    "    if flag == 0:\n",
    "        final_articles = pd.DataFrame(columns = ['id_article', 'author', 'year', 'author_'])\n",
    "    else:\n",
    "        final_articles = pd.concat(lst_df,ignore_index=True)\n",
    "    \n",
    "    info = {}\n",
    "    info[\"Total\"] = final_articles.shape[0]\n",
    "    info[\"Resumen\"] = d\n",
    "    \n",
    "    return final_articles,info"
   ]
  },
  {
   "cell_type": "markdown",
   "metadata": {},
   "source": [
    "## Busqueda de autores"
   ]
  },
  {
   "cell_type": "code",
   "execution_count": 9,
   "metadata": {
    "ExecuteTime": {
     "end_time": "2021-10-28T05:20:14.606631Z",
     "start_time": "2021-10-28T05:20:13.890091Z"
    }
   },
   "outputs": [],
   "source": [
    "lst_autores = list(autores[\"Author\"])"
   ]
  },
  {
   "cell_type": "code",
   "execution_count": 10,
   "metadata": {
    "ExecuteTime": {
     "end_time": "2021-10-28T05:20:20.103579Z",
     "start_time": "2021-10-28T05:20:14.614440Z"
    },
    "scrolled": true
   },
   "outputs": [
    {
     "name": "stdout",
     "output_type": "stream",
     "text": [
      "33   andrew adamatzky:1\n",
      "60   carlos gershenson garcia:2\n",
      "115   francisco hernandez quiroz:1\n",
      "143   hyobin kim:1\n",
      "278   tom froese:2\n"
     ]
    }
   ],
   "source": [
    "lst_data = []\n",
    "d_mapeo = {}\n",
    "for indice,name in enumerate(lst_autores):\n",
    "\n",
    "    data,info = find_sings_dblp(dblp,name)\n",
    "    if data.shape[0] > 0:\n",
    "        #print(\"****\")\n",
    "        print(f\"{indice}   {name}:{data.shape[0]}\")\n",
    "    \n",
    "    d_mapeo[name] = info\n",
    "    lst_data.append(data)"
   ]
  },
  {
   "cell_type": "code",
   "execution_count": 14,
   "metadata": {
    "ExecuteTime": {
     "end_time": "2021-10-28T05:21:07.814612Z",
     "start_time": "2021-10-28T05:21:07.717169Z"
    }
   },
   "outputs": [],
   "source": [
    "with open('sings_example_unam.json', 'w') as outfile:\n",
    "    json.dump(d_mapeo, outfile,indent=2)"
   ]
  },
  {
   "cell_type": "code",
   "execution_count": 15,
   "metadata": {
    "ExecuteTime": {
     "end_time": "2021-10-28T05:21:17.556306Z",
     "start_time": "2021-10-28T05:21:17.482431Z"
    }
   },
   "outputs": [],
   "source": [
    "filter_dblp = pd.concat(lst_data,ignore_index=True)"
   ]
  },
  {
   "cell_type": "code",
   "execution_count": 17,
   "metadata": {
    "ExecuteTime": {
     "end_time": "2021-10-28T05:34:24.474999Z",
     "start_time": "2021-10-28T05:34:24.442012Z"
    }
   },
   "outputs": [],
   "source": [
    "filter_dblp.to_csv(\"Authors_UNAM_dblp.csv\",index=False)"
   ]
  },
  {
   "cell_type": "code",
   "execution_count": 18,
   "metadata": {
    "ExecuteTime": {
     "end_time": "2021-10-28T05:34:30.274605Z",
     "start_time": "2021-10-28T05:34:30.229893Z"
    }
   },
   "outputs": [
    {
     "data": {
      "text/html": [
       "<div>\n",
       "<style scoped>\n",
       "    .dataframe tbody tr th:only-of-type {\n",
       "        vertical-align: middle;\n",
       "    }\n",
       "\n",
       "    .dataframe tbody tr th {\n",
       "        vertical-align: top;\n",
       "    }\n",
       "\n",
       "    .dataframe thead th {\n",
       "        text-align: right;\n",
       "    }\n",
       "</style>\n",
       "<table border=\"1\" class=\"dataframe\">\n",
       "  <thead>\n",
       "    <tr style=\"text-align: right;\">\n",
       "      <th></th>\n",
       "      <th>id_article</th>\n",
       "      <th>author</th>\n",
       "      <th>year</th>\n",
       "      <th>author_</th>\n",
       "    </tr>\n",
       "  </thead>\n",
       "  <tbody>\n",
       "    <tr>\n",
       "      <th>0</th>\n",
       "      <td>journals/alife/Adamatzky15</td>\n",
       "      <td>andrew adamatzky</td>\n",
       "      <td>2015</td>\n",
       "      <td>andrew adamatzky</td>\n",
       "    </tr>\n",
       "    <tr>\n",
       "      <th>1</th>\n",
       "      <td>journals/alife/GershensonTWS20</td>\n",
       "      <td>carlos gershenson</td>\n",
       "      <td>2020</td>\n",
       "      <td>carlos gershenson garcia</td>\n",
       "    </tr>\n",
       "    <tr>\n",
       "      <th>2</th>\n",
       "      <td>journals/alife/Siqueiros-Garcia18</td>\n",
       "      <td>carlos gershenson</td>\n",
       "      <td>2018</td>\n",
       "      <td>carlos gershenson garcia</td>\n",
       "    </tr>\n",
       "    <tr>\n",
       "      <th>3</th>\n",
       "      <td>journals/alife/Hernandez-Orozco18</td>\n",
       "      <td>francisco hernandez quiroz</td>\n",
       "      <td>2018</td>\n",
       "      <td>francisco hernandez quiroz</td>\n",
       "    </tr>\n",
       "    <tr>\n",
       "      <th>4</th>\n",
       "      <td>journals/alife/KimS18</td>\n",
       "      <td>hyobin kim</td>\n",
       "      <td>2018</td>\n",
       "      <td>hyobin kim</td>\n",
       "    </tr>\n",
       "    <tr>\n",
       "      <th>5</th>\n",
       "      <td>journals/alife/TaylorBCABBDFHI16</td>\n",
       "      <td>tom froese</td>\n",
       "      <td>2016</td>\n",
       "      <td>tom froese</td>\n",
       "    </tr>\n",
       "    <tr>\n",
       "      <th>6</th>\n",
       "      <td>journals/alife/Siqueiros-Garcia18</td>\n",
       "      <td>tom froese</td>\n",
       "      <td>2018</td>\n",
       "      <td>tom froese</td>\n",
       "    </tr>\n",
       "  </tbody>\n",
       "</table>\n",
       "</div>"
      ],
      "text/plain": [
       "                          id_article                      author  year  \\\n",
       "0         journals/alife/Adamatzky15            andrew adamatzky  2015   \n",
       "1     journals/alife/GershensonTWS20           carlos gershenson  2020   \n",
       "2  journals/alife/Siqueiros-Garcia18           carlos gershenson  2018   \n",
       "3  journals/alife/Hernandez-Orozco18  francisco hernandez quiroz  2018   \n",
       "4              journals/alife/KimS18                  hyobin kim  2018   \n",
       "5   journals/alife/TaylorBCABBDFHI16                  tom froese  2016   \n",
       "6  journals/alife/Siqueiros-Garcia18                  tom froese  2018   \n",
       "\n",
       "                      author_  \n",
       "0            andrew adamatzky  \n",
       "1    carlos gershenson garcia  \n",
       "2    carlos gershenson garcia  \n",
       "3  francisco hernandez quiroz  \n",
       "4                  hyobin kim  \n",
       "5                  tom froese  \n",
       "6                  tom froese  "
      ]
     },
     "execution_count": 18,
     "metadata": {},
     "output_type": "execute_result"
    }
   ],
   "source": [
    "filter_dblp"
   ]
  },
  {
   "cell_type": "code",
   "execution_count": null,
   "metadata": {},
   "outputs": [],
   "source": []
  }
 ],
 "metadata": {
  "kernelspec": {
   "display_name": "Python 3",
   "language": "python",
   "name": "python3"
  },
  "language_info": {
   "codemirror_mode": {
    "name": "ipython",
    "version": 3
   },
   "file_extension": ".py",
   "mimetype": "text/x-python",
   "name": "python",
   "nbconvert_exporter": "python",
   "pygments_lexer": "ipython3",
   "version": "3.6.9"
  },
  "toc": {
   "base_numbering": 1,
   "nav_menu": {},
   "number_sections": true,
   "sideBar": true,
   "skip_h1_title": false,
   "title_cell": "Table of Contents",
   "title_sidebar": "Contents",
   "toc_cell": false,
   "toc_position": {},
   "toc_section_display": true,
   "toc_window_display": false
  }
 },
 "nbformat": 4,
 "nbformat_minor": 4
}
