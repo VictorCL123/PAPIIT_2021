{
 "cells": [
  {
   "cell_type": "code",
   "execution_count": 24,
   "metadata": {
    "ExecuteTime": {
     "end_time": "2021-05-28T06:15:26.174320Z",
     "start_time": "2021-05-28T06:15:23.948440Z"
    }
   },
   "outputs": [],
   "source": [
    "import pandas as pd\n",
    "import networkx as nx"
   ]
  },
  {
   "cell_type": "code",
   "execution_count": 2,
   "metadata": {
    "ExecuteTime": {
     "end_time": "2021-05-28T06:04:00.818827Z",
     "start_time": "2021-05-28T06:03:51.485568Z"
    }
   },
   "outputs": [],
   "source": [
    "df = pd.read_csv(\"authorships_15_20_only.csv\")"
   ]
  },
  {
   "cell_type": "code",
   "execution_count": 3,
   "metadata": {
    "ExecuteTime": {
     "end_time": "2021-05-28T06:04:00.886120Z",
     "start_time": "2021-05-28T06:04:00.821113Z"
    }
   },
   "outputs": [
    {
     "data": {
      "text/html": [
       "<div>\n",
       "<style scoped>\n",
       "    .dataframe tbody tr th:only-of-type {\n",
       "        vertical-align: middle;\n",
       "    }\n",
       "\n",
       "    .dataframe tbody tr th {\n",
       "        vertical-align: top;\n",
       "    }\n",
       "\n",
       "    .dataframe thead th {\n",
       "        text-align: right;\n",
       "    }\n",
       "</style>\n",
       "<table border=\"1\" class=\"dataframe\">\n",
       "  <thead>\n",
       "    <tr style=\"text-align: right;\">\n",
       "      <th></th>\n",
       "      <th>id_article</th>\n",
       "      <th>author</th>\n",
       "      <th>year</th>\n",
       "    </tr>\n",
       "  </thead>\n",
       "  <tbody>\n",
       "    <tr>\n",
       "      <th>0</th>\n",
       "      <td>tr/meltdown/s18</td>\n",
       "      <td>Paul Kocher</td>\n",
       "      <td>2018</td>\n",
       "    </tr>\n",
       "    <tr>\n",
       "      <th>1</th>\n",
       "      <td>tr/meltdown/s18</td>\n",
       "      <td>Daniel Genkin</td>\n",
       "      <td>2018</td>\n",
       "    </tr>\n",
       "    <tr>\n",
       "      <th>2</th>\n",
       "      <td>tr/meltdown/s18</td>\n",
       "      <td>Daniel Gruss</td>\n",
       "      <td>2018</td>\n",
       "    </tr>\n",
       "    <tr>\n",
       "      <th>3</th>\n",
       "      <td>tr/meltdown/s18</td>\n",
       "      <td>Werner Haas 0004</td>\n",
       "      <td>2018</td>\n",
       "    </tr>\n",
       "    <tr>\n",
       "      <th>4</th>\n",
       "      <td>tr/meltdown/s18</td>\n",
       "      <td>Mike Hamburg</td>\n",
       "      <td>2018</td>\n",
       "    </tr>\n",
       "  </tbody>\n",
       "</table>\n",
       "</div>"
      ],
      "text/plain": [
       "        id_article            author  year\n",
       "0  tr/meltdown/s18       Paul Kocher  2018\n",
       "1  tr/meltdown/s18     Daniel Genkin  2018\n",
       "2  tr/meltdown/s18      Daniel Gruss  2018\n",
       "3  tr/meltdown/s18  Werner Haas 0004  2018\n",
       "4  tr/meltdown/s18      Mike Hamburg  2018"
      ]
     },
     "execution_count": 3,
     "metadata": {},
     "output_type": "execute_result"
    }
   ],
   "source": [
    "df.head()"
   ]
  },
  {
   "cell_type": "code",
   "execution_count": 4,
   "metadata": {
    "ExecuteTime": {
     "end_time": "2021-05-28T06:04:01.855652Z",
     "start_time": "2021-05-28T06:04:00.888379Z"
    }
   },
   "outputs": [],
   "source": [
    "df[\"year\"] = df[\"year\"].astype(int)"
   ]
  },
  {
   "cell_type": "code",
   "execution_count": 5,
   "metadata": {
    "ExecuteTime": {
     "end_time": "2021-05-28T06:04:02.446618Z",
     "start_time": "2021-05-28T06:04:01.856975Z"
    }
   },
   "outputs": [],
   "source": [
    "def clean_text(x):\n",
    "    x = x.lower()\n",
    "    x = x.replace(\"-\",\" \")\n",
    "    x = x.replace(\"_\",\" \")\n",
    "    return x"
   ]
  },
  {
   "cell_type": "code",
   "execution_count": 6,
   "metadata": {
    "ExecuteTime": {
     "end_time": "2021-05-28T06:04:06.635625Z",
     "start_time": "2021-05-28T06:04:02.453504Z"
    }
   },
   "outputs": [],
   "source": [
    "df[\"author\"] = df[\"author\"].map(lambda x:clean_text(x))"
   ]
  },
  {
   "cell_type": "code",
   "execution_count": 7,
   "metadata": {
    "ExecuteTime": {
     "end_time": "2021-05-28T06:04:06.640864Z",
     "start_time": "2021-05-28T06:04:06.637178Z"
    }
   },
   "outputs": [],
   "source": [
    "autores  = [\"David Flores Peñaloza\",\"Francisco Hernández Quiroz\",\"Vladislav Khartchenko\",\n",
    "            \"Luis A. Pineda Cortés\",\"Sergio Rajsbaum Gorodesky\", \" David Rosenblueth\",\n",
    "            \"Jorge Urrutia Galicia\",\"Armando Castañeda Rojano\",\"Ricardo Strausz\",\n",
    "            \"Carlos Velarde Velázquez\",\"Fernando Gamboa R.\"]"
   ]
  },
  {
   "cell_type": "code",
   "execution_count": 8,
   "metadata": {
    "ExecuteTime": {
     "end_time": "2021-05-28T06:04:06.786586Z",
     "start_time": "2021-05-28T06:04:06.644128Z"
    }
   },
   "outputs": [],
   "source": [
    "autores  = [\"David Flores Peñaloza\",\"Francisco Hernández Quiroz\",\"Vladislav Khartchenko\",\n",
    "            \"Luis Alberto Pineda\",\"Sergio Rajsbaum\", \" David A. Rosenblueth\",\n",
    "            \"Jorge Urrutia\",\"Armando Castañeda\",\"Ricardo Strausz\",\"Carlos Velarde\"]"
   ]
  },
  {
   "cell_type": "code",
   "execution_count": 9,
   "metadata": {
    "ExecuteTime": {
     "end_time": "2021-05-28T06:04:40.090002Z",
     "start_time": "2021-05-28T06:04:06.791562Z"
    }
   },
   "outputs": [
    {
     "name": "stdout",
     "output_type": "stream",
     "text": [
      "David Flores Peñaloza\n",
      "Francisco Hernández Quiroz\n",
      "Vladislav Khartchenko\n",
      "Luis Alberto Pineda\n",
      "Sergio Rajsbaum\n",
      " David A. Rosenblueth\n",
      "Jorge Urrutia\n",
      "Armando Castañeda\n",
      "Ricardo Strausz\n",
      "Carlos Velarde\n"
     ]
    }
   ],
   "source": [
    "lst_df_autores = []\n",
    "for autor in autores:\n",
    "    print(autor)\n",
    "    autor = clean_text(autor)\n",
    "    data = df.copy()\n",
    "    for s in autor.split():\n",
    "        data = data[data[\"author\"].str.contains(s)]\n",
    "    lst_df_autores.append(data)"
   ]
  },
  {
   "cell_type": "code",
   "execution_count": 13,
   "metadata": {
    "ExecuteTime": {
     "end_time": "2021-05-28T06:05:06.975150Z",
     "start_time": "2021-05-28T06:05:06.953137Z"
    }
   },
   "outputs": [],
   "source": [
    "new_df = pd.concat(lst_df_autores,ignore_index=True)"
   ]
  },
  {
   "cell_type": "code",
   "execution_count": 17,
   "metadata": {
    "ExecuteTime": {
     "end_time": "2021-05-28T06:12:50.640757Z",
     "start_time": "2021-05-28T06:12:50.583080Z"
    }
   },
   "outputs": [],
   "source": [
    "from collections import defaultdict\n",
    "dict_authors_pubs =defaultdict(list)\n",
    "for index, row in new_df.iterrows():\n",
    "    dict_authors_pubs[row['id_article']].append(row['author'])\n",
    "\n",
    "list_edges = []\n",
    "list_edges.append(\"source,target\\n\")\n",
    "\n",
    "for id_article, list_authors in dict_authors_pubs.items():\n",
    "    for i in range(0,len(list_authors)):\n",
    "        for j in range(i+1,len(list_authors)):\n",
    "            list_edges.append(str(list_authors[i]).strip()+\",\"+str(list_authors[j]).strip()+\"\\n\")\n",
    "\n",
    "with open(\"2015_2020_edges_unam.csv\", \"w\") as f:\n",
    "        for renglon in list_edges:\n",
    "                f.write(renglon)"
   ]
  },
  {
   "cell_type": "code",
   "execution_count": 19,
   "metadata": {
    "ExecuteTime": {
     "end_time": "2021-05-28T06:13:00.569865Z",
     "start_time": "2021-05-28T06:13:00.552632Z"
    }
   },
   "outputs": [],
   "source": [
    "unam = pd.read_csv(\"2015_2020_edges_unam.csv\")"
   ]
  },
  {
   "cell_type": "code",
   "execution_count": 21,
   "metadata": {
    "ExecuteTime": {
     "end_time": "2021-05-28T06:13:13.969146Z",
     "start_time": "2021-05-28T06:13:13.950446Z"
    }
   },
   "outputs": [],
   "source": [
    "unam = unam.drop_duplicates()"
   ]
  },
  {
   "cell_type": "code",
   "execution_count": 25,
   "metadata": {
    "ExecuteTime": {
     "end_time": "2021-05-28T06:15:37.639929Z",
     "start_time": "2021-05-28T06:15:37.628626Z"
    }
   },
   "outputs": [],
   "source": [
    "G = nx.Graph()"
   ]
  },
  {
   "cell_type": "code",
   "execution_count": 26,
   "metadata": {
    "ExecuteTime": {
     "end_time": "2021-05-28T06:16:12.363107Z",
     "start_time": "2021-05-28T06:16:12.350754Z"
    }
   },
   "outputs": [],
   "source": [
    "G.add_nodes_from(autores)"
   ]
  },
  {
   "cell_type": "code",
   "execution_count": 27,
   "metadata": {
    "ExecuteTime": {
     "end_time": "2021-05-28T06:16:31.622466Z",
     "start_time": "2021-05-28T06:16:31.605374Z"
    }
   },
   "outputs": [],
   "source": [
    "G.add_edges_from(unam.values)"
   ]
  },
  {
   "cell_type": "code",
   "execution_count": 30,
   "metadata": {
    "ExecuteTime": {
     "end_time": "2021-05-28T06:18:21.981293Z",
     "start_time": "2021-05-28T06:18:21.859028Z"
    }
   },
   "outputs": [
    {
     "data": {
      "image/png": "[encoded data removed]",
      "text/plain": [
       "<Figure size 432x288 with 1 Axes>"
      ]
     },
     "metadata": {},
     "output_type": "display_data"
    }
   ],
   "source": [
    "nx.draw(G)"
   ]
  },
  {
   "cell_type": "code",
   "execution_count": 36,
   "metadata": {
    "ExecuteTime": {
     "end_time": "2021-05-28T06:20:23.933788Z",
     "start_time": "2021-05-28T06:20:23.591273Z"
    }
   },
   "outputs": [],
   "source": [
    "cuautores = df[df[\"id_article\"].isin(list(new_df[\"id_article\"]))]"
   ]
  },
  {
   "cell_type": "code",
   "execution_count": 38,
   "metadata": {
    "ExecuteTime": {
     "end_time": "2021-05-28T06:20:39.478249Z",
     "start_time": "2021-05-28T06:20:39.470529Z"
    }
   },
   "outputs": [],
   "source": [
    "cuautores.reset_index(drop=True,inplace=True)"
   ]
  },
  {
   "cell_type": "code",
   "execution_count": 43,
   "metadata": {
    "ExecuteTime": {
     "end_time": "2021-05-28T06:21:25.609973Z",
     "start_time": "2021-05-28T06:21:25.588973Z"
    }
   },
   "outputs": [],
   "source": [
    "autores = list(set(cuautores[\"author\"].values))"
   ]
  },
  {
   "cell_type": "code",
   "execution_count": 44,
   "metadata": {
    "ExecuteTime": {
     "end_time": "2021-05-28T06:21:52.649851Z",
     "start_time": "2021-05-28T06:21:52.624291Z"
    }
   },
   "outputs": [],
   "source": [
    "from collections import defaultdict\n",
    "dict_authors_pubs =defaultdict(list)\n",
    "for index, row in new_df.iterrows():\n",
    "    dict_authors_pubs[row['id_article']].append(row['author'])\n",
    "\n",
    "list_edges = []\n",
    "list_edges.append(\"source,target\\n\")\n",
    "\n",
    "for id_article, list_authors in dict_authors_pubs.items():\n",
    "    for i in range(0,len(list_authors)):\n",
    "        for j in range(i+1,len(list_authors)):\n",
    "            list_edges.append(str(list_authors[i]).strip()+\",\"+str(list_authors[j]).strip()+\"\\n\")\n",
    "\n",
    "with open(\"2015_2020_edges_total.csv\", \"w\") as f:\n",
    "        for renglon in list_edges:\n",
    "                f.write(renglon)"
   ]
  },
  {
   "cell_type": "code",
   "execution_count": 46,
   "metadata": {
    "ExecuteTime": {
     "end_time": "2021-05-28T06:22:11.023716Z",
     "start_time": "2021-05-28T06:22:11.004444Z"
    }
   },
   "outputs": [],
   "source": [
    "total = pd.read_csv(\"2015_2020_edges_total.csv\")"
   ]
  },
  {
   "cell_type": "code",
   "execution_count": 47,
   "metadata": {
    "ExecuteTime": {
     "end_time": "2021-05-28T06:22:22.093129Z",
     "start_time": "2021-05-28T06:22:22.073007Z"
    }
   },
   "outputs": [],
   "source": [
    "total = total.drop_duplicates()"
   ]
  },
  {
   "cell_type": "code",
   "execution_count": 51,
   "metadata": {
    "ExecuteTime": {
     "end_time": "2021-05-28T06:23:53.502058Z",
     "start_time": "2021-05-28T06:23:53.264949Z"
    }
   },
   "outputs": [
    {
     "data": {
      "image/png": "[encoded data removed]",
      "text/plain": [
       "<Figure size 432x288 with 1 Axes>"
      ]
     },
     "metadata": {},
     "output_type": "display_data"
    }
   ],
   "source": [
    "G = nx.Graph()\n",
    "\n",
    "G.add_nodes_from(autores)\n",
    "\n",
    "G.add_edges_from(total.values)\n",
    "\n",
    "nx.draw(G)"
   ]
  },
  {
   "cell_type": "code",
   "execution_count": null,
   "metadata": {},
   "outputs": [],
   "source": []
  }
 ],
 "metadata": {
  "kernelspec": {
   "display_name": "Python 3",
   "language": "python",
   "name": "python3"
  },
  "language_info": {
   "codemirror_mode": {
    "name": "ipython",
    "version": 3
   },
   "file_extension": ".py",
   "mimetype": "text/x-python",
   "name": "python",
   "nbconvert_exporter": "python",
   "pygments_lexer": "ipython3",
   "version": "3.6.9"
  },
  "toc": {
   "base_numbering": 1,
   "nav_menu": {},
   "number_sections": true,
   "sideBar": true,
   "skip_h1_title": false,
   "title_cell": "Table of Contents",
   "title_sidebar": "Contents",
   "toc_cell": false,
   "toc_position": {},
   "toc_section_display": true,
   "toc_window_display": false
  }
 },
 "nbformat": 4,
 "nbformat_minor": 4
}
