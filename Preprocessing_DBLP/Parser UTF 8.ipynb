{
 "cells": [
  {
   "cell_type": "markdown",
   "metadata": {},
   "source": [
    "En el siguiente notebook se muestra el codigo con el cual se realizo el parser del archivo xml original en ISO-8859-1 a UTF-8"
   ]
  },
  {
   "cell_type": "markdown",
   "metadata": {},
   "source": [
    "### Librerias"
   ]
  },
  {
   "cell_type": "code",
   "execution_count": 1,
   "metadata": {
    "ExecuteTime": {
     "end_time": "2021-10-28T05:43:39.202616Z",
     "start_time": "2021-10-28T05:43:39.198781Z"
    }
   },
   "outputs": [],
   "source": [
    "import re\n",
    "import gzip\n",
    "import html.entities"
   ]
  },
  {
   "cell_type": "markdown",
   "metadata": {},
   "source": [
    "### Funciones"
   ]
  },
  {
   "cell_type": "code",
   "execution_count": 2,
   "metadata": {
    "ExecuteTime": {
     "end_time": "2021-10-28T05:43:39.276328Z",
     "start_time": "2021-10-28T05:43:39.204254Z"
    }
   },
   "outputs": [],
   "source": [
    "def resolve_entity(m):\n",
    "    try:\n",
    "        return entities[m.group(1)]\n",
    "    except KeyError:\n",
    "        return m.group(0)    \n",
    "\n",
    "def expand_line(line):\n",
    "    return entity_re.sub(resolve_entity,line)\n",
    "\n",
    "def recode_file(original_file,final_file):\n",
    "    \"\"\"\n",
    "    Funcion principal donde se realiza el parser de los datos\n",
    "    Parametros:\n",
    "        original_file: La ruta del archivo original en formato .gzip\n",
    "        final_file: La ruta del archivo destino\n",
    "    \"\"\"\n",
    "    with gzip.open(original_file,mode=\"rt\", encoding=\"ISO-8859-1\", newline=\"\\n\") as src_file:\n",
    "        with gzip.open(final_file, mode=\"wt\", encoding=\"UTF-8\", newline=\"\\n\") as dst_file:\n",
    "            first_line=src_file.readline()\n",
    "            recoded_first_line=first_line.replace(\"ISO-8859-1\",\"UTF-8\")\n",
    "            if first_line==recoded_first_line:\n",
    "                raise ValueError(\"Source file seems to not be encoded in ISO-8859-1\") \n",
    "            dst_file.write(recoded_first_line)\n",
    "            for line in src_file:\n",
    "                dst_file.write(expand_line(line))"
   ]
  },
  {
   "cell_type": "code",
   "execution_count": 3,
   "metadata": {
    "ExecuteTime": {
     "end_time": "2021-10-28T05:43:39.391888Z",
     "start_time": "2021-10-28T05:43:39.280213Z"
    }
   },
   "outputs": [],
   "source": [
    "entities={k:v for k,v in html.entities.entitydefs.items() if v not in \"&'\\\"<>\"}\n",
    "\n",
    "entity_re=re.compile(\"&([^;]+);\")    "
   ]
  },
  {
   "cell_type": "markdown",
   "metadata": {},
   "source": [
    "### Encoding"
   ]
  },
  {
   "cell_type": "code",
   "execution_count": 4,
   "metadata": {
    "ExecuteTime": {
     "end_time": "2021-10-28T05:43:39.556074Z",
     "start_time": "2021-10-28T05:43:39.396949Z"
    }
   },
   "outputs": [],
   "source": [
    "# Data original\n",
    "# recode_file(\"dblp.xml.gz\",\"dblp_UTF_8.xml.gz\")\n",
    "# Example\n",
    "recode_file(\"dblp_example.xml.gz\",\"dblp_example_UTF_8.xml.gz\")"
   ]
  }
 ],
 "metadata": {
  "kernelspec": {
   "display_name": "Python 3",
   "language": "python",
   "name": "python3"
  },
  "language_info": {
   "codemirror_mode": {
    "name": "ipython",
    "version": 3
   },
   "file_extension": ".py",
   "mimetype": "text/x-python",
   "name": "python",
   "nbconvert_exporter": "python",
   "pygments_lexer": "ipython3",
   "version": "3.6.9"
  },
  "toc": {
   "base_numbering": 1,
   "nav_menu": {},
   "number_sections": true,
   "sideBar": true,
   "skip_h1_title": false,
   "title_cell": "Table of Contents",
   "title_sidebar": "Contents",
   "toc_cell": false,
   "toc_position": {},
   "toc_section_display": true,
   "toc_window_display": false
  }
 },
 "nbformat": 4,
 "nbformat_minor": 4
}
