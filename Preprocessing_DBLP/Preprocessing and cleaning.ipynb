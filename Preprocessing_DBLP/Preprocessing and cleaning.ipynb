{
 "cells": [
  {
   "cell_type": "markdown",
   "metadata": {},
   "source": [
    "En el siguiente notebook se muestra el codigo con el cual realizamos una limpieza inicial del archivo xml ademas de la reestructuracion del archivo para un mejor analisi"
   ]
  },
  {
   "cell_type": "markdown",
   "metadata": {},
   "source": [
    "### Funciones"
   ]
  },
  {
   "cell_type": "code",
   "execution_count": 1,
   "metadata": {
    "ExecuteTime": {
     "end_time": "2021-10-28T05:56:18.788858Z",
     "start_time": "2021-10-28T05:56:18.783949Z"
    }
   },
   "outputs": [],
   "source": [
    "def escribir_reg(arch,registro):\n",
    "    \"\"\"\n",
    "    La funcion siguiente realiza la escritura de un registro\n",
    "    en el nuevo XML\n",
    "    parametros:\n",
    "        arch: file, archivo en el cual se escribe\n",
    "        registro: str, con el registro a escribir\n",
    "    \"\"\"\n",
    "    for i,reg in enumerate(registro):\n",
    "        if i == 0 or i+1 == len(registro):\n",
    "            arch.write(reg)\n",
    "            arch.write(\"\\n\")\n",
    "        else:\n",
    "            arch.write(\"\\t\")\n",
    "            arch.write(reg)\n",
    "            arch.write(\"\\n\")"
   ]
  },
  {
   "cell_type": "code",
   "execution_count": 2,
   "metadata": {
    "ExecuteTime": {
     "end_time": "2021-10-28T05:56:18.915035Z",
     "start_time": "2021-10-28T05:56:18.793165Z"
    }
   },
   "outputs": [],
   "source": [
    "def preprocessing_xml(arch):\n",
    "    \"\"\"\n",
    "    \n",
    "    \"\"\"\n",
    "    new_reg = 0\n",
    "    datos = []\n",
    "    doc = 0\n",
    "    \n",
    "    for line_e in f:\n",
    "        line = str(line_e)\n",
    "        if line.count('><inproceedings') > 0 or line.count('><article') or line.count('</inproceedings><') or line.count('</article><'):\n",
    "            lim = 2\n",
    "            aux = line.split('>')\n",
    "        else:\n",
    "            lim = 1\n",
    "        for n_reg in range(lim):\n",
    "            if lim > 1:\n",
    "                line = aux[n_reg] + \">\\n\"\n",
    "            if new_reg == 0:\n",
    "                if line.count('<inproceedings') > 0 or line.count('<article') > 0:\n",
    "                    datos.append(str(line))\n",
    "                    new_reg = 1\n",
    "                else:\n",
    "                    continue;\n",
    "            else:\n",
    "                if line.count('</inproceedings>') > 0 or line.count('</article>')> 0:\n",
    "                    datos.append(str(line))\n",
    "                    if doc != 0:\n",
    "                        escribir_reg(arch,datos)\n",
    "                    new_reg = 0\n",
    "                    datos = []\n",
    "                else:\n",
    "                    if line.count('</year>') > 0:\n",
    "                        s = str(line)\n",
    "                        inf = 0\n",
    "                        sup = 1\n",
    "                        for i in range(len(s)):\n",
    "                            if s[i:i+6] == '<year>':\n",
    "                                inf = i+6\n",
    "                        for i in range(len(s)):\n",
    "                            if s[i-6:i+1] == '</year>':\n",
    "                                sup = i-6\n",
    "                        year = int(s[inf:sup])\n",
    "                        if year >= 2015 and year <= 2020:\n",
    "                            doc = 1\n",
    "                        else:\n",
    "                            doc = 0\n",
    "                    datos.append(str(line))\n",
    "    arch.write('</dblp>\\n')\n",
    "    arch.close()"
   ]
  },
  {
   "cell_type": "markdown",
   "metadata": {},
   "source": [
    "### XML files"
   ]
  },
  {
   "cell_type": "code",
   "execution_count": 3,
   "metadata": {
    "ExecuteTime": {
     "end_time": "2021-10-28T05:56:19.033891Z",
     "start_time": "2021-10-28T05:56:18.924948Z"
    }
   },
   "outputs": [],
   "source": [
    "# Original\n",
    "#f = open('dblp_UTF_8.xml','r')\n",
    "#arch = open(\"dblp_2015_2020_UTF_8.xml\",\"w\")\n",
    "# Example\n",
    "f = open('dblp_example_UTF_8.xml','r')\n",
    "arch = open(\"dblp_2015_2020_example_UTF_8.xml\",\"w\")"
   ]
  },
  {
   "cell_type": "code",
   "execution_count": 4,
   "metadata": {
    "ExecuteTime": {
     "end_time": "2021-10-28T05:56:19.138944Z",
     "start_time": "2021-10-28T05:56:19.042701Z"
    }
   },
   "outputs": [
    {
     "name": "stdout",
     "output_type": "stream",
     "text": [
      "<?xml version=\"1.0\" encoding=\"UTF-8\"?><!DOCTYPE dblp SYSTEM \"dblp-2017-08-29.dtd\"><dblp>\n",
      "\n"
     ]
    }
   ],
   "source": [
    "i = 0\n",
    "for line in f:\n",
    "    if i > 0:\n",
    "        break;\n",
    "    i += 1\n",
    "    print(line)"
   ]
  },
  {
   "cell_type": "code",
   "execution_count": 5,
   "metadata": {
    "ExecuteTime": {
     "end_time": "2021-10-28T05:56:19.272803Z",
     "start_time": "2021-10-28T05:56:19.150572Z"
    }
   },
   "outputs": [
    {
     "data": {
      "text/plain": [
       "72"
      ]
     },
     "execution_count": 5,
     "metadata": {},
     "output_type": "execute_result"
    }
   ],
   "source": [
    "arch.write('<?xml version=\"1.0\"?><!DOCTYPE dblp SYSTEM \"dblp-2017-08-29.dtd\"><dblp>\\n')"
   ]
  },
  {
   "cell_type": "markdown",
   "metadata": {},
   "source": [
    "### Preprocessing"
   ]
  },
  {
   "cell_type": "code",
   "execution_count": 6,
   "metadata": {
    "ExecuteTime": {
     "end_time": "2021-10-28T05:56:19.421385Z",
     "start_time": "2021-10-28T05:56:19.276326Z"
    }
   },
   "outputs": [],
   "source": [
    "preprocessing_xml(arch)"
   ]
  },
  {
   "cell_type": "code",
   "execution_count": null,
   "metadata": {},
   "outputs": [],
   "source": []
  }
 ],
 "metadata": {
  "kernelspec": {
   "display_name": "Python 3",
   "language": "python",
   "name": "python3"
  },
  "language_info": {
   "codemirror_mode": {
    "name": "ipython",
    "version": 3
   },
   "file_extension": ".py",
   "mimetype": "text/x-python",
   "name": "python",
   "nbconvert_exporter": "python",
   "pygments_lexer": "ipython3",
   "version": "3.6.9"
  },
  "toc": {
   "base_numbering": 1,
   "nav_menu": {},
   "number_sections": true,
   "sideBar": true,
   "skip_h1_title": false,
   "title_cell": "Table of Contents",
   "title_sidebar": "Contents",
   "toc_cell": false,
   "toc_position": {},
   "toc_section_display": true,
   "toc_window_display": false
  }
 },
 "nbformat": 4,
 "nbformat_minor": 4
}
