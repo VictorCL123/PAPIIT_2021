{
 "cells": [
  {
   "cell_type": "code",
   "execution_count": 1,
   "metadata": {
    "ExecuteTime": {
     "end_time": "2021-05-24T17:22:42.551531Z",
     "start_time": "2021-05-24T17:22:42.542123Z"
    }
   },
   "outputs": [],
   "source": [
    "from html.parser import HTMLParser"
   ]
  },
  {
   "cell_type": "code",
   "execution_count": 2,
   "metadata": {
    "ExecuteTime": {
     "end_time": "2021-05-24T17:22:42.638791Z",
     "start_time": "2021-05-24T17:22:42.553478Z"
    }
   },
   "outputs": [],
   "source": [
    "parse = HTMLParser()"
   ]
  },
  {
   "cell_type": "code",
   "execution_count": 3,
   "metadata": {
    "ExecuteTime": {
     "end_time": "2021-05-24T17:22:42.732343Z",
     "start_time": "2021-05-24T17:22:42.653276Z"
    }
   },
   "outputs": [],
   "source": [
    "f = open('dblp_UTF_8.xml','r')"
   ]
  },
  {
   "cell_type": "code",
   "execution_count": 4,
   "metadata": {
    "ExecuteTime": {
     "end_time": "2021-05-24T17:22:42.822302Z",
     "start_time": "2021-05-24T17:22:42.738151Z"
    }
   },
   "outputs": [
    {
     "name": "stdout",
     "output_type": "stream",
     "text": [
      "<?xml version=\"1.0\" encoding=\"UTF-8\"?>\n",
      "\n"
     ]
    }
   ],
   "source": [
    "i = 0\n",
    "for line in f:\n",
    "    if i > 0:\n",
    "        break;\n",
    "    i += 1\n",
    "    print(line)"
   ]
  },
  {
   "cell_type": "code",
   "execution_count": 5,
   "metadata": {
    "ExecuteTime": {
     "end_time": "2021-05-24T17:22:42.928834Z",
     "start_time": "2021-05-24T17:22:42.827691Z"
    }
   },
   "outputs": [],
   "source": [
    "arch = open(\"dblp_2015_2020_UTF_8.xml\",\"w\")"
   ]
  },
  {
   "cell_type": "code",
   "execution_count": 6,
   "metadata": {
    "ExecuteTime": {
     "end_time": "2021-05-24T17:22:43.062740Z",
     "start_time": "2021-05-24T17:22:42.937756Z"
    }
   },
   "outputs": [
    {
     "data": {
      "text/plain": [
       "72"
      ]
     },
     "execution_count": 6,
     "metadata": {},
     "output_type": "execute_result"
    }
   ],
   "source": [
    "arch.write('<?xml version=\"1.0\"?><!DOCTYPE dblp SYSTEM \"dblp-2017-08-29.dtd\"><dblp>\\n')"
   ]
  },
  {
   "cell_type": "code",
   "execution_count": 7,
   "metadata": {
    "ExecuteTime": {
     "end_time": "2021-05-24T17:22:43.117370Z",
     "start_time": "2021-05-24T17:22:43.067589Z"
    }
   },
   "outputs": [],
   "source": [
    "def escribir_reg(registro):\n",
    "    for i,reg in enumerate(registro):\n",
    "        if i == 0 or i+1 == len(registro):\n",
    "            arch.write(reg)\n",
    "            arch.write(\"\\n\")\n",
    "        else:\n",
    "            arch.write(\"\\t\")\n",
    "            arch.write(reg)\n",
    "            arch.write(\"\\n\")"
   ]
  },
  {
   "cell_type": "code",
   "execution_count": null,
   "metadata": {
    "ExecuteTime": {
     "start_time": "2021-05-24T17:22:42.555Z"
    }
   },
   "outputs": [],
   "source": [
    "new_reg = 0\n",
    "datos = []\n",
    "doc = 0\n",
    "#imprime = False\n",
    "for line_e in f:\n",
    "    line = str(line_e)\n",
    "    if line.count('><inproceedings') > 0 or line.count('><article') or line.count('</inproceedings><') or line.count('</article><'):\n",
    "        lim = 2\n",
    "        aux = line.split('>')\n",
    "    else:\n",
    "        lim = 1\n",
    "    for n_reg in range(lim):\n",
    "        if lim > 1:\n",
    "            line = aux[n_reg] + \">\\n\"\n",
    "        if new_reg == 0:\n",
    "            if line.count('<inproceedings') > 0 or line.count('<article') > 0:\n",
    "                #print('Abrir registro')\n",
    "                datos.append(str(line))\n",
    "                new_reg = 1\n",
    "            else:\n",
    "                continue;\n",
    "        else:\n",
    "            if line.count('</inproceedings>') > 0 or line.count('</article>')> 0:\n",
    "                datos.append(str(line))\n",
    "                if doc != 0:\n",
    "                    #print(\"imprimir\")\n",
    "                    escribir_reg(datos)\n",
    "                new_reg = 0\n",
    "                datos = []\n",
    "            else:\n",
    "                if line.count('</year>') > 0:\n",
    "                    s = str(line)\n",
    "                    inf = 0\n",
    "                    sup = 1\n",
    "                    for i in range(len(s)):\n",
    "                        if s[i:i+6] == '<year>':\n",
    "                            inf = i+6\n",
    "                    for i in range(len(s)):\n",
    "                        if s[i-6:i+1] == '</year>':\n",
    "                            sup = i-6\n",
    "                    year = int(s[inf:sup])\n",
    "                    if year >= 2015 and year <= 2020:\n",
    "                        doc = 1\n",
    "                    else:\n",
    "                        doc = 0\n",
    "                datos.append(str(line))"
   ]
  },
  {
   "cell_type": "code",
   "execution_count": null,
   "metadata": {
    "ExecuteTime": {
     "start_time": "2021-05-24T17:22:42.556Z"
    }
   },
   "outputs": [],
   "source": [
    "arch.write('</dblp>\\n')"
   ]
  },
  {
   "cell_type": "code",
   "execution_count": null,
   "metadata": {
    "ExecuteTime": {
     "start_time": "2021-05-24T17:22:42.557Z"
    }
   },
   "outputs": [],
   "source": [
    "arch.close()"
   ]
  },
  {
   "cell_type": "code",
   "execution_count": null,
   "metadata": {},
   "outputs": [],
   "source": []
  }
 ],
 "metadata": {
  "kernelspec": {
   "display_name": "Python 3",
   "language": "python",
   "name": "python3"
  },
  "language_info": {
   "codemirror_mode": {
    "name": "ipython",
    "version": 3
   },
   "file_extension": ".py",
   "mimetype": "text/x-python",
   "name": "python",
   "nbconvert_exporter": "python",
   "pygments_lexer": "ipython3",
   "version": "3.6.9"
  },
  "toc": {
   "base_numbering": 1,
   "nav_menu": {},
   "number_sections": true,
   "sideBar": true,
   "skip_h1_title": false,
   "title_cell": "Table of Contents",
   "title_sidebar": "Contents",
   "toc_cell": false,
   "toc_position": {},
   "toc_section_display": true,
   "toc_window_display": false
  }
 },
 "nbformat": 4,
 "nbformat_minor": 4
}
