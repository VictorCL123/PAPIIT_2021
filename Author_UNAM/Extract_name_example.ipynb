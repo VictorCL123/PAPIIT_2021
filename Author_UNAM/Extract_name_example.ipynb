{
 "cells": [
  {
   "cell_type": "code",
   "execution_count": 1,
   "metadata": {
    "ExecuteTime": {
     "end_time": "2021-10-26T17:01:19.615117Z",
     "start_time": "2021-10-26T17:01:19.330429Z"
    }
   },
   "outputs": [],
   "source": [
    "import pandas as pd"
   ]
  },
  {
   "cell_type": "code",
   "execution_count": 2,
   "metadata": {
    "ExecuteTime": {
     "end_time": "2021-10-26T17:01:19.638318Z",
     "start_time": "2021-10-26T17:01:19.616421Z"
    }
   },
   "outputs": [],
   "source": [
    "data = pd.read_excel(\"scopusingebases12.xls\")"
   ]
  },
  {
   "cell_type": "code",
   "execution_count": 3,
   "metadata": {
    "ExecuteTime": {
     "end_time": "2021-10-26T17:01:19.748595Z",
     "start_time": "2021-10-26T17:01:19.640047Z"
    }
   },
   "outputs": [
    {
     "data": {
      "text/html": [
       "<div>\n",
       "<style scoped>\n",
       "    .dataframe tbody tr th:only-of-type {\n",
       "        vertical-align: middle;\n",
       "    }\n",
       "\n",
       "    .dataframe tbody tr th {\n",
       "        vertical-align: top;\n",
       "    }\n",
       "\n",
       "    .dataframe thead th {\n",
       "        text-align: right;\n",
       "    }\n",
       "</style>\n",
       "<table border=\"1\" class=\"dataframe\">\n",
       "  <thead>\n",
       "    <tr style=\"text-align: right;\">\n",
       "      <th></th>\n",
       "      <th>Publication Type</th>\n",
       "      <th>Authors</th>\n",
       "      <th>Book Authors</th>\n",
       "      <th>Book Editors</th>\n",
       "      <th>Book Group Authors</th>\n",
       "      <th>Author Full Names</th>\n",
       "      <th>Book Author Full Names</th>\n",
       "      <th>Group Authors</th>\n",
       "      <th>Article Title</th>\n",
       "      <th>Source Title</th>\n",
       "      <th>...</th>\n",
       "      <th>WoS Categories</th>\n",
       "      <th>Research Areas</th>\n",
       "      <th>IDS Number</th>\n",
       "      <th>UT (Unique WOS ID)</th>\n",
       "      <th>Pubmed Id</th>\n",
       "      <th>Open Access Designations</th>\n",
       "      <th>Highly Cited Status</th>\n",
       "      <th>Hot Paper Status</th>\n",
       "      <th>Date of Export</th>\n",
       "      <th>Unnamed: 67</th>\n",
       "    </tr>\n",
       "  </thead>\n",
       "  <tbody>\n",
       "    <tr>\n",
       "      <th>0</th>\n",
       "      <td>J</td>\n",
       "      <td>Flores, FC; Ugalde, FG; Diaz, JLP; Navarro, JZ...</td>\n",
       "      <td>NaN</td>\n",
       "      <td>NaN</td>\n",
       "      <td>NaN</td>\n",
       "      <td>Castillo Flores, Fernando; Garcia Ugalde, Fran...</td>\n",
       "      <td>NaN</td>\n",
       "      <td>NaN</td>\n",
       "      <td>Computer Algorithm for Archaeological Projecti...</td>\n",
       "      <td>ACM JOURNAL ON COMPUTING AND CULTURAL HERITAGE</td>\n",
       "      <td>...</td>\n",
       "      <td>Humanities, Multidisciplinary; Computer Scienc...</td>\n",
       "      <td>Arts &amp; Humanities - Other Topics; Computer Sci...</td>\n",
       "      <td>JQ0AA</td>\n",
       "      <td>WOS:000498616400004</td>\n",
       "      <td>NaN</td>\n",
       "      <td>NaN</td>\n",
       "      <td>NaN</td>\n",
       "      <td>NaN</td>\n",
       "      <td>2021-05-12</td>\n",
       "      <td>NaN</td>\n",
       "    </tr>\n",
       "  </tbody>\n",
       "</table>\n",
       "<p>1 rows × 68 columns</p>\n",
       "</div>"
      ],
      "text/plain": [
       "  Publication Type                                            Authors  \\\n",
       "0                J  Flores, FC; Ugalde, FG; Diaz, JLP; Navarro, JZ...   \n",
       "\n",
       "   Book Authors Book Editors Book Group Authors  \\\n",
       "0           NaN          NaN                NaN   \n",
       "\n",
       "                                   Author Full Names  Book Author Full Names  \\\n",
       "0  Castillo Flores, Fernando; Garcia Ugalde, Fran...                     NaN   \n",
       "\n",
       "   Group Authors                                      Article Title  \\\n",
       "0            NaN  Computer Algorithm for Archaeological Projecti...   \n",
       "\n",
       "                                     Source Title  ...  \\\n",
       "0  ACM JOURNAL ON COMPUTING AND CULTURAL HERITAGE  ...   \n",
       "\n",
       "                                      WoS Categories  \\\n",
       "0  Humanities, Multidisciplinary; Computer Scienc...   \n",
       "\n",
       "                                      Research Areas IDS Number  \\\n",
       "0  Arts & Humanities - Other Topics; Computer Sci...      JQ0AA   \n",
       "\n",
       "    UT (Unique WOS ID) Pubmed Id Open Access Designations Highly Cited Status  \\\n",
       "0  WOS:000498616400004       NaN                      NaN                 NaN   \n",
       "\n",
       "  Hot Paper Status Date of Export Unnamed: 67  \n",
       "0              NaN     2021-05-12         NaN  \n",
       "\n",
       "[1 rows x 68 columns]"
      ]
     },
     "execution_count": 3,
     "metadata": {},
     "output_type": "execute_result"
    }
   ],
   "source": [
    "data.head(1)"
   ]
  },
  {
   "cell_type": "code",
   "execution_count": 4,
   "metadata": {
    "ExecuteTime": {
     "end_time": "2021-10-26T17:01:19.784028Z",
     "start_time": "2021-10-26T17:01:19.750595Z"
    }
   },
   "outputs": [
    {
     "data": {
      "text/plain": [
       "array(['[Castillo Flores, Fernando; Garcia Ugalde, Francisco; Del Pilar Angeles, Maria] Univ Nacl Autonoma Mexico, Fac Ingn, Ave Univ 3000, Ciudad De Mexico 04510, DF, Mexico; [Punzo Diaz, Jose Luis] Inst Nacl Antropol E Hist, Archaeol, Madero 369 Col Ctr, Morelia 58000, Michoacan, Mexico; [Zarco Navarro, Jesus] Univ Nacl Autonoma Mexico, Ave Univ 3000, Ciudad De Mexico 04510, DF, Mexico; [Gastelum-Strozzi, Alfonso] Univ Nacl Autonoma Mexico, Inst Ciencias Aplicadas & Tecnol, Ave Univ 3000, Ciudad De Mexico 04510, DF, Mexico; [Nakano Miyatake, Mariko] Inst Politecn Nacl, SEPI, Ave Santa Ana 1000, Ciudad De Mexico 04510, DF, Mexico'],\n",
       "      dtype=object)"
      ]
     },
     "execution_count": 4,
     "metadata": {},
     "output_type": "execute_result"
    }
   ],
   "source": [
    "data.sample()[\"Addresses\"].values"
   ]
  },
  {
   "cell_type": "code",
   "execution_count": 5,
   "metadata": {
    "ExecuteTime": {
     "end_time": "2021-10-26T17:01:19.865446Z",
     "start_time": "2021-10-26T17:01:19.785656Z"
    }
   },
   "outputs": [],
   "source": [
    "def extract_authors(data):\n",
    "    lst_autores = []\n",
    "    for i,reg in enumerate(list(data[\"Addresses\"])):\n",
    "        if reg == reg: \n",
    "            if reg[:1] == \"[\":\n",
    "                afilaciones = reg.split(\"[\")\n",
    "                for afilacion in afilaciones[1:]:\n",
    "                    if (afilacion.count(\"Univ Nacl Autonoma Mexico\") > 0) | (afilacion.count(\"UNAM\") > 0) | (afilacion.count(\"IIMAS\") > 0):\n",
    "                        autores = afilacion.split(\"]\")[0].split(\";\")\n",
    "                        for autor in autores:\n",
    "                            autor = \" \".join([autor.split(\",\")[1],autor.strip().split(\",\")[0]])\n",
    "                            autor = autor.strip()\n",
    "                            autor = autor.replace(\"-\",\" \")\n",
    "                            lst_autores.append(autor)\n",
    "    return lst_autores"
   ]
  },
  {
   "cell_type": "code",
   "execution_count": 6,
   "metadata": {
    "ExecuteTime": {
     "end_time": "2021-10-26T17:01:19.946838Z",
     "start_time": "2021-10-26T17:01:19.874935Z"
    }
   },
   "outputs": [
    {
     "data": {
      "text/plain": [
       "['Fernando Castillo Flores',\n",
       " 'Francisco Garcia Ugalde',\n",
       " 'Maria Del Pilar Angeles',\n",
       " 'Jesus Zarco Navarro',\n",
       " 'Alfonso Gastelum Strozzi',\n",
       " 'Maria del Pilar Angeles',\n",
       " 'Adrian Espino Gamez',\n",
       " 'Jonathan Gil Moncada',\n",
       " 'Maria del Pilar Angeles',\n",
       " 'Luis Fernando Perez Franco',\n",
       " 'Maria del Pilar Angeles',\n",
       " 'Victor Gonzalez Castro',\n",
       " 'Maria del Pilar Angeles',\n",
       " 'Francisco Garcia Ugalde',\n",
       " 'Maria del Pilar Angeles',\n",
       " 'Francisco Garcia Ugalde',\n",
       " 'Maria del Pilar Angeles',\n",
       " 'Maria del Pilar Angeles']"
      ]
     },
     "execution_count": 6,
     "metadata": {},
     "output_type": "execute_result"
    }
   ],
   "source": [
    "extract_authors(data)"
   ]
  },
  {
   "cell_type": "code",
   "execution_count": null,
   "metadata": {},
   "outputs": [],
   "source": []
  }
 ],
 "metadata": {
  "kernelspec": {
   "display_name": "Python 3",
   "language": "python",
   "name": "python3"
  },
  "language_info": {
   "codemirror_mode": {
    "name": "ipython",
    "version": 3
   },
   "file_extension": ".py",
   "mimetype": "text/x-python",
   "name": "python",
   "nbconvert_exporter": "python",
   "pygments_lexer": "ipython3",
   "version": "3.6.9"
  },
  "toc": {
   "base_numbering": 1,
   "nav_menu": {},
   "number_sections": true,
   "sideBar": true,
   "skip_h1_title": false,
   "title_cell": "Table of Contents",
   "title_sidebar": "Contents",
   "toc_cell": false,
   "toc_position": {},
   "toc_section_display": true,
   "toc_window_display": false
  }
 },
 "nbformat": 4,
 "nbformat_minor": 4
}
