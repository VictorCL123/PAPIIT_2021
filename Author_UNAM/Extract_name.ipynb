{
 "cells": [
  {
   "cell_type": "code",
   "execution_count": 3,
   "metadata": {
    "ExecuteTime": {
     "end_time": "2021-10-12T02:08:15.291759Z",
     "start_time": "2021-10-12T02:08:10.833846Z"
    }
   },
   "outputs": [],
   "source": [
    "import pandas as pd\n",
    "from glob import glob"
   ]
  },
  {
   "cell_type": "code",
   "execution_count": 4,
   "metadata": {
    "ExecuteTime": {
     "end_time": "2021-10-12T02:08:15.384594Z",
     "start_time": "2021-10-12T02:08:15.299267Z"
    }
   },
   "outputs": [],
   "source": [
    "lst_csvs = glob(\"Datos/*.xls\")"
   ]
  },
  {
   "cell_type": "code",
   "execution_count": 5,
   "metadata": {
    "ExecuteTime": {
     "end_time": "2021-10-12T02:08:15.496804Z",
     "start_time": "2021-10-12T02:08:15.393095Z"
    }
   },
   "outputs": [
    {
     "data": {
      "text/plain": [
       "{'Datos/proquestIA1.xls',\n",
       " 'Datos/proquestISBD1.xls',\n",
       " 'Datos/proquestcomp1.xls',\n",
       " 'Datos/scopusingebases12.xls',\n",
       " 'Datos/scopusingebases13.xls',\n",
       " 'Datos/scopusingebases14.xls',\n",
       " 'Datos/scopusingebases15.xls',\n",
       " 'Datos/scopusingebases16.xls',\n",
       " 'Datos/scopusingebases17.xls',\n",
       " 'Datos/scopusingebases18.xls',\n",
       " 'Datos/scopusingebases19.xls',\n",
       " 'Datos/scopusingebases20.xls',\n",
       " 'Datos/wbosc1.xls',\n",
       " 'Datos/wbosc10.xls',\n",
       " 'Datos/wbosc11.xls',\n",
       " 'Datos/wbosc12.xls',\n",
       " 'Datos/wbosc13.xls',\n",
       " 'Datos/wbosc2.xls',\n",
       " 'Datos/wbosc3.xls',\n",
       " 'Datos/wbosc4.xls',\n",
       " 'Datos/wbosc5.xls',\n",
       " 'Datos/wbosc6.xls',\n",
       " 'Datos/wbosc7.xls',\n",
       " 'Datos/wbosc8.xls',\n",
       " 'Datos/wbosc9.xls',\n",
       " 'Datos/webofScImSe1.xls',\n",
       " 'Datos/webofScImSe10.xls',\n",
       " 'Datos/webofScImSe11.xls',\n",
       " 'Datos/webofScImSe12.xls',\n",
       " 'Datos/webofScImSe13.xls',\n",
       " 'Datos/webofScImSe2.xls',\n",
       " 'Datos/webofScImSe3.xls',\n",
       " 'Datos/webofScImSe4.xls',\n",
       " 'Datos/webofScImSe5.xls',\n",
       " 'Datos/webofScImSe6.xls',\n",
       " 'Datos/webofScImSe7.xls',\n",
       " 'Datos/webofScImSe8.xls',\n",
       " 'Datos/webofScImSe9.xls',\n",
       " 'Datos/wosIA1.xls',\n",
       " 'Datos/wosIA10.xls',\n",
       " 'Datos/wosIA11.xls',\n",
       " 'Datos/wosIA12.xls',\n",
       " 'Datos/wosIA14.xls',\n",
       " 'Datos/wosIA15.xls',\n",
       " 'Datos/wosIA17.xls',\n",
       " 'Datos/wosIA2.xls',\n",
       " 'Datos/wosIA3.xls',\n",
       " 'Datos/wosIA4.xls',\n",
       " 'Datos/wosIA5.xls',\n",
       " 'Datos/wosIA6.xls',\n",
       " 'Datos/wosIA7.xls',\n",
       " 'Datos/wosIA8.xls',\n",
       " 'Datos/wosIA9.xls',\n",
       " 'Datos/woscompu1.xls',\n",
       " 'Datos/woscompu10.xls',\n",
       " 'Datos/woscompu11.xls',\n",
       " 'Datos/woscompu12.xls',\n",
       " 'Datos/woscompu13.xls',\n",
       " 'Datos/woscompu14.xls',\n",
       " 'Datos/woscompu15.xls',\n",
       " 'Datos/woscompu16.xls',\n",
       " 'Datos/woscompu2.xls',\n",
       " 'Datos/woscompu3.xls',\n",
       " 'Datos/woscompu4.xls',\n",
       " 'Datos/woscompu5.xls',\n",
       " 'Datos/woscompu6.xls',\n",
       " 'Datos/woscompu7.xls',\n",
       " 'Datos/woscompu8.xls',\n",
       " 'Datos/woscompu9.xls',\n",
       " 'Datos/ws01.xls',\n",
       " 'Datos/ws02-1.xls',\n",
       " 'Datos/ws02-2.xls',\n",
       " 'Datos/ws03-1.xls',\n",
       " 'Datos/ws03-2.xls',\n",
       " 'Datos/ws03-3.xls',\n",
       " 'Datos/ws04-1.xls',\n",
       " 'Datos/ws04-2.xls',\n",
       " 'Datos/ws04-3.xls',\n",
       " 'Datos/ws04-4.xls',\n",
       " 'Datos/ws05-1.xls',\n",
       " 'Datos/ws05-2.xls',\n",
       " 'Datos/ws05-3.xls',\n",
       " 'Datos/ws05-4.xls'}"
      ]
     },
     "execution_count": 5,
     "metadata": {},
     "output_type": "execute_result"
    }
   ],
   "source": [
    "set(lst_csvs)"
   ]
  },
  {
   "cell_type": "markdown",
   "metadata": {},
   "source": [
    "## scopus"
   ]
  },
  {
   "cell_type": "code",
   "execution_count": 6,
   "metadata": {
    "ExecuteTime": {
     "end_time": "2021-10-12T02:08:15.557351Z",
     "start_time": "2021-10-12T02:08:15.502183Z"
    }
   },
   "outputs": [],
   "source": [
    "lst_arch = glob(\"Datos/scopusingebases*.xls\")"
   ]
  },
  {
   "cell_type": "code",
   "execution_count": 7,
   "metadata": {
    "ExecuteTime": {
     "end_time": "2021-10-12T02:08:15.633999Z",
     "start_time": "2021-10-12T02:08:15.558615Z"
    }
   },
   "outputs": [
    {
     "data": {
      "text/plain": [
       "['Datos/scopusingebases18.xls',\n",
       " 'Datos/scopusingebases17.xls',\n",
       " 'Datos/scopusingebases20.xls',\n",
       " 'Datos/scopusingebases16.xls',\n",
       " 'Datos/scopusingebases12.xls',\n",
       " 'Datos/scopusingebases14.xls',\n",
       " 'Datos/scopusingebases15.xls',\n",
       " 'Datos/scopusingebases13.xls',\n",
       " 'Datos/scopusingebases19.xls']"
      ]
     },
     "execution_count": 7,
     "metadata": {},
     "output_type": "execute_result"
    }
   ],
   "source": [
    "lst_arch"
   ]
  },
  {
   "cell_type": "code",
   "execution_count": 8,
   "metadata": {
    "ExecuteTime": {
     "end_time": "2021-10-12T02:08:16.446487Z",
     "start_time": "2021-10-12T02:08:15.644073Z"
    }
   },
   "outputs": [
    {
     "data": {
      "text/html": [
       "<div>\n",
       "<style scoped>\n",
       "    .dataframe tbody tr th:only-of-type {\n",
       "        vertical-align: middle;\n",
       "    }\n",
       "\n",
       "    .dataframe tbody tr th {\n",
       "        vertical-align: top;\n",
       "    }\n",
       "\n",
       "    .dataframe thead th {\n",
       "        text-align: right;\n",
       "    }\n",
       "</style>\n",
       "<table border=\"1\" class=\"dataframe\">\n",
       "  <thead>\n",
       "    <tr style=\"text-align: right;\">\n",
       "      <th></th>\n",
       "      <th>Article Title</th>\n",
       "      <th>Authors</th>\n",
       "      <th>Author Full Names</th>\n",
       "      <th>Addresses</th>\n",
       "    </tr>\n",
       "  </thead>\n",
       "  <tbody>\n",
       "    <tr>\n",
       "      <th>0</th>\n",
       "      <td>Gradual Typing Using Union Typing With Records</td>\n",
       "      <td>Pulido, KR; Ortega-Arjona, JL; Huesca, LDG</td>\n",
       "      <td>Ramirez Pulido, Karla; Luis Ortega-Arjona, Jor...</td>\n",
       "      <td>[Ramirez Pulido, Karla; Luis Ortega-Arjona, Jo...</td>\n",
       "    </tr>\n",
       "    <tr>\n",
       "      <th>1</th>\n",
       "      <td>A description language for chess</td>\n",
       "      <td>Lopez-Michelone, MC; Ortega-Arjona, JL</td>\n",
       "      <td>Cristobal Lopez-Michelone, Manuel; Ortega-Arjo...</td>\n",
       "      <td>[Cristobal Lopez-Michelone, Manuel] Univ Nacl ...</td>\n",
       "    </tr>\n",
       "  </tbody>\n",
       "</table>\n",
       "</div>"
      ],
      "text/plain": [
       "                                    Article Title  \\\n",
       "0  Gradual Typing Using Union Typing With Records   \n",
       "1                A description language for chess   \n",
       "\n",
       "                                      Authors  \\\n",
       "0  Pulido, KR; Ortega-Arjona, JL; Huesca, LDG   \n",
       "1      Lopez-Michelone, MC; Ortega-Arjona, JL   \n",
       "\n",
       "                                   Author Full Names  \\\n",
       "0  Ramirez Pulido, Karla; Luis Ortega-Arjona, Jor...   \n",
       "1  Cristobal Lopez-Michelone, Manuel; Ortega-Arjo...   \n",
       "\n",
       "                                           Addresses  \n",
       "0  [Ramirez Pulido, Karla; Luis Ortega-Arjona, Jo...  \n",
       "1  [Cristobal Lopez-Michelone, Manuel] Univ Nacl ...  "
      ]
     },
     "execution_count": 8,
     "metadata": {},
     "output_type": "execute_result"
    }
   ],
   "source": [
    "pd.read_excel(lst_arch[0]).iloc[:2][[\"Article Title\",\"Authors\",\"Author Full Names\",\"Addresses\"]]"
   ]
  },
  {
   "cell_type": "code",
   "execution_count": 9,
   "metadata": {
    "ExecuteTime": {
     "end_time": "2021-10-12T02:08:16.469538Z",
     "start_time": "2021-10-12T02:08:16.449082Z"
    }
   },
   "outputs": [
    {
     "data": {
      "text/plain": [
       "array(['[Ramirez Pulido, Karla; Luis Ortega-Arjona, Jorge; Gonzalez Huesca, Lourdes del Carmen] UNAM, Dept Matemat, Fac Ciencias, Circuito Exterior S-N,Cd Univ, Cdmx 04510, Mexico',\n",
       "       '[Cristobal Lopez-Michelone, Manuel] Univ Nacl Autonoma Mexico, Ciencia & Ingn Comp, Mexico City, DF, Mexico; [Ortega-Arjona, Jorge L.] Univ Nacl Autonoma Mexico, Fac Ciencias, Dept Matemat, Mexico City, DF, Mexico',\n",
       "       '[Benitez-Perez, Hector; Rubio-Acosta, Ernesto; Esquivel-Flores, Oscar A.] IIMAS Natl Autonomous Univ Mexico, Dept Ingn Sistemas Comp & Automatizac, Mexico City, DF, Mexico; [Ortega-Arjona, Jorge L.] Univ Nacl Autonoma Mexico, Dept Matemat, Fac Ciencias, Mexico City, DF, Mexico; [Mendez-Monroy, Paul E.] IIMAS Merida Natl Autonomous Univ Mexico, Dept Ciencias Comp, Merida, Yucatan, Mexico',\n",
       "       '[Benitez-Perez, Hector; Rubio-Acosta, Ernesto; Esquivel-Flores, Oscar A.] IIMAS Natl Autonomous Univ Mexico, Dept Ingn Sistemas Comp & Automatizac, Mexico City, DF, Mexico; [Ortega-Arjona, Jorge L.] Univ Nacl Autonoma Mexico, Dept Matemat, Fac Ciencias, Mexico City, DF, Mexico; [Mendez-Monroy, Paul E.] IIMAS Merida Natl Autonomous Univ Mexico, Dept Ciencias Comp, Merida, Yucatan, Mexico',\n",
       "       '[Benitez-Perez, Hector; Rubio-Acosta, Ernesto; Esquivel-Flores, Oscar A.] IIMAS Natl Autonomous Univ Mexico, Dept Ingn Sistemas Comp & Automatizac, Mexico City, DF, Mexico; [Ortega-Arjona, Jorge L.] Univ Nacl Autonoma Mexico, Dept Matemat, Fac Ciencias, Mexico City, DF, Mexico; [Mendez-Monroy, Paul E.] IIMAS Merida Natl Autonomous Univ Mexico, Dept Ciencias Comp, Merida, Yucatan, Mexico',\n",
       "       '[Benitez-Perez, Hector; Rubio-Acosta, Ernesto; Esquivel-Flores, Oscar A.] IIMAS Natl Autonomous Univ Mexico, Dept Ingn Sistemas Comp & Automatizac, Mexico City, DF, Mexico; [Ortega-Arjona, Jorge L.] Univ Nacl Autonoma Mexico, Dept Matemat, Fac Ciencias, Mexico City, DF, Mexico; [Mendez-Monroy, Paul E.] IIMAS Merida Natl Autonomous Univ Mexico, Dept Ciencias Comp, Merida, Yucatan, Mexico'],\n",
       "      dtype=object)"
      ]
     },
     "execution_count": 9,
     "metadata": {},
     "output_type": "execute_result"
    }
   ],
   "source": [
    "pd.read_excel(lst_arch[0]).iloc[:6][\"Addresses\"].values"
   ]
  },
  {
   "cell_type": "code",
   "execution_count": 10,
   "metadata": {
    "ExecuteTime": {
     "end_time": "2021-10-12T02:08:16.901648Z",
     "start_time": "2021-10-12T02:08:16.472218Z"
    }
   },
   "outputs": [],
   "source": [
    "lst_df = []\n",
    "for arch in lst_arch:\n",
    "    lst_df.append(pd.read_excel(arch))"
   ]
  },
  {
   "cell_type": "code",
   "execution_count": 11,
   "metadata": {
    "ExecuteTime": {
     "end_time": "2021-10-12T02:08:16.956606Z",
     "start_time": "2021-10-12T02:08:16.903321Z"
    }
   },
   "outputs": [],
   "source": [
    "data = pd.concat(lst_df,ignore_index=True)"
   ]
  },
  {
   "cell_type": "code",
   "execution_count": 12,
   "metadata": {
    "ExecuteTime": {
     "end_time": "2021-10-12T02:08:17.029042Z",
     "start_time": "2021-10-12T02:08:16.958128Z"
    }
   },
   "outputs": [],
   "source": [
    "lst_autores = []\n",
    "for i,reg in enumerate(list(data[\"Addresses\"])):\n",
    "    if reg == reg: \n",
    "        if reg[:1] == \"[\":\n",
    "            afilaciones = reg.split(\"[\")\n",
    "            for afilacion in afilaciones[1:]:\n",
    "                if (afilacion.count(\"Univ Nacl Autonoma Mexico\") > 0) | (afilacion.count(\"UNAM\") > 0) | (afilacion.count(\"IIMAS\") > 0):\n",
    "                    autores = afilacion.split(\"]\")[0].split(\";\")\n",
    "                    for autor in autores:\n",
    "                        autor = \" \".join([autor.split(\",\")[1],autor.strip().split(\",\")[0]])\n",
    "                        autor = autor.strip()\n",
    "                        autor = autor.replace(\"-\",\" \")\n",
    "                        lst_autores.append(autor)"
   ]
  },
  {
   "cell_type": "code",
   "execution_count": 13,
   "metadata": {
    "ExecuteTime": {
     "end_time": "2021-10-12T02:08:17.136910Z",
     "start_time": "2021-10-12T02:08:17.031201Z"
    }
   },
   "outputs": [],
   "source": [
    "lst_autores = [\"andres alvarez cid\",\n",
    "               \"adrian duran chavesti\",\n",
    "               \"adrian espino gamez\",\n",
    "               \"alfonso gastelum strozzi\",\n",
    "               \"boris escalante ramirez\",\n",
    "               \"paul erick mendez monroy\",\n",
    "               \"erendira miriam jimenez hernandez\",\n",
    "               \"ernesto rubio acosta\",\n",
    "               \"fernando castillo flores\",\n",
    "               \"francisco garcia ugalde\",\n",
    "               \"francisco hernandez quiroz\",\n",
    "               \"frida diaz barriga arceo\",\n",
    "               \"maria guadalupe elena ibarguengoitia gonzalez\",\n",
    "               \"hanna oktaba\",\n",
    "               \"hector benitez perez\",\n",
    "               \"helena gomez adorno\",\n",
    "               \"‪jorge luis ortega arjona\",\n",
    "               \"jesus savage carmona\",\n",
    "               \"jesus zarco navarro\",\n",
    "               \"jonathan gil moncada\",\n",
    "               \"juan carlos catana salazar\",\n",
    "               \"juana patlan perez\",\n",
    "               \"juliette michelle parada carvallo\",\n",
    "               \"karla ramirez pulido\",\n",
    "               \"lourdes del carmen gonzalez huesca\",\n",
    "               \"luis fernando perez franco\",\n",
    "               \"maria elena martinez perez\",\n",
    "               \"magali arellano vazquez\",\n",
    "               \"magdalena davila munoz\",\n",
    "               \"manuel cristobal lopez michelone\",\n",
    "               \"maria del pilar angeles\",\n",
    "               \"miguel angel palomera perez\",\n",
    "               \"miguel ehecatl morales trujillo\",\n",
    "               \"oscar alejandro esquivel flores\",\n",
    "               \"sandra liliana ramirez mora\",\n",
    "               \"victor gonzalez castro\"]"
   ]
  },
  {
   "cell_type": "code",
   "execution_count": 14,
   "metadata": {
    "ExecuteTime": {
     "end_time": "2021-10-12T02:08:26.199322Z",
     "start_time": "2021-10-12T02:08:26.188231Z"
    }
   },
   "outputs": [
    {
     "data": {
      "text/plain": [
       "36"
      ]
     },
     "execution_count": 14,
     "metadata": {},
     "output_type": "execute_result"
    }
   ],
   "source": [
    "len(lst_autores)"
   ]
  },
  {
   "cell_type": "markdown",
   "metadata": {},
   "source": [
    "## wbosc"
   ]
  },
  {
   "cell_type": "code",
   "execution_count": 23,
   "metadata": {
    "ExecuteTime": {
     "end_time": "2021-10-12T02:12:58.626908Z",
     "start_time": "2021-10-12T02:12:58.620024Z"
    }
   },
   "outputs": [],
   "source": [
    "lst_arch = glob(\"Datos/wbosc*.xls\")"
   ]
  },
  {
   "cell_type": "code",
   "execution_count": 24,
   "metadata": {
    "ExecuteTime": {
     "end_time": "2021-10-12T02:12:58.875157Z",
     "start_time": "2021-10-12T02:12:58.869598Z"
    }
   },
   "outputs": [
    {
     "data": {
      "text/plain": [
       "['Datos/wbosc4.xls',\n",
       " 'Datos/wbosc11.xls',\n",
       " 'Datos/wbosc9.xls',\n",
       " 'Datos/wbosc10.xls',\n",
       " 'Datos/wbosc3.xls',\n",
       " 'Datos/wbosc8.xls',\n",
       " 'Datos/wbosc2.xls',\n",
       " 'Datos/wbosc13.xls',\n",
       " 'Datos/wbosc1.xls',\n",
       " 'Datos/wbosc6.xls',\n",
       " 'Datos/wbosc7.xls',\n",
       " 'Datos/wbosc12.xls',\n",
       " 'Datos/wbosc5.xls']"
      ]
     },
     "execution_count": 24,
     "metadata": {},
     "output_type": "execute_result"
    }
   ],
   "source": [
    "lst_arch"
   ]
  },
  {
   "cell_type": "code",
   "execution_count": 25,
   "metadata": {
    "ExecuteTime": {
     "end_time": "2021-10-12T02:13:01.592297Z",
     "start_time": "2021-10-12T02:13:01.380905Z"
    }
   },
   "outputs": [],
   "source": [
    "lst_df = []\n",
    "for arch in lst_arch:\n",
    "    lst_df.append(pd.read_excel(arch))"
   ]
  },
  {
   "cell_type": "code",
   "execution_count": 26,
   "metadata": {
    "ExecuteTime": {
     "end_time": "2021-10-12T02:13:03.142621Z",
     "start_time": "2021-10-12T02:13:03.050231Z"
    }
   },
   "outputs": [],
   "source": [
    "data = pd.concat(lst_df,ignore_index=True)"
   ]
  },
  {
   "cell_type": "code",
   "execution_count": 27,
   "metadata": {
    "ExecuteTime": {
     "end_time": "2021-10-12T02:13:05.628271Z",
     "start_time": "2021-10-12T02:13:05.559234Z"
    }
   },
   "outputs": [
    {
     "data": {
      "text/html": [
       "<div>\n",
       "<style scoped>\n",
       "    .dataframe tbody tr th:only-of-type {\n",
       "        vertical-align: middle;\n",
       "    }\n",
       "\n",
       "    .dataframe tbody tr th {\n",
       "        vertical-align: top;\n",
       "    }\n",
       "\n",
       "    .dataframe thead th {\n",
       "        text-align: right;\n",
       "    }\n",
       "</style>\n",
       "<table border=\"1\" class=\"dataframe\">\n",
       "  <thead>\n",
       "    <tr style=\"text-align: right;\">\n",
       "      <th></th>\n",
       "      <th>Publication Type</th>\n",
       "      <th>Authors</th>\n",
       "      <th>Book Authors</th>\n",
       "      <th>Book Editors</th>\n",
       "      <th>Book Group Authors</th>\n",
       "      <th>Author Full Names</th>\n",
       "      <th>Book Author Full Names</th>\n",
       "      <th>Group Authors</th>\n",
       "      <th>Article Title</th>\n",
       "      <th>Source Title</th>\n",
       "      <th>...</th>\n",
       "      <th>WoS Categories</th>\n",
       "      <th>Research Areas</th>\n",
       "      <th>IDS Number</th>\n",
       "      <th>UT (Unique WOS ID)</th>\n",
       "      <th>Pubmed Id</th>\n",
       "      <th>Open Access Designations</th>\n",
       "      <th>Highly Cited Status</th>\n",
       "      <th>Hot Paper Status</th>\n",
       "      <th>Date of Export</th>\n",
       "      <th>Unnamed: 67</th>\n",
       "    </tr>\n",
       "  </thead>\n",
       "  <tbody>\n",
       "    <tr>\n",
       "      <th>0</th>\n",
       "      <td>S</td>\n",
       "      <td>Vicente-Vivas, E; Garcia-Nocetti, F</td>\n",
       "      <td>NaN</td>\n",
       "      <td>NaN</td>\n",
       "      <td>IEEE; IEEE</td>\n",
       "      <td>Vicente-Vivas, E; Garcia-Nocetti, F</td>\n",
       "      <td>NaN</td>\n",
       "      <td>NaN</td>\n",
       "      <td>Reconfigurable semi-virtual computer architect...</td>\n",
       "      <td>2001 IEEE AEROSPACE CONFERENCE PROCEEDINGS, VO...</td>\n",
       "      <td>...</td>\n",
       "      <td>Engineering, Aerospace; Engineering, Electrica...</td>\n",
       "      <td>Engineering</td>\n",
       "      <td>BT34X</td>\n",
       "      <td>WOS:000172696700226</td>\n",
       "      <td>NaN</td>\n",
       "      <td>NaN</td>\n",
       "      <td>NaN</td>\n",
       "      <td>NaN</td>\n",
       "      <td>2021-06-04</td>\n",
       "      <td>NaN</td>\n",
       "    </tr>\n",
       "    <tr>\n",
       "      <th>1</th>\n",
       "      <td>J</td>\n",
       "      <td>Mendoza-Cano, O; Aquino-Santos, R; Lopez-de la...</td>\n",
       "      <td>NaN</td>\n",
       "      <td>NaN</td>\n",
       "      <td>NaN</td>\n",
       "      <td>Mendoza-Cano, O.; Aquino-Santos, R.; Lopez-de ...</td>\n",
       "      <td>NaN</td>\n",
       "      <td>NaN</td>\n",
       "      <td>Experiments of an IoT-based wireless sensor ne...</td>\n",
       "      <td>JOURNAL OF HYDROINFORMATICS</td>\n",
       "      <td>...</td>\n",
       "      <td>Computer Science, Interdisciplinary Applicatio...</td>\n",
       "      <td>Computer Science; Engineering; Environmental S...</td>\n",
       "      <td>RT8UH</td>\n",
       "      <td>WOS:000644730400001</td>\n",
       "      <td>NaN</td>\n",
       "      <td>Other Gold, Green Published</td>\n",
       "      <td>NaN</td>\n",
       "      <td>NaN</td>\n",
       "      <td>2021-06-04</td>\n",
       "      <td>NaN</td>\n",
       "    </tr>\n",
       "    <tr>\n",
       "      <th>2</th>\n",
       "      <td>J</td>\n",
       "      <td>Burbano-Abril, A; Edwards, RM; Rangel-Licea, V...</td>\n",
       "      <td>NaN</td>\n",
       "      <td>NaN</td>\n",
       "      <td>NaN</td>\n",
       "      <td>Burbano-Abril, A.; Edwards, R. M.; Rangel-Lice...</td>\n",
       "      <td>NaN</td>\n",
       "      <td>NaN</td>\n",
       "      <td>Modeling and analysis of LTE connectivity in a...</td>\n",
       "      <td>COMPUTERS &amp; ELECTRICAL ENGINEERING</td>\n",
       "      <td>...</td>\n",
       "      <td>Computer Science, Hardware &amp; Architecture; Com...</td>\n",
       "      <td>Computer Science; Engineering</td>\n",
       "      <td>GM3IW</td>\n",
       "      <td>WOS:000437999300025</td>\n",
       "      <td>NaN</td>\n",
       "      <td>Green Accepted</td>\n",
       "      <td>NaN</td>\n",
       "      <td>NaN</td>\n",
       "      <td>2021-06-04</td>\n",
       "      <td>NaN</td>\n",
       "    </tr>\n",
       "    <tr>\n",
       "      <th>3</th>\n",
       "      <td>J</td>\n",
       "      <td>Pascoe-Chalke, M; Gomez-Castellanos, J; Bonill...</td>\n",
       "      <td>NaN</td>\n",
       "      <td>NaN</td>\n",
       "      <td>NaN</td>\n",
       "      <td>Pascoe-Chalke, Michael; Gomez-Castellanos, Jav...</td>\n",
       "      <td>NaN</td>\n",
       "      <td>NaN</td>\n",
       "      <td>Direction of Encounter (DoE): A Mobility-Based...</td>\n",
       "      <td>IEEE TRANSACTIONS ON MOBILE COMPUTING</td>\n",
       "      <td>...</td>\n",
       "      <td>Computer Science, Information Systems; Telecom...</td>\n",
       "      <td>Computer Science; Telecommunications</td>\n",
       "      <td>AR1CD</td>\n",
       "      <td>WOS:000343317500007</td>\n",
       "      <td>NaN</td>\n",
       "      <td>Green Published</td>\n",
       "      <td>NaN</td>\n",
       "      <td>NaN</td>\n",
       "      <td>2021-06-04</td>\n",
       "      <td>NaN</td>\n",
       "    </tr>\n",
       "    <tr>\n",
       "      <th>4</th>\n",
       "      <td>J</td>\n",
       "      <td>Aquino-Santos, R; Villasenor-Gonzalez, LA; Ran...</td>\n",
       "      <td>NaN</td>\n",
       "      <td>NaN</td>\n",
       "      <td>NaN</td>\n",
       "      <td>Aquino-Santos, R.; Villasenor-Gonzalez, L. A.;...</td>\n",
       "      <td>NaN</td>\n",
       "      <td>NaN</td>\n",
       "      <td>A Novel Topological Multicast Routing Algorith...</td>\n",
       "      <td>JOURNAL OF APPLIED RESEARCH AND TECHNOLOGY</td>\n",
       "      <td>...</td>\n",
       "      <td>Engineering, Multidisciplinary; Engineering, E...</td>\n",
       "      <td>Engineering</td>\n",
       "      <td>590NP</td>\n",
       "      <td>WOS:000277233500003</td>\n",
       "      <td>NaN</td>\n",
       "      <td>NaN</td>\n",
       "      <td>NaN</td>\n",
       "      <td>NaN</td>\n",
       "      <td>2021-06-04</td>\n",
       "      <td>NaN</td>\n",
       "    </tr>\n",
       "    <tr>\n",
       "      <th>...</th>\n",
       "      <td>...</td>\n",
       "      <td>...</td>\n",
       "      <td>...</td>\n",
       "      <td>...</td>\n",
       "      <td>...</td>\n",
       "      <td>...</td>\n",
       "      <td>...</td>\n",
       "      <td>...</td>\n",
       "      <td>...</td>\n",
       "      <td>...</td>\n",
       "      <td>...</td>\n",
       "      <td>...</td>\n",
       "      <td>...</td>\n",
       "      <td>...</td>\n",
       "      <td>...</td>\n",
       "      <td>...</td>\n",
       "      <td>...</td>\n",
       "      <td>...</td>\n",
       "      <td>...</td>\n",
       "      <td>...</td>\n",
       "      <td>...</td>\n",
       "    </tr>\n",
       "    <tr>\n",
       "      <th>195</th>\n",
       "      <td>B</td>\n",
       "      <td>de C, AML; Benitez-Perez, H</td>\n",
       "      <td>NaN</td>\n",
       "      <td>NaN</td>\n",
       "      <td>IEEE COMPUTER SOC</td>\n",
       "      <td>de C, Antonio Menendez L.; Benitez-Perez, Hector</td>\n",
       "      <td>NaN</td>\n",
       "      <td>NaN</td>\n",
       "      <td>Hierarchical Scheduling for Real-Time Distribu...</td>\n",
       "      <td>THIRD 2008 INTERNATIONAL CONFERENCE ON CONVERG...</td>\n",
       "      <td>...</td>\n",
       "      <td>Computer Science, Hardware &amp; Architecture; Eng...</td>\n",
       "      <td>Computer Science; Engineering</td>\n",
       "      <td>BIR65</td>\n",
       "      <td>WOS:000262355500012</td>\n",
       "      <td>NaN</td>\n",
       "      <td>NaN</td>\n",
       "      <td>NaN</td>\n",
       "      <td>NaN</td>\n",
       "      <td>2021-06-04</td>\n",
       "      <td>NaN</td>\n",
       "    </tr>\n",
       "    <tr>\n",
       "      <th>196</th>\n",
       "      <td>J</td>\n",
       "      <td>Benitez-Perez, H; Garcia-Nocetti, F; Thompson, H</td>\n",
       "      <td>NaN</td>\n",
       "      <td>NaN</td>\n",
       "      <td>NaN</td>\n",
       "      <td>Benitez-Perez, Hector; Garcia-Nocetti, F.; Tho...</td>\n",
       "      <td>NaN</td>\n",
       "      <td>NaN</td>\n",
       "      <td>Fault classification based upon self organizin...</td>\n",
       "      <td>INTERNATIONAL JOURNAL OF INNOVATIVE COMPUTING ...</td>\n",
       "      <td>...</td>\n",
       "      <td>Computer Science, Artificial Intelligence</td>\n",
       "      <td>Computer Science</td>\n",
       "      <td>146ZU</td>\n",
       "      <td>WOS:000244974000003</td>\n",
       "      <td>NaN</td>\n",
       "      <td>NaN</td>\n",
       "      <td>NaN</td>\n",
       "      <td>NaN</td>\n",
       "      <td>2021-06-04</td>\n",
       "      <td>NaN</td>\n",
       "    </tr>\n",
       "    <tr>\n",
       "      <th>197</th>\n",
       "      <td>B</td>\n",
       "      <td>Ramirez-Gonzatez, T; Quinones-Reves, P; Benite...</td>\n",
       "      <td>NaN</td>\n",
       "      <td>Urena, JU; Dominguez, JJG</td>\n",
       "      <td>NaN</td>\n",
       "      <td>Ramirez-Gonzatez, T.; Quinones-Reves, P.; Beni...</td>\n",
       "      <td>NaN</td>\n",
       "      <td>NaN</td>\n",
       "      <td>Reconfigurable Fuzzy Takagi Sugeno networked c...</td>\n",
       "      <td>2007 IEEE INTERNATIONAL SYMPOSIUM ON INTELLIGE...</td>\n",
       "      <td>...</td>\n",
       "      <td>Engineering, Electrical &amp; Electronic; Instrume...</td>\n",
       "      <td>Engineering; Instruments &amp; Instrumentation</td>\n",
       "      <td>BHG49</td>\n",
       "      <td>WOS:000252961000020</td>\n",
       "      <td>NaN</td>\n",
       "      <td>NaN</td>\n",
       "      <td>NaN</td>\n",
       "      <td>NaN</td>\n",
       "      <td>2021-06-04</td>\n",
       "      <td>NaN</td>\n",
       "    </tr>\n",
       "    <tr>\n",
       "      <th>198</th>\n",
       "      <td>B</td>\n",
       "      <td>Monroy, PEM; Perez, HB</td>\n",
       "      <td>NaN</td>\n",
       "      <td>NaN</td>\n",
       "      <td>NaN</td>\n",
       "      <td>Mendez Monroy, Paul Erick; Benitez Perez, Hector</td>\n",
       "      <td>NaN</td>\n",
       "      <td>NaN</td>\n",
       "      <td>Identification and control for discrete dynami...</td>\n",
       "      <td>CERMA 2007: ELECTRONICS, ROBOTICS AND AUTOMOTI...</td>\n",
       "      <td>...</td>\n",
       "      <td>Computer Science, Artificial Intelligence; Com...</td>\n",
       "      <td>Computer Science; Engineering</td>\n",
       "      <td>BHB09</td>\n",
       "      <td>WOS:000252026700019</td>\n",
       "      <td>NaN</td>\n",
       "      <td>NaN</td>\n",
       "      <td>NaN</td>\n",
       "      <td>NaN</td>\n",
       "      <td>2021-06-04</td>\n",
       "      <td>NaN</td>\n",
       "    </tr>\n",
       "    <tr>\n",
       "      <th>199</th>\n",
       "      <td>J</td>\n",
       "      <td>Pascoe-Chalke, M; Gomez-Castellanos, J; Bonill...</td>\n",
       "      <td>NaN</td>\n",
       "      <td>NaN</td>\n",
       "      <td>NaN</td>\n",
       "      <td>Pascoe-Chalke, Michael; Gomez-Castellanos, Jav...</td>\n",
       "      <td>NaN</td>\n",
       "      <td>NaN</td>\n",
       "      <td>Direction of Encounter (DoE): A Mobility-Based...</td>\n",
       "      <td>IEEE TRANSACTIONS ON MOBILE COMPUTING</td>\n",
       "      <td>...</td>\n",
       "      <td>Computer Science, Information Systems; Telecom...</td>\n",
       "      <td>Computer Science; Telecommunications</td>\n",
       "      <td>AR1CD</td>\n",
       "      <td>WOS:000343317500007</td>\n",
       "      <td>NaN</td>\n",
       "      <td>Green Published</td>\n",
       "      <td>NaN</td>\n",
       "      <td>NaN</td>\n",
       "      <td>2021-06-04</td>\n",
       "      <td>NaN</td>\n",
       "    </tr>\n",
       "  </tbody>\n",
       "</table>\n",
       "<p>200 rows × 68 columns</p>\n",
       "</div>"
      ],
      "text/plain": [
       "    Publication Type                                            Authors  \\\n",
       "0                  S                Vicente-Vivas, E; Garcia-Nocetti, F   \n",
       "1                  J  Mendoza-Cano, O; Aquino-Santos, R; Lopez-de la...   \n",
       "2                  J  Burbano-Abril, A; Edwards, RM; Rangel-Licea, V...   \n",
       "3                  J  Pascoe-Chalke, M; Gomez-Castellanos, J; Bonill...   \n",
       "4                  J  Aquino-Santos, R; Villasenor-Gonzalez, LA; Ran...   \n",
       "..               ...                                                ...   \n",
       "195                B                        de C, AML; Benitez-Perez, H   \n",
       "196                J   Benitez-Perez, H; Garcia-Nocetti, F; Thompson, H   \n",
       "197                B  Ramirez-Gonzatez, T; Quinones-Reves, P; Benite...   \n",
       "198                B                             Monroy, PEM; Perez, HB   \n",
       "199                J  Pascoe-Chalke, M; Gomez-Castellanos, J; Bonill...   \n",
       "\n",
       "    Book Authors               Book Editors Book Group Authors  \\\n",
       "0            NaN                        NaN         IEEE; IEEE   \n",
       "1            NaN                        NaN                NaN   \n",
       "2            NaN                        NaN                NaN   \n",
       "3            NaN                        NaN                NaN   \n",
       "4            NaN                        NaN                NaN   \n",
       "..           ...                        ...                ...   \n",
       "195          NaN                        NaN  IEEE COMPUTER SOC   \n",
       "196          NaN                        NaN                NaN   \n",
       "197          NaN  Urena, JU; Dominguez, JJG                NaN   \n",
       "198          NaN                        NaN                NaN   \n",
       "199          NaN                        NaN                NaN   \n",
       "\n",
       "                                     Author Full Names Book Author Full Names  \\\n",
       "0                  Vicente-Vivas, E; Garcia-Nocetti, F                    NaN   \n",
       "1    Mendoza-Cano, O.; Aquino-Santos, R.; Lopez-de ...                    NaN   \n",
       "2    Burbano-Abril, A.; Edwards, R. M.; Rangel-Lice...                    NaN   \n",
       "3    Pascoe-Chalke, Michael; Gomez-Castellanos, Jav...                    NaN   \n",
       "4    Aquino-Santos, R.; Villasenor-Gonzalez, L. A.;...                    NaN   \n",
       "..                                                 ...                    ...   \n",
       "195   de C, Antonio Menendez L.; Benitez-Perez, Hector                    NaN   \n",
       "196  Benitez-Perez, Hector; Garcia-Nocetti, F.; Tho...                    NaN   \n",
       "197  Ramirez-Gonzatez, T.; Quinones-Reves, P.; Beni...                    NaN   \n",
       "198   Mendez Monroy, Paul Erick; Benitez Perez, Hector                    NaN   \n",
       "199  Pascoe-Chalke, Michael; Gomez-Castellanos, Jav...                    NaN   \n",
       "\n",
       "     Group Authors                                      Article Title  \\\n",
       "0              NaN  Reconfigurable semi-virtual computer architect...   \n",
       "1              NaN  Experiments of an IoT-based wireless sensor ne...   \n",
       "2              NaN  Modeling and analysis of LTE connectivity in a...   \n",
       "3              NaN  Direction of Encounter (DoE): A Mobility-Based...   \n",
       "4              NaN  A Novel Topological Multicast Routing Algorith...   \n",
       "..             ...                                                ...   \n",
       "195            NaN  Hierarchical Scheduling for Real-Time Distribu...   \n",
       "196            NaN  Fault classification based upon self organizin...   \n",
       "197            NaN  Reconfigurable Fuzzy Takagi Sugeno networked c...   \n",
       "198            NaN  Identification and control for discrete dynami...   \n",
       "199            NaN  Direction of Encounter (DoE): A Mobility-Based...   \n",
       "\n",
       "                                          Source Title  ...  \\\n",
       "0    2001 IEEE AEROSPACE CONFERENCE PROCEEDINGS, VO...  ...   \n",
       "1                          JOURNAL OF HYDROINFORMATICS  ...   \n",
       "2                   COMPUTERS & ELECTRICAL ENGINEERING  ...   \n",
       "3                IEEE TRANSACTIONS ON MOBILE COMPUTING  ...   \n",
       "4           JOURNAL OF APPLIED RESEARCH AND TECHNOLOGY  ...   \n",
       "..                                                 ...  ...   \n",
       "195  THIRD 2008 INTERNATIONAL CONFERENCE ON CONVERG...  ...   \n",
       "196  INTERNATIONAL JOURNAL OF INNOVATIVE COMPUTING ...  ...   \n",
       "197  2007 IEEE INTERNATIONAL SYMPOSIUM ON INTELLIGE...  ...   \n",
       "198  CERMA 2007: ELECTRONICS, ROBOTICS AND AUTOMOTI...  ...   \n",
       "199              IEEE TRANSACTIONS ON MOBILE COMPUTING  ...   \n",
       "\n",
       "                                        WoS Categories  \\\n",
       "0    Engineering, Aerospace; Engineering, Electrica...   \n",
       "1    Computer Science, Interdisciplinary Applicatio...   \n",
       "2    Computer Science, Hardware & Architecture; Com...   \n",
       "3    Computer Science, Information Systems; Telecom...   \n",
       "4    Engineering, Multidisciplinary; Engineering, E...   \n",
       "..                                                 ...   \n",
       "195  Computer Science, Hardware & Architecture; Eng...   \n",
       "196          Computer Science, Artificial Intelligence   \n",
       "197  Engineering, Electrical & Electronic; Instrume...   \n",
       "198  Computer Science, Artificial Intelligence; Com...   \n",
       "199  Computer Science, Information Systems; Telecom...   \n",
       "\n",
       "                                        Research Areas IDS Number  \\\n",
       "0                                          Engineering      BT34X   \n",
       "1    Computer Science; Engineering; Environmental S...      RT8UH   \n",
       "2                        Computer Science; Engineering      GM3IW   \n",
       "3                 Computer Science; Telecommunications      AR1CD   \n",
       "4                                          Engineering      590NP   \n",
       "..                                                 ...        ...   \n",
       "195                      Computer Science; Engineering      BIR65   \n",
       "196                                   Computer Science      146ZU   \n",
       "197         Engineering; Instruments & Instrumentation      BHG49   \n",
       "198                      Computer Science; Engineering      BHB09   \n",
       "199               Computer Science; Telecommunications      AR1CD   \n",
       "\n",
       "      UT (Unique WOS ID) Pubmed Id     Open Access Designations  \\\n",
       "0    WOS:000172696700226       NaN                          NaN   \n",
       "1    WOS:000644730400001       NaN  Other Gold, Green Published   \n",
       "2    WOS:000437999300025       NaN               Green Accepted   \n",
       "3    WOS:000343317500007       NaN              Green Published   \n",
       "4    WOS:000277233500003       NaN                          NaN   \n",
       "..                   ...       ...                          ...   \n",
       "195  WOS:000262355500012       NaN                          NaN   \n",
       "196  WOS:000244974000003       NaN                          NaN   \n",
       "197  WOS:000252961000020       NaN                          NaN   \n",
       "198  WOS:000252026700019       NaN                          NaN   \n",
       "199  WOS:000343317500007       NaN              Green Published   \n",
       "\n",
       "    Highly Cited Status Hot Paper Status Date of Export Unnamed: 67  \n",
       "0                   NaN              NaN     2021-06-04         NaN  \n",
       "1                   NaN              NaN     2021-06-04         NaN  \n",
       "2                   NaN              NaN     2021-06-04         NaN  \n",
       "3                   NaN              NaN     2021-06-04         NaN  \n",
       "4                   NaN              NaN     2021-06-04         NaN  \n",
       "..                  ...              ...            ...         ...  \n",
       "195                 NaN              NaN     2021-06-04         NaN  \n",
       "196                 NaN              NaN     2021-06-04         NaN  \n",
       "197                 NaN              NaN     2021-06-04         NaN  \n",
       "198                 NaN              NaN     2021-06-04         NaN  \n",
       "199                 NaN              NaN     2021-06-04         NaN  \n",
       "\n",
       "[200 rows x 68 columns]"
      ]
     },
     "execution_count": 27,
     "metadata": {},
     "output_type": "execute_result"
    }
   ],
   "source": [
    "data"
   ]
  },
  {
   "cell_type": "code",
   "execution_count": 19,
   "metadata": {
    "ExecuteTime": {
     "end_time": "2021-10-12T02:10:48.248373Z",
     "start_time": "2021-10-12T02:10:48.233247Z"
    }
   },
   "outputs": [],
   "source": [
    "lst_autores = []\n",
    "for i,reg in enumerate(list(data[\"Addresses\"])):\n",
    "    if reg == reg: \n",
    "        if reg[:1] == \"[\":\n",
    "            afilaciones = reg.split(\"[\")\n",
    "            for afilacion in afilaciones[1:]:\n",
    "                if (afilacion.count(\"Univ Nacl Autonoma Mexico\") > 0) | (afilacion.count(\"UNAM\") > 0) | (afilacion.count(\"IIMAS\") > 0):\n",
    "                    autores = afilacion.split(\"]\")[0].split(\";\")\n",
    "                    for autor in autores:\n",
    "                        autor = \" \".join([autor.split(\",\")[1],autor.strip().split(\",\")[0]])\n",
    "                        autor = autor.strip()\n",
    "                        autor = autor.replace(\"-\",\" \")\n",
    "                        lst_autores.append(autor)"
   ]
  },
  {
   "cell_type": "code",
   "execution_count": 20,
   "metadata": {
    "ExecuteTime": {
     "end_time": "2021-10-12T02:10:48.536547Z",
     "start_time": "2021-10-12T02:10:48.527950Z"
    }
   },
   "outputs": [],
   "source": [
    "lst_autores = [\"andres alvarez cid\",\n",
    "             \"andres burbano abril\",\n",
    "             \"adrian duran chavesti\",\n",
    "             \"amelia gutierrez gomez\",\n",
    "             \"antonio menendez leonel de cervantes\",\n",
    "             \"alejandro cornejo\",\n",
    "             \"amado gutierrez\",\n",
    "             \"antonio peimbert\",\n",
    "             \"armando castaneda\",\n",
    "             \"demetrio fabian garcia nocetti\",\n",
    "             \"ernesto rubio acosta\",\n",
    "             \"fabian garcia nocetti\",\n",
    "             \"gabriel alonso nunez\",\n",
    "             \"hector benitez perez\",\n",
    "             \"jorge alexander rojas vargas\",\n",
    "             \"jose angel hermosillo gomez\",\n",
    "             \"javier gomez castellanos\",\n",
    "             \"jorge contreras silva\",\n",
    "             \"jorge luis ortega arjona\",\n",
    "             \"jose jaime camacho escoto\",\n",
    "             \"julio solano gonzalez\",\n",
    "             \"karla vargas\",\n",
    "             \"lucia medina gomez\",\n",
    "             \"miguel angel palomera perez\",\n",
    "             \"maria elena martinez perez\",\n",
    "             \"magali arellano vazquez\",\n",
    "             \"martha montes de oca\",\n",
    "             \"martin fuentes cruz\",\n",
    "             \"michael pascoe chalke\",\n",
    "             \"monica vazquez hernandez\",\n",
    "             \"oscar alejandro esquivel flores\",\n",
    "             \"paul erick mendez monroy\",\n",
    "             \"pedro acevedo contla\",\n",
    "             \"raul aquino santos\",\n",
    "             \"sergio rajsbaum\",\n",
    "             \"pedro quinones reyes\",\n",
    "             \"victor rangel licea\",\n",
    "             \"veronica bonilla gonzalez\"]"
   ]
  },
  {
   "cell_type": "code",
   "execution_count": 22,
   "metadata": {
    "ExecuteTime": {
     "end_time": "2021-10-12T02:10:56.707562Z",
     "start_time": "2021-10-12T02:10:56.689632Z"
    }
   },
   "outputs": [
    {
     "data": {
      "text/plain": [
       "38"
      ]
     },
     "execution_count": 22,
     "metadata": {},
     "output_type": "execute_result"
    }
   ],
   "source": [
    "len(lst_autores)"
   ]
  },
  {
   "cell_type": "code",
   "execution_count": 21,
   "metadata": {
    "ExecuteTime": {
     "end_time": "2021-10-12T02:10:49.173251Z",
     "start_time": "2021-10-12T02:10:49.150284Z"
    }
   },
   "outputs": [
    {
     "name": "stdout",
     "output_type": "stream",
     "text": [
      "andres alvarez cid\n",
      "andres burbano abril\n",
      "adrian duran chavesti\n",
      "amelia gutierrez gomez\n",
      "antonio menendez leonel de cervantes\n",
      "alejandro cornejo\n",
      "amado gutierrez\n",
      "antonio peimbert\n",
      "armando castaneda\n",
      "demetrio fabian garcia nocetti\n",
      "ernesto rubio acosta\n",
      "fabian garcia nocetti\n",
      "gabriel alonso nunez\n",
      "hector benitez perez\n",
      "jorge alexander rojas vargas\n",
      "jose angel hermosillo gomez\n",
      "javier gomez castellanos\n",
      "jorge contreras silva\n",
      "jorge luis ortega arjona\n",
      "jose jaime camacho escoto\n",
      "julio solano gonzalez\n",
      "karla vargas\n",
      "lucia medina gomez\n",
      "miguel angel palomera perez\n",
      "maria elena martinez perez\n",
      "magali arellano vazquez\n",
      "martha montes de oca\n",
      "martin fuentes cruz\n",
      "michael pascoe chalke\n",
      "monica vazquez hernandez\n",
      "oscar alejandro esquivel flores\n",
      "paul erick mendez monroy\n",
      "pedro acevedo contla\n",
      "raul aquino santos\n",
      "sergio rajsbaum\n",
      "pedro quinones reyes\n",
      "victor rangel licea\n",
      "veronica bonilla gonzalez\n"
     ]
    }
   ],
   "source": [
    "for l in lst_autores:\n",
    "    print(l)"
   ]
  },
  {
   "cell_type": "markdown",
   "metadata": {},
   "source": [
    "## webofScImSe"
   ]
  },
  {
   "cell_type": "code",
   "execution_count": 12,
   "metadata": {
    "ExecuteTime": {
     "end_time": "2021-09-01T05:42:35.950160Z",
     "start_time": "2021-09-01T05:42:35.743736Z"
    }
   },
   "outputs": [],
   "source": [
    "lst_arch = glob(\"Datos/webofScImSe*.xls\")\n",
    "\n",
    "lst_arch\n",
    "\n",
    "lst_df = []\n",
    "for arch in lst_arch:\n",
    "    lst_df.append(pd.read_excel(arch))\n",
    "\n",
    "data = pd.concat(lst_df,ignore_index=True)\n",
    "\n",
    "lst_autores = []\n",
    "for i,reg in enumerate(list(data[\"Addresses\"])):\n",
    "    if reg == reg: \n",
    "        if reg[:1] == \"[\":\n",
    "            afilaciones = reg.split(\"[\")\n",
    "            for afilacion in afilaciones[1:]:\n",
    "                if (afilacion.count(\"Univ Nacl Autonoma Mexico\") > 0) | (afilacion.count(\"UNAM\") > 0) | (afilacion.count(\"IIMAS\") > 0) | (afilacion.count(\"Univ Nacl Autonoma Mexicana\") > 0):\n",
    "                    autores = afilacion.split(\"]\")[0].split(\";\")\n",
    "                    for autor in autores:\n",
    "                        autor = \" \".join([autor.split(\",\")[1],autor.strip().split(\",\")[0]])\n",
    "                        autor = autor.strip()\n",
    "                        autor = autor.replace(\"-\",\" \")\n",
    "                        lst_autores.append(autor)"
   ]
  },
  {
   "cell_type": "code",
   "execution_count": 15,
   "metadata": {
    "ExecuteTime": {
     "end_time": "2021-09-01T05:45:26.468375Z",
     "start_time": "2021-09-01T05:45:26.449522Z"
    }
   },
   "outputs": [
    {
     "data": {
      "text/plain": [
       "{'a. garcia valenzuela',\n",
       " 'abel herrera camacho',\n",
       " 'adalberto llarena',\n",
       " 'afabian torres',\n",
       " 'alberto caballero ruiz',\n",
       " 'alejandra a. lopez caloca',\n",
       " 'alejandro vega',\n",
       " 'alfonso estudillo romero',\n",
       " 'alfonso gastelum strozzi',\n",
       " 'alfredo gallardo torres',\n",
       " 'ana carolina ruiz fernandez',\n",
       " 'angel carrillo bermejo',\n",
       " 'antonio cedillo hernandez',\n",
       " 'arturo i. osorio infante',\n",
       " 'b. reyes ramirez',\n",
       " 'bartolome reyes ramirez',\n",
       " 'benjamin gutierrez becker',\n",
       " 'boris escalante',\n",
       " 'boris escalante ramirez',\n",
       " 'c. alcerreca alcocer',\n",
       " 'c. garcia segundo',\n",
       " 'carlos aldair roman balbuena',\n",
       " 'carlos d. hernandez mena',\n",
       " 'carlos franco galvan',\n",
       " 'carlos mira',\n",
       " 'carlos morales solares',\n",
       " 'carlos velarde',\n",
       " 'cesar cossio guerrero',\n",
       " 'cesar dominguez velasco',\n",
       " 'crescencio garcia segundo',\n",
       " 'cresencio garcia segundo',\n",
       " 'demetrio fabian garcia nocetti',\n",
       " 'e. garduno',\n",
       " 'edgar a. torres gallegos',\n",
       " 'edgar garduno',\n",
       " 'eduardo lemus',\n",
       " 'emesto bribiesca correa',\n",
       " 'enrique vallejo',\n",
       " 'eric lira berra',\n",
       " 'erick h. pasaye',\n",
       " 'erik carbajal degante',\n",
       " 'erik molino minero re',\n",
       " 'ernesto bribiesca',\n",
       " 'ernesto bribiesca correa',\n",
       " 'ernesto moya albor',\n",
       " 'ernesto rubio acosta',\n",
       " 'ernst kussul',\n",
       " 'f. arambula cosio',\n",
       " 'fabian torres',\n",
       " 'felipe altamirano del monte',\n",
       " 'felipe orduna bustamante',\n",
       " 'fernando a. barrios',\n",
       " 'fernando arambula',\n",
       " 'fernando arambula cosio',\n",
       " 'fernando castillo flores',\n",
       " 'flor julian santiago',\n",
       " 'francisco garcia ugalde',\n",
       " 'francisco hernandez quiroz',\n",
       " 'francisco j. garcia ugalde',\n",
       " 'gerardo sierra',\n",
       " 'german gonzalez',\n",
       " 'graciela bribiesca correa',\n",
       " 'graciela velasco herrera',\n",
       " 'gustavo velasquez',\n",
       " 'gustavo velasquez rodriguez',\n",
       " 'hanna oktaba',\n",
       " 'hector benitez perez',\n",
       " 'j. a. marquez flores',\n",
       " 'j. o. flores flores',\n",
       " 'j. perez gonzalez',\n",
       " 'jesus savage',\n",
       " 'jesus savage carmona',\n",
       " 'jesus zarco navarro',\n",
       " 'jimena olveres',\n",
       " 'jirnena olveres',\n",
       " 'joan albert sanchez cabeza',\n",
       " 'jonathan rodriguez andrade',\n",
       " 'jorge a. marquez flores',\n",
       " 'jorge marquez flores',\n",
       " 'jorge perez gonzalez',\n",
       " 'jose gilberto cardoso mohedano',\n",
       " 'jose i. figueroa angulo',\n",
       " 'jose luis perez',\n",
       " 'jose rufino diaz uribe',\n",
       " 'jose saniger',\n",
       " 'juan arturo herrera ortiz',\n",
       " 'juan marcos brandi purata',\n",
       " 'juan martin cardenas',\n",
       " 'juan r. rodriguez rodriguez',\n",
       " 'juan salvador perez lomeli',\n",
       " 'juan velazquez',\n",
       " 'julieta mateos',\n",
       " 'katya rodriguez vazquez',\n",
       " 'leiner barba j',\n",
       " 'leiner barba p',\n",
       " 'leonardo ledesma',\n",
       " 'leopoldo ruiz huerta',\n",
       " 'lorena vargas quintero',\n",
       " 'lucero roldan serrato',\n",
       " 'm. a. padilla castaneda',\n",
       " 'm. elena martinez perez',\n",
       " 'madeleine leon',\n",
       " 'manuel campos garcia',\n",
       " 'manuel cedillo hernandez',\n",
       " 'maria del pilar angeles',\n",
       " 'maria julieta mateos',\n",
       " 'maribel badillo aleman',\n",
       " 'mazay jimenez salinas',\n",
       " 'miguel a. padilla castaneda',\n",
       " 'miguel angel padilla castaneda',\n",
       " 'miguel cadena mendez',\n",
       " 'miguel hernandez acosta',\n",
       " 'miguel morales trujillo',\n",
       " 'misael reyes lopez',\n",
       " 'montserrat alvarado gonzalez',\n",
       " 'n. hevia montiel',\n",
       " 'neil bruce',\n",
       " 'nidiyare hevia montiel',\n",
       " 'nora isabel perez quezadas',\n",
       " 'pedro i. rodriguez perez',\n",
       " 'r. m. quispe siccha',\n",
       " 'r. sato berru',\n",
       " 'rodrigo nava',\n",
       " 'ronald s. leder',\n",
       " 'rosa ma. quispe siccha',\n",
       " 'sandra l. gomez coronel',\n",
       " 'sarael alcauter',\n",
       " 'saul a. heredia perez',\n",
       " 'sergio teodoro vite',\n",
       " 'tetyana baydyk',\n",
       " 'tiago santos',\n",
       " 'v. m. moock',\n",
       " 'v. moock',\n",
       " 'verena m. moock',\n",
       " 'vicente torres garcia',\n",
       " 'victor de emanuel armengol cruz',\n",
       " 'wendy aguilar',\n",
       " 'xavier chiappa carrara',\n",
       " 'zian fanti'}"
      ]
     },
     "execution_count": 15,
     "metadata": {},
     "output_type": "execute_result"
    }
   ],
   "source": [
    "set([x.lower() for x in lst_autores])"
   ]
  },
  {
   "cell_type": "code",
   "execution_count": 28,
   "metadata": {
    "ExecuteTime": {
     "end_time": "2021-10-12T02:22:08.446436Z",
     "start_time": "2021-10-12T02:22:08.432388Z"
    }
   },
   "outputs": [],
   "source": [
    "lst_autores = [\"augusto garcia valenzuela\",\n",
    "               \"jose abel herrera camacho\",\n",
    "               \"adalberto llarena\",\n",
    "               \"alberto caballero ruiz\",\n",
    "               \"alejandra aurelia lopez caloca\",\n",
    "               \"alfonso estudillo romero\",\n",
    "               \"alfredo gallardo torres\",\n",
    "               \"ana carolina ruiz fernandez\",\n",
    "               \"angel carrillo bermejo\",\n",
    "               \"antonio cedillo hernandez\",\n",
    "               \"arturo ioan osorio infante\",\n",
    "               \"bartolome reyes ramirez\",\n",
    "               \"benjamin gutierrez becker\",\n",
    "               \"boris escalante ramirez\",\n",
    "               \"claudio alcerreca alcocer\",\n",
    "               \"crescencio garcia segundo\",\n",
    "               \"carlos aldair roman balbuena\",\n",
    "               \"carlos daniel hernandez mena\",\n",
    "               \"carlos franco galvan\",\n",
    "               \"carlos morales solares\",\n",
    "               \"cesar cossio guerrero\",\n",
    "               \"cesar dominguez velasco\",\n",
    "               \"crescencio garcia segundo\",\n",
    "               \"edgar augusto torres gallegos\",\n",
    "               \"edgar garduno\",\n",
    "               \"eduardo lemus\",\n",
    "               \"emesto bribiesca correa\",\n",
    "               \"eric lira berra\",\n",
    "               \"erick humberto payase alcaraz\",\n",
    "               \"erik carbajal degante\",\n",
    "               \"erik molino minero re\",\n",
    "               \"ernesto bribiesca correa\",\n",
    "               \"ernesto moya albor\",\n",
    "               \"ernesto rubio acosta\",\n",
    "               \"ernst kussul\",\n",
    "               \"felipe altamirano del monte\",\n",
    "               \"felipe orduna bustamante\",\n",
    "               \"fernando alvarez barrios\",\n",
    "               \"flor julian santiago\",\n",
    "               \"graciela bribiesca correa\",\n",
    "               \"graciela velasco herrera\",\n",
    "               \"gustavo velasquez rodriguez\",\n",
    "               \"jorge alberto marquez flores\",\n",
    "               \"jose ocotaln flores flores\",\n",
    "               \"jorge luis perez gonzalez\",\n",
    "               \"jesus savage carmona\",\n",
    "               \"jesus zarco navarro\",\n",
    "               \"joan albert sanchez cabeza\",\n",
    "               \"jonathan rodriguez andrade\",\n",
    "               \"jorge perez gonzalez\",\n",
    "               \"jose gilberto cardoso mohedano\",\n",
    "               \"jose israel figueroa angulo\"\n",
    "               \"jose luis perez\",\n",
    "               \"jose rufino diaz uribe\",\n",
    "               \"jose saniger\",\n",
    "               \"juan arturo herrera ortiz\",\n",
    "               \"juan marcos brandi purata\",\n",
    "               \"juan martin cardenas\",\n",
    "               \"juan ramon rodriguez rodriguez\",\n",
    "               \"juan salvador perez lomeli\",\n",
    "               \"katya rodriguez vazquez\",\n",
    "               \"leiner barba jiminez\",\n",
    "               \"leonardo ledesma dominguez\",\n",
    "               \"leopoldo ruiz huerta\",\n",
    "               \"lorena vargas quintero\",\n",
    "               \"lucero roldan serrato\",\n",
    "               \"miguel angel padilla castaneda\",\n",
    "               \"manuel campos garcia\",\n",
    "               \"manuel cedillo hernandez\",\n",
    "               \"maria julieta mateos\",\n",
    "               \"maribel badillo aleman\",\n",
    "               \"mazay jimenez salinas\",\n",
    "               \"miguel angel padilla castaneda\",\n",
    "               \"miguel cadena mendez\",\n",
    "               \"miguel hernandez acosta\",\n",
    "               \"miguel morales trujillo\",\n",
    "               \"misael reyes lopez\",\n",
    "               \"montserrat alvarado gonzalez\",\n",
    "               \"nidiyare hevia montiel\",\n",
    "               \"neil bruce davidson\",\n",
    "               \"nora isabel perez quezadas\",\n",
    "               \"pedro israel rodriguez perez\",\n",
    "               \"rosa maria quispe siccha\",\n",
    "               \"roberto ysacc sato berru\",\n",
    "               \"sandra luz gomez coronel\",\n",
    "               \"saul alexis heredia perez\",\n",
    "               \"sergio teodoro vite\",\n",
    "               \"tetyana baydyk\",\n",
    "               \"verena margitta moock\",\n",
    "               \"vicente torres garcia\",\n",
    "               \"victor de emanuel armengol cruz\",\n",
    "               \"zian fanti\"]"
   ]
  },
  {
   "cell_type": "code",
   "execution_count": 29,
   "metadata": {
    "ExecuteTime": {
     "end_time": "2021-10-12T02:22:17.079666Z",
     "start_time": "2021-10-12T02:22:17.066519Z"
    }
   },
   "outputs": [
    {
     "data": {
      "text/plain": [
       "91"
      ]
     },
     "execution_count": 29,
     "metadata": {},
     "output_type": "execute_result"
    }
   ],
   "source": [
    "len(lst_autores)"
   ]
  },
  {
   "cell_type": "code",
   "execution_count": null,
   "metadata": {},
   "outputs": [],
   "source": [
    "36+38+91+"
   ]
  },
  {
   "cell_type": "markdown",
   "metadata": {},
   "source": [
    "## wosIA"
   ]
  },
  {
   "cell_type": "code",
   "execution_count": 39,
   "metadata": {
    "ExecuteTime": {
     "end_time": "2021-09-02T05:53:05.844142Z",
     "start_time": "2021-09-02T05:53:05.588489Z"
    }
   },
   "outputs": [],
   "source": [
    "lst_arch = glob(\"Datos/wosIA*.xls\")\n",
    "\n",
    "lst_arch\n",
    "\n",
    "lst_df = []\n",
    "for arch in lst_arch:\n",
    "    lst_df.append(pd.read_excel(arch))\n",
    "\n",
    "data = pd.concat(lst_df,ignore_index=True)\n",
    "\n",
    "lst_autores = []\n",
    "for i,reg in enumerate(list(data[\"Addresses\"])):\n",
    "    if reg == reg: \n",
    "        if reg[:1] == \"[\":\n",
    "            afilaciones = reg.split(\"[\")\n",
    "            for afilacion in afilaciones[1:]:\n",
    "                if (afilacion.count(\"Univ Nacl Autonoma Mexico\") > 0) | (afilacion.count(\"UNAM\") > 0) | (afilacion.count(\"IIMAS\") > 0) | (afilacion.count(\"Univ Nacl Autonoma Mexicana\") > 0):\n",
    "                    autores = afilacion.split(\"]\")[0].split(\";\")\n",
    "                    for autor in autores:\n",
    "                        autor = \" \".join([autor.split(\",\")[1],autor.strip().split(\",\")[0]])\n",
    "                        autor = autor.strip()\n",
    "                        autor = autor.replace(\"-\",\" \")\n",
    "                        lst_autores.append(autor)"
   ]
  },
  {
   "cell_type": "code",
   "execution_count": 40,
   "metadata": {
    "ExecuteTime": {
     "end_time": "2021-09-02T05:53:05.849746Z",
     "start_time": "2021-09-02T05:53:05.845647Z"
    }
   },
   "outputs": [
    {
     "data": {
      "text/plain": [
       "172"
      ]
     },
     "execution_count": 40,
     "metadata": {},
     "output_type": "execute_result"
    }
   ],
   "source": [
    "len(set(lst_autores))"
   ]
  },
  {
   "cell_type": "markdown",
   "metadata": {},
   "source": [
    "## woscompu1"
   ]
  },
  {
   "cell_type": "code",
   "execution_count": 10,
   "metadata": {
    "ExecuteTime": {
     "end_time": "2021-09-02T05:47:33.470091Z",
     "start_time": "2021-09-02T05:47:32.547040Z"
    }
   },
   "outputs": [],
   "source": [
    "lst_arch = glob(\"Datos/woscompu*.xls\")\n",
    "\n",
    "lst_arch\n",
    "\n",
    "lst_df = []\n",
    "for arch in lst_arch:\n",
    "    lst_df.append(pd.read_excel(arch))\n",
    "\n",
    "data = pd.concat(lst_df,ignore_index=True)\n",
    "\n",
    "lst_autores = []\n",
    "for i,reg in enumerate(list(data[\"Addresses\"])):\n",
    "    if reg == reg: \n",
    "        if reg[:1] == \"[\":\n",
    "            afilaciones = reg.split(\"[\")\n",
    "            for afilacion in afilaciones[1:]:\n",
    "                if (afilacion.count(\"Univ Nacl Autonoma Mexico\") > 0) | (afilacion.count(\"UNAM\") > 0) | (afilacion.count(\"IIMAS\") > 0) | (afilacion.count(\"Univ Nacl Autonoma Mexicana\") > 0):\n",
    "                    autores = afilacion.split(\"]\")[0].split(\";\")\n",
    "                    for autor in autores:\n",
    "                        autor = \" \".join([autor.split(\",\")[1],autor.strip().split(\",\")[0]])\n",
    "                        autor = autor.strip()\n",
    "                        autor = autor.replace(\"-\",\" \")\n",
    "                        lst_autores.append(autor)"
   ]
  },
  {
   "cell_type": "code",
   "execution_count": 42,
   "metadata": {
    "ExecuteTime": {
     "end_time": "2021-09-02T06:08:27.888025Z",
     "start_time": "2021-09-02T06:08:27.865068Z"
    }
   },
   "outputs": [
    {
     "data": {
      "text/plain": [
       "{'a. l. laureano cruces',\n",
       " 'adriana robles cabrera',\n",
       " 'adriana zubieta zavala',\n",
       " 'alejandro casas',\n",
       " 'alejandro f. hoeflich',\n",
       " 'alejandro frank',\n",
       " 'alejandro huerta saquero',\n",
       " 'alejandro morales',\n",
       " 'alejandro pimentel alarcon',\n",
       " 'alexis lozano',\n",
       " 'alfonso medina urrea',\n",
       " 'alfredo arenas gonzalez',\n",
       " 'alfredo j. santillan gonzalez',\n",
       " 'alicia montserrat alvarado gonzalez',\n",
       " 'alonso palomino garibay',\n",
       " 'ana barahona',\n",
       " 'ana i. moreno calles',\n",
       " 'ana leonor rivera',\n",
       " 'ana lilia laureano cruces',\n",
       " 'ana lucia valencia',\n",
       " 'ana maria hernandez hernandez',\n",
       " 'ana ruiz linares',\n",
       " 'andrew adamatzky',\n",
       " 'angel fernando kuri morales',\n",
       " 'angel zuniga',\n",
       " 'angelica munoz melendez',\n",
       " 'ariel saenz',\n",
       " 'arturo rodriguez garcia',\n",
       " 'augusto cesar poot hernandez',\n",
       " 'azucena montes rendon',\n",
       " 'beatriz a. garro',\n",
       " 'beatriz aurora garro',\n",
       " 'beatriz peralta',\n",
       " 'c. a. pina garcia',\n",
       " 'carlos francisco mendez cruz',\n",
       " 'carlos gershenson',\n",
       " 'carlos henrique mariano',\n",
       " 'carlos maldonado',\n",
       " 'carlos pineda',\n",
       " 'carlos velarde',\n",
       " 'carolina zepeda tena',\n",
       " 'christian segura',\n",
       " 'christopher r. stephens',\n",
       " 'christopher stephens',\n",
       " 'claudia loreto miranda',\n",
       " 'claudio molina salinas',\n",
       " 'constantino gonzalez salazar',\n",
       " 'd. a. acevedo moreno',\n",
       " 'daniel monsivais',\n",
       " 'daniel trejo banos',\n",
       " 'dante perez mendez',\n",
       " 'dario zubillaga',\n",
       " 'david a. rosenblueth',\n",
       " 'dobromir dotov',\n",
       " 'e. a. mancera galvan',\n",
       " 'edgar arenas',\n",
       " 'edgar garduno',\n",
       " 'edmundo pavel soriano morales',\n",
       " 'eduardo robles belmont',\n",
       " 'edwin aldana bobadilla',\n",
       " 'elizabeth mancera',\n",
       " 'elvia ramirez carrillo',\n",
       " 'enrique martinez miranda',\n",
       " 'erasmo batta',\n",
       " 'ernesto bribiesca',\n",
       " 'ernesto perez rueda',\n",
       " 'esteban ricalde',\n",
       " 'ewan colman',\n",
       " 'fatima rodriguez erazo',\n",
       " 'fernanda lopez escobedo',\n",
       " 'fernanda sanchez puig',\n",
       " 'flor alejandra romero montiel',\n",
       " 'franklenin sierra',\n",
       " 'frida rivera buendia',\n",
       " 'g. e. sandoval romero',\n",
       " 'gabriel ramos fernandez',\n",
       " 'gemma bel enguix',\n",
       " 'genaro j. martinez',\n",
       " 'georgina montserrat resendiz benhumea',\n",
       " 'geovany cruz',\n",
       " 'gerardo eugenio sierra martinez',\n",
       " 'gerardo iniguez',\n",
       " 'gerardo sierra',\n",
       " 'gerardo sierra martinez',\n",
       " 'germinal cocho',\n",
       " 'guillermo rodriguez abitia',\n",
       " 'guillermo santamaria bonfil',\n",
       " 'guillermo u. ortiz garin',\n",
       " 'gustavo carreon',\n",
       " 'h. h. aviles arriaga',\n",
       " 'hector aviles',\n",
       " 'hector h. aviles',\n",
       " 'hugo flores huerta',\n",
       " 'hyobin kim',\n",
       " 'ignacio lopez pena',\n",
       " 'ivan cortes arce',\n",
       " 'ivan mejia guevaara',\n",
       " 'ivan mejia guevara',\n",
       " 'ivan meza',\n",
       " 'iwin leenen',\n",
       " 'jeronimo zizumbo',\n",
       " 'jesus m. siqueiros garcia',\n",
       " 'jesus perez romero',\n",
       " 'jonathan f. easton',\n",
       " 'jonathan gallegos acosta',\n",
       " 'jorge cervantes',\n",
       " 'jorge flores',\n",
       " 'jorge i. campos',\n",
       " 'jorge l. zapotecatl',\n",
       " 'jorge torres',\n",
       " 'jorge zapotecatl',\n",
       " 'jose a. morales',\n",
       " 'jose l. mateos',\n",
       " 'jose luis gordillo',\n",
       " 'juan arturo herrera ortiz',\n",
       " 'julian solorzano soto',\n",
       " 'k. rodriguez vazquez',\n",
       " 'katya rodriguez vazquez',\n",
       " 'l. a. pineda cortes',\n",
       " 'leonardo zapata fonseca',\n",
       " 'linda r. manzanilla',\n",
       " 'luis a. escobar',\n",
       " 'luis a. pineda',\n",
       " 'luis alberto pineda cortes',\n",
       " 'luis daniel aguilar',\n",
       " 'luis duran arenas',\n",
       " 'luis e. cortes berrueco',\n",
       " 'luis enrique cortes berrueco',\n",
       " 'luis german perez hernandez',\n",
       " 'luis pineda',\n",
       " 'm. alejandro dorantes cruz',\n",
       " 'm. elena martinez perez',\n",
       " 'm. mora torres',\n",
       " 'malaquias lopez cervantes',\n",
       " 'marco arieli herrera valdez',\n",
       " 'maria elena larraga',\n",
       " 'mariana vallejo',\n",
       " 'mario zarco',\n",
       " 'martha mora torres',\n",
       " 'mayverena jurado pineda',\n",
       " 'nadia campos salas',\n",
       " 'nelson fernandez',\n",
       " 'octavio b. zapata',\n",
       " 'oliver lopez corona',\n",
       " 'omar k. pineda',\n",
       " 'omar y. bello chavolla',\n",
       " 'pablo frank bolton',\n",
       " 'patricia aviles mandujano',\n",
       " 'ramon garduno juarez',\n",
       " 'rebeca valenzuela arguelles',\n",
       " 'rodrigo poblanno balp',\n",
       " 'rosalio f. rodriguez',\n",
       " 'ruben fossion',\n",
       " 'sergio antonio alcala',\n",
       " 'sergio sanchez',\n",
       " 'silvia tenorio salgado',\n",
       " 'sofia galicia haro',\n",
       " 'sofia n. galicia haro',\n",
       " 'susana ramirez vizcaya',\n",
       " 'thomas n. wisdom',\n",
       " 'tom froese',\n",
       " 'v. argueta diaz',\n",
       " 'vctor manuel corza vargas',\n",
       " 'victor m. toledo',\n",
       " 'victor mireles',\n",
       " 'victor sanchez cordero',\n",
       " 'wendy aguilar',\n",
       " 'ximena gonzalez grandon',\n",
       " 'yalbi i. balderas martinez',\n",
       " 'yann frauel',\n",
       " 'yevgeniy kolokoltsev',\n",
       " 'yukihiro minami koyam'}"
      ]
     },
     "execution_count": 42,
     "metadata": {},
     "output_type": "execute_result"
    }
   ],
   "source": [
    "set([x.lower() for x in lst_autores])"
   ]
  },
  {
   "cell_type": "code",
   "execution_count": 30,
   "metadata": {
    "ExecuteTime": {
     "end_time": "2021-10-12T02:22:44.504705Z",
     "start_time": "2021-10-12T02:22:44.477403Z"
    }
   },
   "outputs": [],
   "source": [
    "lst_autores = [\"ana lilia laureano cruces\",\n",
    "               \"adriana robles cabrera\",\n",
    "               \"adriana zubieta zavala\",\n",
    "               \"alejandro frank hoeflic\",\n",
    "               \"alejandro huerta saquero\",\n",
    "               \"alejandro pimentel alarcon\",\n",
    "               \"alejandro morales mori\",\n",
    "               \"alejandro morales ramirez\",\n",
    "               \"alexis lozano\",\n",
    "               \"alfonso medina urrea\",\n",
    "               \"alfredo arenas gonzalez\",\n",
    "               \"alfredo javier santillan gonzalez\",\n",
    "               \"alicia montserrat alvarado gonzalez\",\n",
    "               \"alonso palomino garibay\",\n",
    "               \"ana rosa barahona echeverria\",\n",
    "               \"ana isabel moreno calles\",\n",
    "               \"ana leonor rivera\",\n",
    "               \"ana lilia laureano cruces\",\n",
    "               \"ana lucia valencia\",\n",
    "               \"ana maria hernandez hernandez\",\n",
    "               \"ana ruiz linares\",\n",
    "               \"andrew adamatzky\",\n",
    "               \"angel fernando kuri morales\",\n",
    "               \"angel emmanuel zuniga tovar\",\n",
    "               \"miguel angel zuniga perez\",\n",
    "               \"angelica munoz melendez\",\n",
    "               \"ariel saenz\",\n",
    "               \"arturo rodriguez garcia\",\n",
    "               \"augusto cesar poot hernandez\",\n",
    "               \"azucena montes rendon\",\n",
    "               \"beatriz aurora garro\",\n",
    "               \"carlos alfonso pina garcia\",\n",
    "               \"carlos francisco mendez cruz\",\n",
    "               \"carlos gershenson\",\n",
    "               \"carlos henrique mariano\",\n",
    "               \"carolina zepeda tena\",\n",
    "               \"christopher rhodes stephens\",\n",
    "               \"claudia loreto miranda\",\n",
    "               \"claudio molina salinas\",\n",
    "               \"constantino gonzalez salazar\",\n",
    "               \"david auerelio acevedo moreno\",\n",
    "               \"monica maria acevedo moreno\",\n",
    "               \"daniel monsivais\",\n",
    "               \"daniel trejo banos\",\n",
    "               \"dante perez mendez\",\n",
    "               \"dario zubillaga\",\n",
    "               \"david arturo rosenblueth laguette\",\n",
    "               \"obromir dotov\",\n",
    "               \"elizabeth alma mancera galvan\",\n",
    "               \"edmundo pavel soriano morales\",\n",
    "               \"eduardo robles belmont\",\n",
    "               \"edwin aldana bobadilla\",\n",
    "               \"elvia ramirez carrillo\",\n",
    "               \"enrique martinez miranda\",\n",
    "               \"erasmo batta\",\n",
    "               \"ernesto bribiesca\",\n",
    "               \"ernesto perez rueda\",\n",
    "               \"esteban ricalde\",\n",
    "               \"ewan colman\",\n",
    "               \"fatima rodriguez erazo\",\n",
    "               \"fernanda lopez escobedo\",\n",
    "               \"fernanda sanchez puig\",\n",
    "               \"flor alejandra romero montiel\",\n",
    "               \"franklenin sierra\",\n",
    "               \"frida rivera buendia\",\n",
    "               \"gabriel eduardo sandoval romero\",\n",
    "               \"gabriel ramos fernandez\",\n",
    "               \"gemma bel enguix\",\n",
    "               \"genaro juarez martinez\",\n",
    "               \"georgina montserrat resendiz benhumea\",\n",
    "               \"gerardo eugenio sierra martinez\",\n",
    "               \"gerardo iniguez\",\n",
    "               \"gerardo sierra martinez\",\n",
    "               \"germinal cocho\",\n",
    "               \"guillermo rodriguez abitia\",\n",
    "               \"guillermo santamaria bonfil\",\n",
    "               \"guillermo ulises ortiz garin\",\n",
    "               \"hector hugo aviles arriaga\",\n",
    "               \"hugo flores huerta\",\n",
    "               \"hyobin kim\",\n",
    "               \"ignacio lopez pena\",\n",
    "               \"ivan cortes arce\",\n",
    "               \"ivan mejia guevara\",\n",
    "               \"iwin leenen\",\n",
    "               \"jeronimo zizumbo\",\n",
    "               \"jesus mario siqueiros garcia\",\n",
    "               \"jesus perez romero\",\n",
    "               \"jonathan francis easton\",\n",
    "               \"jonathan gallegos acosta\",\n",
    "               \"jorge luis zapotecatl\",\n",
    "               \"jose antonio morales alvarez\",\n",
    "               \"jose luis gordillo\",\n",
    "               \"juan arturo herrera ortiz\",\n",
    "               \"julian solorzano soto\",\n",
    "               \"katya rodriguez vazquez\",\n",
    "               \"leonardo zapata fonseca\",\n",
    "               \"linda rosa manzanilla\",\n",
    "               \"luis alberto pineda cortes\",\n",
    "               \"luis daniel aguilar\",\n",
    "               \"luis duran arenas\",\n",
    "               \"luis enrique cortes berrueco\",\n",
    "               \"luis german perez hernandez\",\n",
    "               \"alejandro dorantes cruz\",\n",
    "               \"elena martinez perez\",\n",
    "               \"martha mora torres\",\n",
    "               \"malaquias lopez cervantes\",\n",
    "               \"marco arieli herrera valdez\",\n",
    "               \"maria elena larraga\",\n",
    "               \"mayverena jurado pineda\",\n",
    "               \"nadia campos salas\",\n",
    "               \"octavio baltazar zapata fonseca\",\n",
    "               \"oliver lopez corona\",\n",
    "               \"omar karim pineda lopez\",\n",
    "               \"omar yaxmehen bello chavolla\",\n",
    "               \"pablo frank bolton\",\n",
    "               \"patricia aviles mandujano\",\n",
    "               \"ramon garduno juarez\",\n",
    "               \"rebeca valenzuela arguelles\",\n",
    "               \"rodrigo poblanno balp\",\n",
    "               \"ruben fossion\",\n",
    "               \"sergio antonio alcala\",\n",
    "               \"silvia tenorio salgado\",\n",
    "               \"sofia n. galicia haro\",\n",
    "               \"susana ramirez vizcaya\",\n",
    "               \"tom froese\",\n",
    "               \"victor argueta diaz\",\n",
    "               \"victor manuel corza vargas\",\n",
    "               \"victor manuel toledo\",\n",
    "               \"victor sanchez cordero\",\n",
    "               \"wendy aguilar\",\n",
    "               \"ximena gonzalez grandon\",\n",
    "               \"yalbi itzel balderas martinez\",\n",
    "               \"yann frauel\",\n",
    "               \"yevgeniy kolokoltsev\",\n",
    "               \"yukihiro minami koyam\"]"
   ]
  },
  {
   "cell_type": "code",
   "execution_count": 31,
   "metadata": {
    "ExecuteTime": {
     "end_time": "2021-10-12T02:22:56.698206Z",
     "start_time": "2021-10-12T02:22:56.686211Z"
    }
   },
   "outputs": [
    {
     "data": {
      "text/plain": [
       "135"
      ]
     },
     "execution_count": 31,
     "metadata": {},
     "output_type": "execute_result"
    }
   ],
   "source": [
    "len(lst_autores)"
   ]
  },
  {
   "cell_type": "code",
   "execution_count": 34,
   "metadata": {
    "ExecuteTime": {
     "end_time": "2021-10-12T06:51:04.587528Z",
     "start_time": "2021-10-12T06:51:04.570973Z"
    }
   },
   "outputs": [
    {
     "data": {
      "text/plain": [
       "270"
      ]
     },
     "execution_count": 34,
     "metadata": {},
     "output_type": "execute_result"
    }
   ],
   "source": [
    "36+38+82+114"
   ]
  },
  {
   "cell_type": "code",
   "execution_count": 44,
   "metadata": {
    "ExecuteTime": {
     "end_time": "2021-09-02T06:56:27.473800Z",
     "start_time": "2021-09-02T06:56:27.464160Z"
    }
   },
   "outputs": [
    {
     "data": {
      "text/plain": [
       "13.383849999999999"
      ]
     },
     "execution_count": 44,
     "metadata": {},
     "output_type": "execute_result"
    }
   ],
   "source": [
    "803031/1000/60"
   ]
  },
  {
   "cell_type": "code",
   "execution_count": null,
   "metadata": {},
   "outputs": [],
   "source": []
  }
 ],
 "metadata": {
  "kernelspec": {
   "display_name": "Python 3",
   "language": "python",
   "name": "python3"
  },
  "language_info": {
   "codemirror_mode": {
    "name": "ipython",
    "version": 3
   },
   "file_extension": ".py",
   "mimetype": "text/x-python",
   "name": "python",
   "nbconvert_exporter": "python",
   "pygments_lexer": "ipython3",
   "version": "3.6.9"
  },
  "toc": {
   "base_numbering": 1,
   "nav_menu": {},
   "number_sections": true,
   "sideBar": true,
   "skip_h1_title": false,
   "title_cell": "Table of Contents",
   "title_sidebar": "Contents",
   "toc_cell": false,
   "toc_position": {},
   "toc_section_display": true,
   "toc_window_display": false
  }
 },
 "nbformat": 4,
 "nbformat_minor": 4
}
