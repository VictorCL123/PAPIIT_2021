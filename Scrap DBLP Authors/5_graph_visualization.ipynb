{
 "cells": [
  {
   "cell_type": "code",
   "execution_count": 1,
   "id": "4a4a35a9",
   "metadata": {
    "ExecuteTime": {
     "end_time": "2021-11-09T20:47:24.563870Z",
     "start_time": "2021-11-09T20:47:24.086153Z"
    }
   },
   "outputs": [],
   "source": [
    "from pyvis.network import Network\n",
    "import pandas as pd"
   ]
  },
  {
   "cell_type": "code",
   "execution_count": 2,
   "id": "b957bbc4",
   "metadata": {
    "ExecuteTime": {
     "end_time": "2021-11-09T20:47:24.588214Z",
     "start_time": "2021-11-09T20:47:24.582621Z"
    }
   },
   "outputs": [],
   "source": [
    "df_edges = pd.read_csv('2015_2020_edges_unam.csv')"
   ]
  },
  {
   "cell_type": "code",
   "execution_count": 3,
   "id": "2d8e5cad",
   "metadata": {
    "ExecuteTime": {
     "end_time": "2021-11-09T20:47:25.112397Z",
     "start_time": "2021-11-09T20:47:25.100454Z"
    }
   },
   "outputs": [
    {
     "data": {
      "text/plain": [
       "Index(['source', 'target'], dtype='object')"
      ]
     },
     "execution_count": 3,
     "metadata": {},
     "output_type": "execute_result"
    }
   ],
   "source": [
    "df_edges.columns"
   ]
  },
  {
   "cell_type": "code",
   "execution_count": 4,
   "id": "ea7d22eb",
   "metadata": {
    "ExecuteTime": {
     "end_time": "2021-11-09T20:47:25.660700Z",
     "start_time": "2021-11-09T20:47:25.645901Z"
    }
   },
   "outputs": [],
   "source": [
    "nodes = set(df_edges['source'].drop_duplicates().to_list() + df_edges['target'].drop_duplicates().to_list())"
   ]
  },
  {
   "cell_type": "code",
   "execution_count": 5,
   "id": "e67618d3",
   "metadata": {
    "ExecuteTime": {
     "end_time": "2021-11-09T20:47:26.240663Z",
     "start_time": "2021-11-09T20:47:26.204625Z"
    }
   },
   "outputs": [
    {
     "data": {
      "text/html": [
       "\n",
       "        <iframe\n",
       "            width=\"500px\"\n",
       "            height=\"500px\"\n",
       "            src=\"nt.html\"\n",
       "            frameborder=\"0\"\n",
       "            allowfullscreen\n",
       "        ></iframe>\n",
       "        "
      ],
      "text/plain": [
       "<IPython.lib.display.IFrame at 0x7f83b776d220>"
      ]
     },
     "execution_count": 5,
     "metadata": {},
     "output_type": "execute_result"
    }
   ],
   "source": [
    "nt = Network(notebook=True)\n",
    "nt.add_nodes(nodes)\n",
    "nt.add_edges(df_edges.values)\n",
    "nt.barnes_hut()\n",
    "nt.show('nt.html')"
   ]
  },
  {
   "cell_type": "code",
   "execution_count": 6,
   "id": "78a5986c",
   "metadata": {
    "ExecuteTime": {
     "end_time": "2021-11-09T20:47:32.082854Z",
     "start_time": "2021-11-09T20:47:32.070098Z"
    }
   },
   "outputs": [
    {
     "data": {
      "text/html": [
       "\n",
       "        <iframe\n",
       "            width=\"500px\"\n",
       "            height=\"500px\"\n",
       "            src=\"nt.html\"\n",
       "            frameborder=\"0\"\n",
       "            allowfullscreen\n",
       "        ></iframe>\n",
       "        "
      ],
      "text/plain": [
       "<IPython.lib.display.IFrame at 0x7f83b79b1c70>"
      ]
     },
     "execution_count": 6,
     "metadata": {},
     "output_type": "execute_result"
    }
   ],
   "source": [
    "nt = Network(notebook=True)\n",
    "nt.add_nodes(nodes)\n",
    "nt.add_edges(df_edges.values)\n",
    "#nt.barnes_hut()\n",
    "nt.force_atlas_2based()\n",
    "nt.show('nt.html')"
   ]
  },
  {
   "cell_type": "markdown",
   "id": "a3921e8c",
   "metadata": {},
   "source": [
    "# Colorear con centralidad "
   ]
  },
  {
   "cell_type": "code",
   "execution_count": 7,
   "id": "36f6a0db",
   "metadata": {
    "ExecuteTime": {
     "end_time": "2021-11-09T20:47:36.775991Z",
     "start_time": "2021-11-09T20:47:36.686990Z"
    }
   },
   "outputs": [],
   "source": [
    "import networkx as nx\n",
    "import matplotlib\n",
    "from matplotlib import cm"
   ]
  },
  {
   "cell_type": "code",
   "execution_count": 8,
   "id": "48fa9e25",
   "metadata": {
    "ExecuteTime": {
     "end_time": "2021-11-09T20:47:37.154067Z",
     "start_time": "2021-11-09T20:47:37.152072Z"
    }
   },
   "outputs": [],
   "source": [
    "G = nx.Graph()"
   ]
  },
  {
   "cell_type": "code",
   "execution_count": 9,
   "id": "686c4617",
   "metadata": {
    "ExecuteTime": {
     "end_time": "2021-11-09T20:47:37.641539Z",
     "start_time": "2021-11-09T20:47:37.633540Z"
    }
   },
   "outputs": [],
   "source": [
    "G.add_edges_from(df_edges.values)"
   ]
  },
  {
   "cell_type": "code",
   "execution_count": 10,
   "id": "1ec3a2b7",
   "metadata": {
    "ExecuteTime": {
     "end_time": "2021-11-09T20:47:38.095667Z",
     "start_time": "2021-11-09T20:47:38.051856Z"
    }
   },
   "outputs": [],
   "source": [
    "df_eigenvector_centrality = pd.json_normalize(nx.eigenvector_centrality(G)).T.reset_index()"
   ]
  },
  {
   "cell_type": "code",
   "execution_count": 11,
   "id": "ba75294b",
   "metadata": {
    "ExecuteTime": {
     "end_time": "2021-11-09T20:47:38.748904Z",
     "start_time": "2021-11-09T20:47:38.737323Z"
    }
   },
   "outputs": [
    {
     "data": {
      "text/plain": [
       "Index(['index', 0], dtype='object')"
      ]
     },
     "execution_count": 11,
     "metadata": {},
     "output_type": "execute_result"
    }
   ],
   "source": [
    "df_eigenvector_centrality.columns"
   ]
  },
  {
   "cell_type": "code",
   "execution_count": 12,
   "id": "7fdb13b0",
   "metadata": {
    "ExecuteTime": {
     "end_time": "2021-11-09T20:47:39.175327Z",
     "start_time": "2021-11-09T20:47:39.168948Z"
    }
   },
   "outputs": [],
   "source": [
    "df_eigenvector_centrality.columns = ['nodo','eigenvector_centrality']"
   ]
  },
  {
   "cell_type": "code",
   "execution_count": 13,
   "id": "c1744386",
   "metadata": {
    "ExecuteTime": {
     "end_time": "2021-11-09T20:47:40.006853Z",
     "start_time": "2021-11-09T20:47:39.751891Z"
    }
   },
   "outputs": [
    {
     "data": {
      "text/plain": [
       "<AxesSubplot:>"
      ]
     },
     "execution_count": 13,
     "metadata": {},
     "output_type": "execute_result"
    },
    {
     "data": {
      "image/png": "[encoded data removed]",
      "text/plain": [
       "<Figure size 432x288 with 1 Axes>"
      ]
     },
     "metadata": {
      "needs_background": "light"
     },
     "output_type": "display_data"
    }
   ],
   "source": [
    "df_eigenvector_centrality['eigenvector_centrality'].hist()"
   ]
  },
  {
   "cell_type": "code",
   "execution_count": 14,
   "id": "98d434a1",
   "metadata": {
    "ExecuteTime": {
     "end_time": "2021-11-09T20:47:40.572877Z",
     "start_time": "2021-11-09T20:47:40.562809Z"
    }
   },
   "outputs": [],
   "source": [
    "def color_map_color(value, cmap_name='viridis', vmin=0, vmax=1):\n",
    "    # norm = plt.Normalize(vmin, vmax)\n",
    "    norm = matplotlib.colors.Normalize(vmin=vmin, vmax=vmax)\n",
    "    cmap = cm.get_cmap(cmap_name)  # PiYG\n",
    "    rgb = cmap(norm(abs(value)))[:3]  # will return rgba, we take only first 3 so we get rgb\n",
    "    color = matplotlib.colors.rgb2hex(rgb)\n",
    "    return color"
   ]
  },
  {
   "cell_type": "code",
   "execution_count": 15,
   "id": "affc4312",
   "metadata": {
    "ExecuteTime": {
     "end_time": "2021-11-09T20:47:41.109733Z",
     "start_time": "2021-11-09T20:47:41.054410Z"
    }
   },
   "outputs": [],
   "source": [
    "min_ = df_eigenvector_centrality['eigenvector_centrality'].min()\n",
    "max_ = df_eigenvector_centrality['eigenvector_centrality'].max()\n",
    "df_eigenvector_centrality['color'] = df_eigenvector_centrality['eigenvector_centrality'].map(lambda x: color_map_color(x,vmin=min_,vmax = max_))"
   ]
  },
  {
   "cell_type": "code",
   "execution_count": 16,
   "id": "5374befc",
   "metadata": {
    "ExecuteTime": {
     "end_time": "2021-11-09T20:47:41.584875Z",
     "start_time": "2021-11-09T20:47:41.549285Z"
    }
   },
   "outputs": [
    {
     "data": {
      "text/html": [
       "\n",
       "        <iframe\n",
       "            width=\"500px\"\n",
       "            height=\"500px\"\n",
       "            src=\"nt.html\"\n",
       "            frameborder=\"0\"\n",
       "            allowfullscreen\n",
       "        ></iframe>\n",
       "        "
      ],
      "text/plain": [
       "<IPython.lib.display.IFrame at 0x7f83b28fd700>"
      ]
     },
     "execution_count": 16,
     "metadata": {},
     "output_type": "execute_result"
    }
   ],
   "source": [
    "nt = Network(notebook=True)\n",
    "nt.add_nodes(df_eigenvector_centrality['nodo'],color = df_eigenvector_centrality['color'])\n",
    "nt.add_edges(df_edges.values)\n",
    "#nt.barnes_hut()\n",
    "nt.force_atlas_2based()\n",
    "nt.show('nt.html')"
   ]
  },
  {
   "cell_type": "code",
   "execution_count": 17,
   "id": "1ee99c02",
   "metadata": {
    "ExecuteTime": {
     "end_time": "2021-11-09T20:47:44.368149Z",
     "start_time": "2021-11-09T20:47:44.347942Z"
    }
   },
   "outputs": [
    {
     "data": {
      "text/html": [
       "<div>\n",
       "<style scoped>\n",
       "    .dataframe tbody tr th:only-of-type {\n",
       "        vertical-align: middle;\n",
       "    }\n",
       "\n",
       "    .dataframe tbody tr th {\n",
       "        vertical-align: top;\n",
       "    }\n",
       "\n",
       "    .dataframe thead th {\n",
       "        text-align: right;\n",
       "    }\n",
       "</style>\n",
       "<table border=\"1\" class=\"dataframe\">\n",
       "  <thead>\n",
       "    <tr style=\"text-align: right;\">\n",
       "      <th></th>\n",
       "      <th>nodo</th>\n",
       "      <th>eigenvector_centrality</th>\n",
       "      <th>color</th>\n",
       "    </tr>\n",
       "  </thead>\n",
       "  <tbody>\n",
       "    <tr>\n",
       "      <th>0</th>\n",
       "      <td>adrian duran chavesti</td>\n",
       "      <td>2.439709e-05</td>\n",
       "      <td>#440154</td>\n",
       "    </tr>\n",
       "    <tr>\n",
       "      <th>1</th>\n",
       "      <td>hector benitez perez</td>\n",
       "      <td>1.581051e-04</td>\n",
       "      <td>#440154</td>\n",
       "    </tr>\n",
       "    <tr>\n",
       "      <th>2</th>\n",
       "      <td>alejandro dorantes cruz</td>\n",
       "      <td>1.638728e-01</td>\n",
       "      <td>#297a8e</td>\n",
       "    </tr>\n",
       "    <tr>\n",
       "      <th>3</th>\n",
       "      <td>alejandro pimentel alarcon</td>\n",
       "      <td>3.430045e-01</td>\n",
       "      <td>#a0da39</td>\n",
       "    </tr>\n",
       "    <tr>\n",
       "      <th>4</th>\n",
       "      <td>gemma bel enguix</td>\n",
       "      <td>3.205399e-01</td>\n",
       "      <td>#7cd250</td>\n",
       "    </tr>\n",
       "    <tr>\n",
       "      <th>...</th>\n",
       "      <td>...</td>\n",
       "      <td>...</td>\n",
       "      <td>...</td>\n",
       "    </tr>\n",
       "    <tr>\n",
       "      <th>133</th>\n",
       "      <td>malaquias lopez cervantes</td>\n",
       "      <td>3.202614e-27</td>\n",
       "      <td>#440154</td>\n",
       "    </tr>\n",
       "    <tr>\n",
       "      <th>134</th>\n",
       "      <td>monica vazquez hernandez</td>\n",
       "      <td>6.931911e-06</td>\n",
       "      <td>#440154</td>\n",
       "    </tr>\n",
       "    <tr>\n",
       "      <th>135</th>\n",
       "      <td>pedro acevedo contla</td>\n",
       "      <td>6.931911e-06</td>\n",
       "      <td>#440154</td>\n",
       "    </tr>\n",
       "    <tr>\n",
       "      <th>136</th>\n",
       "      <td>susana gomez gomez</td>\n",
       "      <td>3.202614e-27</td>\n",
       "      <td>#440154</td>\n",
       "    </tr>\n",
       "    <tr>\n",
       "      <th>137</th>\n",
       "      <td>ximena gonzalez grandon</td>\n",
       "      <td>2.783615e-04</td>\n",
       "      <td>#440154</td>\n",
       "    </tr>\n",
       "  </tbody>\n",
       "</table>\n",
       "<p>138 rows × 3 columns</p>\n",
       "</div>"
      ],
      "text/plain": [
       "                           nodo  eigenvector_centrality    color\n",
       "0         adrian duran chavesti            2.439709e-05  #440154\n",
       "1          hector benitez perez            1.581051e-04  #440154\n",
       "2       alejandro dorantes cruz            1.638728e-01  #297a8e\n",
       "3    alejandro pimentel alarcon            3.430045e-01  #a0da39\n",
       "4              gemma bel enguix            3.205399e-01  #7cd250\n",
       "..                          ...                     ...      ...\n",
       "133   malaquias lopez cervantes            3.202614e-27  #440154\n",
       "134    monica vazquez hernandez            6.931911e-06  #440154\n",
       "135        pedro acevedo contla            6.931911e-06  #440154\n",
       "136          susana gomez gomez            3.202614e-27  #440154\n",
       "137     ximena gonzalez grandon            2.783615e-04  #440154\n",
       "\n",
       "[138 rows x 3 columns]"
      ]
     },
     "execution_count": 17,
     "metadata": {},
     "output_type": "execute_result"
    }
   ],
   "source": [
    "df_eigenvector_centrality"
   ]
  },
  {
   "cell_type": "code",
   "execution_count": null,
   "id": "aa4ac7d1",
   "metadata": {},
   "outputs": [],
   "source": []
  },
  {
   "cell_type": "code",
   "execution_count": null,
   "id": "23a41d25",
   "metadata": {},
   "outputs": [],
   "source": []
  },
  {
   "cell_type": "code",
   "execution_count": null,
   "id": "88b739ed",
   "metadata": {},
   "outputs": [],
   "source": []
  }
 ],
 "metadata": {
  "kernelspec": {
   "display_name": "LCD_venv",
   "language": "python",
   "name": "lcd"
  },
  "language_info": {
   "codemirror_mode": {
    "name": "ipython",
    "version": 3
   },
   "file_extension": ".py",
   "mimetype": "text/x-python",
   "name": "python",
   "nbconvert_exporter": "python",
   "pygments_lexer": "ipython3",
   "version": "3.8.10"
  },
  "toc": {
   "base_numbering": 1,
   "nav_menu": {},
   "number_sections": true,
   "sideBar": true,
   "skip_h1_title": false,
   "title_cell": "Table of Contents",
   "title_sidebar": "Contents",
   "toc_cell": false,
   "toc_position": {},
   "toc_section_display": true,
   "toc_window_display": false
  }
 },
 "nbformat": 4,
 "nbformat_minor": 5
}
