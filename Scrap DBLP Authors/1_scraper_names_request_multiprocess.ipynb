{
 "cells": [
  {
   "cell_type": "code",
   "execution_count": 1,
   "id": "bb937f44",
   "metadata": {
    "ExecuteTime": {
     "end_time": "2021-07-30T19:24:14.512975Z",
     "start_time": "2021-07-30T19:24:13.982583Z"
    }
   },
   "outputs": [],
   "source": [
    "import requests\n",
    "from bs4 import BeautifulSoup\n",
    "import pandas as pd\n",
    "import numpy as np\n",
    "import os"
   ]
  },
  {
   "cell_type": "code",
   "execution_count": 2,
   "id": "a0701e65",
   "metadata": {
    "ExecuteTime": {
     "end_time": "2021-07-30T19:24:14.883226Z",
     "start_time": "2021-07-30T19:24:14.876662Z"
    }
   },
   "outputs": [],
   "source": [
    "from multiprocessing import Pool"
   ]
  },
  {
   "cell_type": "code",
   "execution_count": 3,
   "id": "31d6ed42",
   "metadata": {
    "ExecuteTime": {
     "end_time": "2021-07-30T19:24:15.467463Z",
     "start_time": "2021-07-30T19:24:15.453247Z"
    }
   },
   "outputs": [],
   "source": [
    "# Función para multiproceso\n",
    "def make_pool(func, params, threads=None):\n",
    "    pool = Pool(threads)\n",
    "    data = pool.map(func, params)\n",
    "    pool.close()\n",
    "    pool.join()\n",
    "    del pool\n",
    "    return [x for x in data]"
   ]
  },
  {
   "cell_type": "code",
   "execution_count": 4,
   "id": "ee781783",
   "metadata": {
    "ExecuteTime": {
     "end_time": "2021-07-30T19:24:16.020231Z",
     "start_time": "2021-07-30T19:24:16.013529Z"
    }
   },
   "outputs": [],
   "source": [
    "url = \"https://dblp.org/pers\""
   ]
  },
  {
   "cell_type": "code",
   "execution_count": 5,
   "id": "2a37aab6",
   "metadata": {
    "ExecuteTime": {
     "end_time": "2021-07-30T19:24:16.459417Z",
     "start_time": "2021-07-30T19:24:16.451318Z"
    }
   },
   "outputs": [],
   "source": [
    "data_path = 'dfs_pos_i_20210727/'"
   ]
  },
  {
   "cell_type": "code",
   "execution_count": 6,
   "id": "26c8a980",
   "metadata": {
    "ExecuteTime": {
     "end_time": "2021-07-30T19:24:17.099530Z",
     "start_time": "2021-07-30T19:24:17.076794Z"
    }
   },
   "outputs": [
    {
     "data": {
      "text/plain": [
       "'dfs_pos_i_20210727/df.csv'"
      ]
     },
     "execution_count": 6,
     "metadata": {},
     "output_type": "execute_result"
    }
   ],
   "source": [
    "os.path.join(data_path,'df.csv')"
   ]
  },
  {
   "cell_type": "code",
   "execution_count": 7,
   "id": "22fbce24",
   "metadata": {
    "ExecuteTime": {
     "end_time": "2021-07-30T19:24:18.846691Z",
     "start_time": "2021-07-30T19:24:18.833126Z"
    }
   },
   "outputs": [],
   "source": [
    "def df_posi(pos_i):\n",
    "    try:\n",
    "        r = requests.get(url=url, params={'pos': pos_i})\n",
    "        soup = BeautifulSoup(r.content, 'html.parser')\n",
    "        columns = soup.select('.column')\n",
    "        psns = []\n",
    "        for column in columns:\n",
    "            persons = column.find_all('li')\n",
    "            for person in persons:\n",
    "                name = person.select_one('a').text.strip()\n",
    "                ref = person.select_one('a')['href']\n",
    "                psns.append([name, ref])\n",
    "        df = pd.DataFrame(psns, columns=['name', 'ref'])\n",
    "        df['pos_i'] = pos_i\n",
    "        df.to_csv(os.path.join(data_path,f'df_{str(pos_i)}.csv'),index=False)\n",
    "        return df\n",
    "    except Exception as e:\n",
    "        df = pd.DataFrame([[pos_i,e]], columns=['pos_i', 'name'])\n",
    "        df.to_csv(os.path.join(data_path,f'df_{str(pos_i)}.csv'),index=False)\n",
    "        return df \n",
    "        print(e)\n",
    "    \n",
    "\n",
    "data = [0,300,600]\n",
    "data =  np.arange(0, 2827338, 300)"
   ]
  },
  {
   "cell_type": "code",
   "execution_count": 9,
   "id": "9deaf00d",
   "metadata": {
    "ExecuteTime": {
     "end_time": "2021-07-29T15:38:49.037601Z",
     "start_time": "2021-07-29T15:38:49.029185Z"
    }
   },
   "outputs": [],
   "source": [
    "data = pd.read_csv('df_pos_i_completo.csv')"
   ]
  },
  {
   "cell_type": "code",
   "execution_count": 10,
   "id": "f6607964",
   "metadata": {
    "ExecuteTime": {
     "end_time": "2021-07-29T15:38:54.141501Z",
     "start_time": "2021-07-29T15:38:54.129669Z"
    }
   },
   "outputs": [],
   "source": [
    "data = data[data.registro!='completo']['pos_i']"
   ]
  },
  {
   "cell_type": "code",
   "execution_count": 11,
   "id": "e9cbc68a",
   "metadata": {
    "ExecuteTime": {
     "end_time": "2021-07-29T15:38:55.055477Z",
     "start_time": "2021-07-29T15:38:55.045640Z"
    }
   },
   "outputs": [
    {
     "data": {
      "text/plain": [
       "(3643,)"
      ]
     },
     "execution_count": 11,
     "metadata": {},
     "output_type": "execute_result"
    }
   ],
   "source": [
    "data.shape"
   ]
  },
  {
   "cell_type": "code",
   "execution_count": 12,
   "id": "507d330d",
   "metadata": {
    "ExecuteTime": {
     "end_time": "2021-07-29T15:49:50.472704Z",
     "start_time": "2021-07-29T15:38:57.529358Z"
    }
   },
   "outputs": [],
   "source": [
    "#Problema: nos bloquearon\n",
    "results = make_pool(df_posi,data)"
   ]
  },
  {
   "cell_type": "code",
   "execution_count": 13,
   "id": "0d68b528",
   "metadata": {
    "ExecuteTime": {
     "end_time": "2021-07-29T15:52:33.077961Z",
     "start_time": "2021-07-29T15:52:33.070614Z"
    }
   },
   "outputs": [],
   "source": [
    "#results"
   ]
  },
  {
   "cell_type": "code",
   "execution_count": 14,
   "id": "efdf08a2",
   "metadata": {
    "ExecuteTime": {
     "end_time": "2021-07-29T15:52:38.506670Z",
     "start_time": "2021-07-29T15:52:38.208425Z"
    }
   },
   "outputs": [],
   "source": [
    "df_results = pd.concat(results).reset_index(drop=True)"
   ]
  },
  {
   "cell_type": "code",
   "execution_count": 15,
   "id": "198d8b79",
   "metadata": {
    "ExecuteTime": {
     "end_time": "2021-07-29T15:53:03.932693Z",
     "start_time": "2021-07-29T15:53:03.413851Z"
    }
   },
   "outputs": [],
   "source": [
    "df_results.to_csv('scraper_names_ref_20210729.csv',index=False)"
   ]
  },
  {
   "cell_type": "code",
   "execution_count": null,
   "id": "3daca137",
   "metadata": {},
   "outputs": [],
   "source": []
  },
  {
   "cell_type": "code",
   "execution_count": 8,
   "id": "446f6a3a",
   "metadata": {
    "ExecuteTime": {
     "end_time": "2021-07-27T23:08:41.952347Z",
     "start_time": "2021-07-27T23:08:39.879871Z"
    }
   },
   "outputs": [
    {
     "data": {
      "text/html": [
       "<div>\n",
       "<style scoped>\n",
       "    .dataframe tbody tr th:only-of-type {\n",
       "        vertical-align: middle;\n",
       "    }\n",
       "\n",
       "    .dataframe tbody tr th {\n",
       "        vertical-align: top;\n",
       "    }\n",
       "\n",
       "    .dataframe thead th {\n",
       "        text-align: right;\n",
       "    }\n",
       "</style>\n",
       "<table border=\"1\" class=\"dataframe\">\n",
       "  <thead>\n",
       "    <tr style=\"text-align: right;\">\n",
       "      <th></th>\n",
       "      <th>name</th>\n",
       "      <th>ref</th>\n",
       "      <th>pos_i</th>\n",
       "    </tr>\n",
       "  </thead>\n",
       "  <tbody>\n",
       "    <tr>\n",
       "      <th>0</th>\n",
       "      <td>A, Ambha</td>\n",
       "      <td>https://dblp.org/pers/a/A:Ambha.html</td>\n",
       "      <td>5</td>\n",
       "    </tr>\n",
       "    <tr>\n",
       "      <th>1</th>\n",
       "      <td>A, Ameer Suhail P.</td>\n",
       "      <td>https://dblp.org/pers/a/A:Ameer_Suhail_P=.html</td>\n",
       "      <td>5</td>\n",
       "    </tr>\n",
       "    <tr>\n",
       "      <th>2</th>\n",
       "      <td>A, Anand P.</td>\n",
       "      <td>https://dblp.org/pers/a/A:Anand_P=.html</td>\n",
       "      <td>5</td>\n",
       "    </tr>\n",
       "    <tr>\n",
       "      <th>3</th>\n",
       "      <td>A, Annis Fathima</td>\n",
       "      <td>https://dblp.org/pers/a/A:Annis_Fathima.html</td>\n",
       "      <td>5</td>\n",
       "    </tr>\n",
       "    <tr>\n",
       "      <th>4</th>\n",
       "      <td>A, Anu Monisha</td>\n",
       "      <td>https://dblp.org/pers/a/A:Anu_Monisha.html</td>\n",
       "      <td>5</td>\n",
       "    </tr>\n",
       "    <tr>\n",
       "      <th>...</th>\n",
       "      <td>...</td>\n",
       "      <td>...</td>\n",
       "      <td>...</td>\n",
       "    </tr>\n",
       "    <tr>\n",
       "      <th>295</th>\n",
       "      <td>Aabdollah, Morteza</td>\n",
       "      <td>https://dblp.org/pers/a/Aabdollah:Morteza.html</td>\n",
       "      <td>5</td>\n",
       "    </tr>\n",
       "    <tr>\n",
       "      <th>296</th>\n",
       "      <td>Aabed, Mohammed A.</td>\n",
       "      <td>https://dblp.org/pers/a/Aabed:Mohammed_A=.html</td>\n",
       "      <td>5</td>\n",
       "    </tr>\n",
       "    <tr>\n",
       "      <th>297</th>\n",
       "      <td>Aabel, Lise</td>\n",
       "      <td>https://dblp.org/pers/a/Aabel:Lise.html</td>\n",
       "      <td>5</td>\n",
       "    </tr>\n",
       "    <tr>\n",
       "      <th>298</th>\n",
       "      <td>Aaber, Zeyad S.</td>\n",
       "      <td>https://dblp.org/pers/a/Aaber:Zeyad_S=.html</td>\n",
       "      <td>5</td>\n",
       "    </tr>\n",
       "    <tr>\n",
       "      <th>299</th>\n",
       "      <td>Aaberg, Erik</td>\n",
       "      <td>https://dblp.org/pers/a/Aaberg:Erik.html</td>\n",
       "      <td>5</td>\n",
       "    </tr>\n",
       "  </tbody>\n",
       "</table>\n",
       "<p>300 rows × 3 columns</p>\n",
       "</div>"
      ],
      "text/plain": [
       "                   name                                             ref  pos_i\n",
       "0              A, Ambha            https://dblp.org/pers/a/A:Ambha.html      5\n",
       "1    A, Ameer Suhail P.  https://dblp.org/pers/a/A:Ameer_Suhail_P=.html      5\n",
       "2           A, Anand P.         https://dblp.org/pers/a/A:Anand_P=.html      5\n",
       "3      A, Annis Fathima    https://dblp.org/pers/a/A:Annis_Fathima.html      5\n",
       "4        A, Anu Monisha      https://dblp.org/pers/a/A:Anu_Monisha.html      5\n",
       "..                  ...                                             ...    ...\n",
       "295  Aabdollah, Morteza  https://dblp.org/pers/a/Aabdollah:Morteza.html      5\n",
       "296  Aabed, Mohammed A.  https://dblp.org/pers/a/Aabed:Mohammed_A=.html      5\n",
       "297         Aabel, Lise         https://dblp.org/pers/a/Aabel:Lise.html      5\n",
       "298     Aaber, Zeyad S.     https://dblp.org/pers/a/Aaber:Zeyad_S=.html      5\n",
       "299        Aaberg, Erik        https://dblp.org/pers/a/Aaberg:Erik.html      5\n",
       "\n",
       "[300 rows x 3 columns]"
      ]
     },
     "execution_count": 8,
     "metadata": {},
     "output_type": "execute_result"
    }
   ],
   "source": [
    "df_posi(5)"
   ]
  },
  {
   "cell_type": "code",
   "execution_count": 22,
   "id": "be91efbb",
   "metadata": {
    "ExecuteTime": {
     "end_time": "2021-07-13T18:04:38.682413Z",
     "start_time": "2021-07-13T18:04:38.674482Z"
    }
   },
   "outputs": [],
   "source": []
  },
  {
   "cell_type": "code",
   "execution_count": 23,
   "id": "f82cdfa6",
   "metadata": {
    "ExecuteTime": {
     "end_time": "2021-07-13T18:04:39.787855Z",
     "start_time": "2021-07-13T18:04:39.776851Z"
    }
   },
   "outputs": [
    {
     "data": {
      "text/plain": [
       "9384"
      ]
     },
     "execution_count": 23,
     "metadata": {},
     "output_type": "execute_result"
    }
   ],
   "source": [
    "len(range_to_2815175)"
   ]
  },
  {
   "cell_type": "code",
   "execution_count": 25,
   "id": "081e5e13",
   "metadata": {
    "ExecuteTime": {
     "end_time": "2021-07-13T19:01:45.011659Z",
     "start_time": "2021-07-13T18:04:47.209136Z"
    }
   },
   "outputs": [],
   "source": [
    "l_results = p.map(df_posi,range_to_2815175)"
   ]
  },
  {
   "cell_type": "code",
   "execution_count": 26,
   "id": "66ac1309",
   "metadata": {
    "ExecuteTime": {
     "end_time": "2021-07-13T21:53:57.684144Z",
     "start_time": "2021-07-13T21:53:57.674160Z"
    }
   },
   "outputs": [],
   "source": [
    "p.close()"
   ]
  },
  {
   "cell_type": "code",
   "execution_count": 27,
   "id": "bfafc5e2",
   "metadata": {
    "ExecuteTime": {
     "end_time": "2021-07-13T21:53:59.450394Z",
     "start_time": "2021-07-13T21:53:58.610444Z"
    }
   },
   "outputs": [],
   "source": [
    "df_results = pd.concat(l_results).reset_index(drop=True)"
   ]
  },
  {
   "cell_type": "code",
   "execution_count": 28,
   "id": "05ff54e0",
   "metadata": {
    "ExecuteTime": {
     "end_time": "2021-07-13T21:54:00.475664Z",
     "start_time": "2021-07-13T21:54:00.173870Z"
    }
   },
   "outputs": [],
   "source": [
    "df_results.to_csv('scraper_names_ref.csv',index=False)"
   ]
  },
  {
   "cell_type": "code",
   "execution_count": 29,
   "id": "4553a9f1",
   "metadata": {
    "ExecuteTime": {
     "end_time": "2021-07-13T22:30:49.728095Z",
     "start_time": "2021-07-13T22:30:49.641513Z"
    }
   },
   "outputs": [
    {
     "data": {
      "text/plain": [
       "(162300, 3)"
      ]
     },
     "execution_count": 29,
     "metadata": {},
     "output_type": "execute_result"
    }
   ],
   "source": [
    "df_results.drop_duplicates().shape"
   ]
  },
  {
   "cell_type": "code",
   "execution_count": 30,
   "id": "0a79dfcd",
   "metadata": {
    "ExecuteTime": {
     "end_time": "2021-07-13T22:30:52.601739Z",
     "start_time": "2021-07-13T22:30:52.598039Z"
    }
   },
   "outputs": [
    {
     "data": {
      "text/plain": [
       "(162300, 3)"
      ]
     },
     "execution_count": 30,
     "metadata": {},
     "output_type": "execute_result"
    }
   ],
   "source": [
    "df_results.shape"
   ]
  },
  {
   "cell_type": "code",
   "execution_count": 36,
   "id": "426a0f35",
   "metadata": {
    "ExecuteTime": {
     "end_time": "2021-07-13T22:35:55.866598Z",
     "start_time": "2021-07-13T22:35:55.855880Z"
    }
   },
   "outputs": [
    {
     "data": {
      "text/plain": [
       "300    541\n",
       "Name: pos_i, dtype: int64"
      ]
     },
     "execution_count": 36,
     "metadata": {},
     "output_type": "execute_result"
    }
   ],
   "source": [
    "df_results.pos_i.value_counts().to_frame().pos_i.value_counts()"
   ]
  },
  {
   "cell_type": "code",
   "execution_count": 37,
   "id": "cda93bbc",
   "metadata": {
    "ExecuteTime": {
     "end_time": "2021-07-13T22:36:15.298142Z",
     "start_time": "2021-07-13T22:36:15.287362Z"
    }
   },
   "outputs": [
    {
     "data": {
      "text/plain": [
       "162300"
      ]
     },
     "execution_count": 37,
     "metadata": {},
     "output_type": "execute_result"
    }
   ],
   "source": [
    "300*541"
   ]
  },
  {
   "cell_type": "code",
   "execution_count": 32,
   "id": "437774c6",
   "metadata": {
    "ExecuteTime": {
     "end_time": "2021-07-13T22:34:16.167377Z",
     "start_time": "2021-07-13T22:34:16.134211Z"
    }
   },
   "outputs": [
    {
     "data": {
      "text/html": [
       "<div>\n",
       "<style scoped>\n",
       "    .dataframe tbody tr th:only-of-type {\n",
       "        vertical-align: middle;\n",
       "    }\n",
       "\n",
       "    .dataframe tbody tr th {\n",
       "        vertical-align: top;\n",
       "    }\n",
       "\n",
       "    .dataframe thead th {\n",
       "        text-align: right;\n",
       "    }\n",
       "</style>\n",
       "<table border=\"1\" class=\"dataframe\">\n",
       "  <thead>\n",
       "    <tr style=\"text-align: right;\">\n",
       "      <th></th>\n",
       "      <th>name</th>\n",
       "      <th>ref</th>\n",
       "      <th>pos_i</th>\n",
       "    </tr>\n",
       "  </thead>\n",
       "  <tbody>\n",
       "    <tr>\n",
       "      <th>53588</th>\n",
       "      <td>Touil, Abdelali</td>\n",
       "      <td>https://dblp.org/pers/t/Touil:Abdelali.html</td>\n",
       "      <td>2453100</td>\n",
       "    </tr>\n",
       "  </tbody>\n",
       "</table>\n",
       "</div>"
      ],
      "text/plain": [
       "                  name                                          ref    pos_i\n",
       "53588  Touil, Abdelali  https://dblp.org/pers/t/Touil:Abdelali.html  2453100"
      ]
     },
     "execution_count": 32,
     "metadata": {},
     "output_type": "execute_result"
    }
   ],
   "source": [
    "df_results.sample()"
   ]
  },
  {
   "cell_type": "code",
   "execution_count": null,
   "id": "82a556ae",
   "metadata": {
    "ExecuteTime": {
     "end_time": "2021-07-13T16:52:14.220965Z",
     "start_time": "2021-07-13T12:49:35.944Z"
    }
   },
   "outputs": [],
   "source": [
    "results = pd.concat(dfs).reset_index(drop=True)"
   ]
  },
  {
   "cell_type": "code",
   "execution_count": null,
   "id": "94e7f360",
   "metadata": {
    "ExecuteTime": {
     "end_time": "2021-07-13T16:52:14.221701Z",
     "start_time": "2021-07-13T12:49:35.946Z"
    }
   },
   "outputs": [],
   "source": [
    "results.to_csv('scraper_names_ref.csv',index=False)"
   ]
  },
  {
   "cell_type": "code",
   "execution_count": null,
   "id": "76c6b903",
   "metadata": {},
   "outputs": [],
   "source": []
  },
  {
   "cell_type": "code",
   "execution_count": null,
   "id": "f3a94309",
   "metadata": {},
   "outputs": [],
   "source": []
  },
  {
   "cell_type": "code",
   "execution_count": null,
   "id": "ed70fb79",
   "metadata": {},
   "outputs": [],
   "source": []
  },
  {
   "cell_type": "code",
   "execution_count": null,
   "id": "3f9dce3d",
   "metadata": {},
   "outputs": [],
   "source": []
  },
  {
   "cell_type": "code",
   "execution_count": null,
   "id": "ac4e59ef",
   "metadata": {},
   "outputs": [],
   "source": []
  },
  {
   "cell_type": "code",
   "execution_count": null,
   "id": "55b1fa32",
   "metadata": {},
   "outputs": [],
   "source": []
  },
  {
   "cell_type": "code",
   "execution_count": null,
   "id": "dc653e45",
   "metadata": {},
   "outputs": [],
   "source": []
  },
  {
   "cell_type": "code",
   "execution_count": null,
   "id": "11023b96",
   "metadata": {},
   "outputs": [],
   "source": []
  },
  {
   "cell_type": "code",
   "execution_count": null,
   "id": "2a975b29",
   "metadata": {
    "ExecuteTime": {
     "end_time": "2021-07-13T16:52:14.222516Z",
     "start_time": "2021-07-13T12:49:35.953Z"
    }
   },
   "outputs": [],
   "source": [
    "\n",
    "\n",
    "soup = BeautifulSoup(r.content, 'html.parser')"
   ]
  },
  {
   "cell_type": "code",
   "execution_count": null,
   "id": "794235f4",
   "metadata": {
    "ExecuteTime": {
     "end_time": "2021-07-13T16:52:14.223412Z",
     "start_time": "2021-07-13T12:49:35.954Z"
    }
   },
   "outputs": [],
   "source": [
    "##3 columnas en una lista de 3 objetos\n",
    "columns = soup.select('.column')"
   ]
  },
  {
   "cell_type": "code",
   "execution_count": null,
   "id": "6b0f234a",
   "metadata": {
    "ExecuteTime": {
     "end_time": "2021-07-13T16:52:14.224133Z",
     "start_time": "2021-07-13T12:49:35.955Z"
    }
   },
   "outputs": [],
   "source": [
    "psns =[]\n",
    "for column in columns:\n",
    "    persons = columns[1].find_all('li')\n",
    "    for person in persons:\n",
    "        name = person.select_one('a').text.strip()\n",
    "        ref = person.select_one('a')['href']\n",
    "        psns.append([name,ref])\n",
    "        \n",
    "        \n",
    "    "
   ]
  },
  {
   "cell_type": "code",
   "execution_count": null,
   "id": "69e3678e",
   "metadata": {
    "ExecuteTime": {
     "end_time": "2021-07-13T16:52:14.224944Z",
     "start_time": "2021-07-13T12:49:35.956Z"
    }
   },
   "outputs": [],
   "source": [
    "df = pd.DataFrame(psns,columns=['name','ref'])"
   ]
  },
  {
   "cell_type": "code",
   "execution_count": null,
   "id": "ff428214",
   "metadata": {
    "ExecuteTime": {
     "end_time": "2021-07-13T16:52:14.225952Z",
     "start_time": "2021-07-13T12:49:35.957Z"
    }
   },
   "outputs": [],
   "source": [
    "df['pos_i'] = pos_i"
   ]
  },
  {
   "cell_type": "code",
   "execution_count": null,
   "id": "e7047f0f",
   "metadata": {
    "ExecuteTime": {
     "end_time": "2021-07-13T16:52:14.227064Z",
     "start_time": "2021-07-13T12:49:35.959Z"
    }
   },
   "outputs": [],
   "source": [
    "df"
   ]
  },
  {
   "cell_type": "code",
   "execution_count": null,
   "id": "9d7e2ee9",
   "metadata": {
    "ExecuteTime": {
     "end_time": "2021-07-13T16:52:14.228262Z",
     "start_time": "2021-07-13T12:49:35.960Z"
    }
   },
   "outputs": [],
   "source": [
    "soup.select('p')"
   ]
  },
  {
   "cell_type": "code",
   "execution_count": null,
   "id": "7291dcd7",
   "metadata": {
    "ExecuteTime": {
     "end_time": "2021-07-13T16:52:14.229134Z",
     "start_time": "2021-07-13T12:49:35.961Z"
    }
   },
   "outputs": [],
   "source": [
    "[x.for x in soup.select('p')]"
   ]
  },
  {
   "cell_type": "code",
   "execution_count": null,
   "id": "517a4a4e",
   "metadata": {
    "ExecuteTime": {
     "end_time": "2021-07-13T16:52:14.230073Z",
     "start_time": "2021-07-13T12:49:35.962Z"
    }
   },
   "outputs": [],
   "source": [
    "range_to_2815175 = np.arange(0,2815175,300)"
   ]
  },
  {
   "cell_type": "code",
   "execution_count": null,
   "id": "3b246b9a",
   "metadata": {
    "ExecuteTime": {
     "end_time": "2021-07-13T16:52:14.230937Z",
     "start_time": "2021-07-13T12:49:35.963Z"
    }
   },
   "outputs": [],
   "source": [
    "len(range_to_2815175)"
   ]
  },
  {
   "cell_type": "code",
   "execution_count": null,
   "id": "65ea9055",
   "metadata": {
    "ExecuteTime": {
     "end_time": "2021-07-13T16:52:14.232058Z",
     "start_time": "2021-07-13T12:49:35.965Z"
    }
   },
   "outputs": [],
   "source": [
    "range_to_2815175[0]"
   ]
  },
  {
   "cell_type": "code",
   "execution_count": null,
   "id": "c89def50",
   "metadata": {},
   "outputs": [],
   "source": []
  }
 ],
 "metadata": {
  "kernelspec": {
   "display_name": "LCD_venv",
   "language": "python",
   "name": "lcd"
  },
  "language_info": {
   "codemirror_mode": {
    "name": "ipython",
    "version": 3
   },
   "file_extension": ".py",
   "mimetype": "text/x-python",
   "name": "python",
   "nbconvert_exporter": "python",
   "pygments_lexer": "ipython3",
   "version": "3.8.10"
  },
  "toc": {
   "base_numbering": 1,
   "nav_menu": {},
   "number_sections": true,
   "sideBar": true,
   "skip_h1_title": false,
   "title_cell": "Table of Contents",
   "title_sidebar": "Contents",
   "toc_cell": false,
   "toc_position": {},
   "toc_section_display": true,
   "toc_window_display": false
  }
 },
 "nbformat": 4,
 "nbformat_minor": 5
}
