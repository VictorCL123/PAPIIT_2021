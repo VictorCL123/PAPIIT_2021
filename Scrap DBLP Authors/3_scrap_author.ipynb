{
 "cells": [
  {
   "cell_type": "code",
   "execution_count": 1,
   "id": "1dc6dbb4",
   "metadata": {
    "ExecuteTime": {
     "end_time": "2021-07-29T15:54:36.669999Z",
     "start_time": "2021-07-29T15:54:36.383996Z"
    }
   },
   "outputs": [],
   "source": [
    "import requests\n",
    "from bs4 import BeautifulSoup\n",
    "import pandas as pd\n",
    "import numpy as np\n",
    "import os\n",
    "from multiprocessing import Pool"
   ]
  },
  {
   "cell_type": "code",
   "execution_count": 11,
   "id": "013bb670",
   "metadata": {
    "ExecuteTime": {
     "end_time": "2021-07-29T15:55:20.826554Z",
     "start_time": "2021-07-29T15:55:20.818656Z"
    }
   },
   "outputs": [],
   "source": [
    "url = 'https://dblp.org/pid/125/1647.html' #\n",
    "#url = 'https://dblp.org/pers/a/A:Ambha.html' #None\n",
    "url = 'https://dblp.org/pid/73/1296.html' #MIT"
   ]
  },
  {
   "cell_type": "code",
   "execution_count": 12,
   "id": "003f4c11",
   "metadata": {
    "ExecuteTime": {
     "end_time": "2021-07-29T15:55:23.825284Z",
     "start_time": "2021-07-29T15:55:21.434369Z"
    }
   },
   "outputs": [],
   "source": [
    "r = requests.get(url=url)\n",
    "soup = BeautifulSoup(r.content, 'html.parser')"
   ]
  },
  {
   "cell_type": "code",
   "execution_count": 13,
   "id": "174682e3",
   "metadata": {
    "ExecuteTime": {
     "end_time": "2021-07-29T15:55:24.491969Z",
     "start_time": "2021-07-29T15:55:24.477502Z"
    }
   },
   "outputs": [
    {
     "data": {
      "text/plain": [
       "'Massachusetts Institute of Technology, Cambridge, USA'"
      ]
     },
     "execution_count": 13,
     "metadata": {},
     "output_type": "execute_result"
    }
   ],
   "source": [
    "##en la seccion info\n",
    "soup.find(\"div\", {\"id\": \"info-section\"}).find(\"span\").text"
   ]
  },
  {
   "cell_type": "code",
   "execution_count": 14,
   "id": "4723850f",
   "metadata": {
    "ExecuteTime": {
     "end_time": "2021-07-29T15:55:29.976145Z",
     "start_time": "2021-07-29T15:55:29.963603Z"
    }
   },
   "outputs": [],
   "source": [
    "def extract_affiliation(url):\n",
    "    r = requests.get(url=url)\n",
    "    soup = BeautifulSoup(r.content, 'html.parser')\n",
    "    try:\n",
    "        return soup.find(\"div\", {\"id\": \"info-section\"}).find(\"span\").text\n",
    "    except Exception as e:\n",
    "        return str(e)\n",
    "    "
   ]
  },
  {
   "cell_type": "code",
   "execution_count": null,
   "id": "9ef7299a",
   "metadata": {},
   "outputs": [],
   "source": [
    "def extract_affiliation_df(url):\n",
    "    r = requests.get(url=url)\n",
    "    soup = BeautifulSoup(r.content, 'html.parser')\n",
    "    \n",
    "    try:\n",
    "        aff = soup.find(\"div\", {\"id\": \"info-section\"}).find(\"span\").text\n",
    "        return soup.find(\"div\", {\"id\": \"info-section\"}).find(\"span\").text\n",
    "    except Exception as e:\n",
    "        return str(e)"
   ]
  },
  {
   "cell_type": "code",
   "execution_count": 15,
   "id": "c1f7fd70",
   "metadata": {
    "ExecuteTime": {
     "end_time": "2021-07-29T15:55:30.922758Z",
     "start_time": "2021-07-29T15:55:30.919207Z"
    }
   },
   "outputs": [],
   "source": [
    "def make_pool(func, params, threads=None):\n",
    "    pool = Pool(threads)\n",
    "    data = pool.map(func, params)\n",
    "    pool.close()\n",
    "    pool.join()\n",
    "    del pool\n",
    "    return [x for x in data]"
   ]
  },
  {
   "cell_type": "code",
   "execution_count": 16,
   "id": "b23b5daa",
   "metadata": {
    "ExecuteTime": {
     "end_time": "2021-07-29T15:55:31.737580Z",
     "start_time": "2021-07-29T15:55:31.730887Z"
    }
   },
   "outputs": [],
   "source": [
    "data_path = 'dfs_posicion_inicial/'\n",
    "data_path = 'dfs_pos_i_20210727/'"
   ]
  },
  {
   "cell_type": "code",
   "execution_count": 17,
   "id": "8f923ebb",
   "metadata": {
    "ExecuteTime": {
     "end_time": "2021-07-29T15:55:46.640464Z",
     "start_time": "2021-07-29T15:55:36.157387Z"
    }
   },
   "outputs": [],
   "source": [
    "l = [pd.read_csv(os.path.join(data_path,x)) for x in os.listdir(data_path)]"
   ]
  },
  {
   "cell_type": "code",
   "execution_count": 18,
   "id": "6c29563c",
   "metadata": {
    "ExecuteTime": {
     "end_time": "2021-07-29T15:55:47.887058Z",
     "start_time": "2021-07-29T15:55:46.641416Z"
    }
   },
   "outputs": [],
   "source": [
    "df = pd.concat(l)"
   ]
  },
  {
   "cell_type": "code",
   "execution_count": 19,
   "id": "bd7fd9e1",
   "metadata": {
    "ExecuteTime": {
     "end_time": "2021-07-29T15:55:49.588822Z",
     "start_time": "2021-07-29T15:55:49.328445Z"
    }
   },
   "outputs": [],
   "source": [
    "sample = df.sample(100)"
   ]
  },
  {
   "cell_type": "code",
   "execution_count": 56,
   "id": "03ed252a",
   "metadata": {
    "ExecuteTime": {
     "end_time": "2021-07-28T03:48:06.391801Z",
     "start_time": "2021-07-28T03:41:09.155329Z"
    }
   },
   "outputs": [],
   "source": [
    "sample['aff'] = sample.ref.map(extract_affiliation)"
   ]
  },
  {
   "cell_type": "code",
   "execution_count": 20,
   "id": "defed5b3",
   "metadata": {
    "ExecuteTime": {
     "end_time": "2021-07-29T15:56:14.936842Z",
     "start_time": "2021-07-29T15:55:55.020310Z"
    }
   },
   "outputs": [],
   "source": [
    "sample['aff2'] = make_pool(extract_affiliation, sample.ref)"
   ]
  },
  {
   "cell_type": "code",
   "execution_count": 21,
   "id": "190553f2",
   "metadata": {
    "ExecuteTime": {
     "end_time": "2021-07-29T15:56:23.508005Z",
     "start_time": "2021-07-29T15:56:23.501319Z"
    }
   },
   "outputs": [
    {
     "data": {
      "text/plain": [
       "'NoneType' object has no attribute 'text'                                                                      98\n",
       "La Trobe University, Department of Computer Science and Computer Engineering, Melbourne, Australia              1\n",
       "University of Lisbon, Instituto Superior Técnico, Centro de Recursos Naturais e Ambiente (CERENA), Portugal     1\n",
       "Name: aff2, dtype: int64"
      ]
     },
     "execution_count": 21,
     "metadata": {},
     "output_type": "execute_result"
    }
   ],
   "source": [
    "sample['aff2'].value_counts()"
   ]
  },
  {
   "cell_type": "code",
   "execution_count": 64,
   "id": "8c592468",
   "metadata": {
    "ExecuteTime": {
     "end_time": "2021-07-28T03:53:29.596560Z",
     "start_time": "2021-07-28T03:53:29.590078Z"
    }
   },
   "outputs": [
    {
     "data": {
      "text/plain": [
       "'NoneType' object has no attribute 'text'                                                                   99\n",
       "Delft University of Technology, Delft Center of Systems and Control, Delft, The Netherlands (and 3 more)     1\n",
       "Name: aff, dtype: int64"
      ]
     },
     "execution_count": 64,
     "metadata": {},
     "output_type": "execute_result"
    }
   ],
   "source": [
    "sample['aff'].value_counts()"
   ]
  },
  {
   "cell_type": "code",
   "execution_count": 22,
   "id": "8a93abea",
   "metadata": {
    "ExecuteTime": {
     "end_time": "2021-07-29T15:56:42.855559Z",
     "start_time": "2021-07-29T15:56:42.798852Z"
    }
   },
   "outputs": [
    {
     "ename": "AttributeError",
     "evalue": "'DataFrame' object has no attribute 'aff'",
     "output_type": "error",
     "traceback": [
      "\u001b[0;31m---------------------------------------------------------------------------\u001b[0m",
      "\u001b[0;31mAttributeError\u001b[0m                            Traceback (most recent call last)",
      "\u001b[0;32m<ipython-input-22-385bc896a2ab>\u001b[0m in \u001b[0;36m<module>\u001b[0;34m\u001b[0m\n\u001b[0;32m----> 1\u001b[0;31m \u001b[0msample\u001b[0m\u001b[0;34m[\u001b[0m\u001b[0msample\u001b[0m\u001b[0;34m.\u001b[0m\u001b[0maff\u001b[0m\u001b[0;34m==\u001b[0m\u001b[0;34m'0002'\u001b[0m\u001b[0;34m]\u001b[0m\u001b[0;34m\u001b[0m\u001b[0;34m\u001b[0m\u001b[0m\n\u001b[0m",
      "\u001b[0;32m~/lcd/virtual_envs/lcd/lib/python3.8/site-packages/pandas/core/generic.py\u001b[0m in \u001b[0;36m__getattr__\u001b[0;34m(self, name)\u001b[0m\n\u001b[1;32m   5463\u001b[0m             \u001b[0;32mif\u001b[0m \u001b[0mself\u001b[0m\u001b[0;34m.\u001b[0m\u001b[0m_info_axis\u001b[0m\u001b[0;34m.\u001b[0m\u001b[0m_can_hold_identifiers_and_holds_name\u001b[0m\u001b[0;34m(\u001b[0m\u001b[0mname\u001b[0m\u001b[0;34m)\u001b[0m\u001b[0;34m:\u001b[0m\u001b[0;34m\u001b[0m\u001b[0;34m\u001b[0m\u001b[0m\n\u001b[1;32m   5464\u001b[0m                 \u001b[0;32mreturn\u001b[0m \u001b[0mself\u001b[0m\u001b[0;34m[\u001b[0m\u001b[0mname\u001b[0m\u001b[0;34m]\u001b[0m\u001b[0;34m\u001b[0m\u001b[0;34m\u001b[0m\u001b[0m\n\u001b[0;32m-> 5465\u001b[0;31m             \u001b[0;32mreturn\u001b[0m \u001b[0mobject\u001b[0m\u001b[0;34m.\u001b[0m\u001b[0m__getattribute__\u001b[0m\u001b[0;34m(\u001b[0m\u001b[0mself\u001b[0m\u001b[0;34m,\u001b[0m \u001b[0mname\u001b[0m\u001b[0;34m)\u001b[0m\u001b[0;34m\u001b[0m\u001b[0;34m\u001b[0m\u001b[0m\n\u001b[0m\u001b[1;32m   5466\u001b[0m \u001b[0;34m\u001b[0m\u001b[0m\n\u001b[1;32m   5467\u001b[0m     \u001b[0;32mdef\u001b[0m \u001b[0m__setattr__\u001b[0m\u001b[0;34m(\u001b[0m\u001b[0mself\u001b[0m\u001b[0;34m,\u001b[0m \u001b[0mname\u001b[0m\u001b[0;34m:\u001b[0m \u001b[0mstr\u001b[0m\u001b[0;34m,\u001b[0m \u001b[0mvalue\u001b[0m\u001b[0;34m)\u001b[0m \u001b[0;34m->\u001b[0m \u001b[0;32mNone\u001b[0m\u001b[0;34m:\u001b[0m\u001b[0;34m\u001b[0m\u001b[0;34m\u001b[0m\u001b[0m\n",
      "\u001b[0;31mAttributeError\u001b[0m: 'DataFrame' object has no attribute 'aff'"
     ]
    }
   ],
   "source": [
    "sample[sample.aff=='0002']"
   ]
  },
  {
   "cell_type": "code",
   "execution_count": null,
   "id": "3a9329f7",
   "metadata": {
    "ExecuteTime": {
     "start_time": "2021-07-29T15:56:56.391Z"
    }
   },
   "outputs": [],
   "source": [
    "df['aff'] = make_pool(extract_affiliation, df.ref)"
   ]
  },
  {
   "cell_type": "code",
   "execution_count": null,
   "id": "9008f27e",
   "metadata": {
    "ExecuteTime": {
     "start_time": "2021-07-28T03:54:17.046Z"
    }
   },
   "outputs": [],
   "source": [
    "df.to_pickle('df_20210729_affiliation.pkl')"
   ]
  },
  {
   "cell_type": "code",
   "execution_count": null,
   "id": "63ddcb92",
   "metadata": {},
   "outputs": [],
   "source": []
  }
 ],
 "metadata": {
  "kernelspec": {
   "display_name": "LCD_venv",
   "language": "python",
   "name": "lcd"
  },
  "language_info": {
   "codemirror_mode": {
    "name": "ipython",
    "version": 3
   },
   "file_extension": ".py",
   "mimetype": "text/x-python",
   "name": "python",
   "nbconvert_exporter": "python",
   "pygments_lexer": "ipython3",
   "version": "3.8.10"
  },
  "toc": {
   "base_numbering": 1,
   "nav_menu": {},
   "number_sections": true,
   "sideBar": true,
   "skip_h1_title": false,
   "title_cell": "Table of Contents",
   "title_sidebar": "Contents",
   "toc_cell": false,
   "toc_position": {},
   "toc_section_display": true,
   "toc_window_display": false
  }
 },
 "nbformat": 4,
 "nbformat_minor": 5
}
