{
 "cells": [
  {
   "cell_type": "code",
   "execution_count": null,
   "metadata": {
    "ExecuteTime": {
     "end_time": "2021-05-25T05:29:46.642930Z",
     "start_time": "2021-05-25T05:29:46.637912Z"
    }
   },
   "outputs": [],
   "source": [
    "import xml.etree.ElementTree as ET"
   ]
  },
  {
   "cell_type": "code",
   "execution_count": null,
   "metadata": {
    "ExecuteTime": {
     "end_time": "2021-05-25T05:29:46.778065Z",
     "start_time": "2021-05-25T05:29:46.644384Z"
    }
   },
   "outputs": [],
   "source": [
    "arch = open(\"authorships_15_20_only.csv\",\"w\")"
   ]
  },
  {
   "cell_type": "code",
   "execution_count": null,
   "metadata": {
    "ExecuteTime": {
     "end_time": "2021-05-25T05:33:28.485887Z",
     "start_time": "2021-05-25T05:32:11.343341Z"
    },
    "scrolled": true
   },
   "outputs": [],
   "source": [
    "arch.write(\"id_article,author,year\\n\")\n",
    "n_articulo = 0\n",
    "for event, elem in ET.iterparse(\"dblp_2015_2020_UTF_8.xml\", events=(\"start\",\"end\")):        \n",
    "    if (elem.tag == \"article\" or elem.tag == \"inproceedings\") and event == \"end\":\n",
    "        try:\n",
    "            articulo = elem.get('key')\n",
    "            autores = [x.text for x in elem.findall('author')]\n",
    "            anio = [x.text for x in elem.findall(\"year\")][0]\n",
    "        except:\n",
    "            continue\n",
    "        for autor in autores:\n",
    "            arch.write(articulo+\",\"+autor+\",\"+anio+\"\\n\")\n",
    "        elem.clear()"
   ]
  },
  {
   "cell_type": "code",
   "execution_count": null,
   "metadata": {
    "ExecuteTime": {
     "end_time": "2021-05-25T05:33:28.490904Z",
     "start_time": "2021-05-25T05:33:28.487440Z"
    }
   },
   "outputs": [],
   "source": [
    "print(articulo)"
   ]
  },
  {
   "cell_type": "code",
   "execution_count": null,
   "metadata": {
    "ExecuteTime": {
     "end_time": "2021-05-25T05:33:29.197552Z",
     "start_time": "2021-05-25T05:33:28.493612Z"
    }
   },
   "outputs": [],
   "source": [
    "arch.close()"
   ]
  }
 ],
 "metadata": {
  "kernelspec": {
   "display_name": "Python 3",
   "language": "python",
   "name": "python3"
  },
  "language_info": {
   "codemirror_mode": {
    "name": "ipython",
    "version": 3
   },
   "file_extension": ".py",
   "mimetype": "text/x-python",
   "name": "python",
   "nbconvert_exporter": "python",
   "pygments_lexer": "ipython3",
   "version": "3.6.9"
  },
  "toc": {
   "base_numbering": 1,
   "nav_menu": {},
   "number_sections": true,
   "sideBar": true,
   "skip_h1_title": false,
   "title_cell": "Table of Contents",
   "title_sidebar": "Contents",
   "toc_cell": false,
   "toc_position": {},
   "toc_section_display": true,
   "toc_window_display": false
  }
 },
 "nbformat": 4,
 "nbformat_minor": 4
}
